{
  "cells": [
    {
      "cell_type": "code",
      "execution_count": null,
      "metadata": {
        "id": "aRmVw2zaldjN",
        "collapsed": true
      },
      "outputs": [],
      "source": [
        "gpu_info = !nvidia-smi\n",
        "gpu_info = '\\n'.join(gpu_info)\n",
        "if gpu_info.find('failed') >= 0:\n",
        "  print('Not connected to a GPU')\n",
        "else:\n",
        "  print(gpu_info)\n",
        "\n",
        "print(\"Num GPUs Available: \", len(tf.config.list_physical_devices('GPU')))\n",
        "\n",
        "# Enable GPU growth if necessary\n",
        "for device in tf.config.list_physical_devices('GPU'):\n",
        "    tf.config.experimental.set_memory_growth(device, True)"
      ]
    },
    {
      "cell_type": "code",
      "execution_count": null,
      "metadata": {
        "id": "txOhIN7bmGgp"
      },
      "outputs": [],
      "source": [
        "!unzip /content/drive/MyDrive/texts_party.zip"
      ]
    },
    {
      "cell_type": "code",
      "execution_count": null,
      "metadata": {
        "id": "kzvxV5GbnME7"
      },
      "outputs": [],
      "source": [
        "import os\n",
        "import pandas as pd\n",
        "import numpy as np\n",
        "data = []\n",
        "for party in os.listdir('/content/texts_party/'):\n",
        "  for text in os.listdir('/content/texts_party/' + party):\n",
        "    if party == \"sp.a\" or party == 'vooruit': #randomly select half of the vooruit / sp.a texts and merge into 'vooruit'\n",
        "        choices = [True, False]\n",
        "        choice = np.random.choice(choices,1)\n",
        "        if choice:\n",
        "          party_label = 'vooruit'\n",
        "        else:\n",
        "          continue\n",
        "    else:\n",
        "      party_label = party\n",
        "    dir = '/content/texts_party/' + party + '/' + text\n",
        "    file = open(dir, \"r\")\n",
        "    content = file.read()\n",
        "    file.close()\n",
        "    data.append({'text': content, 'label': party_label})\n",
        "\n",
        "df = pd.DataFrame(data)"
      ]
    },
    {
      "cell_type": "code",
      "execution_count": null,
      "metadata": {
        "id": "papqd_CkoSya"
      },
      "outputs": [],
      "source": [
        "df_aggregated['Median_Entropy'].var()"
      ]
    },
    {
      "cell_type": "code",
      "execution_count": null,
      "metadata": {
        "id": "svWqHOkDrivz"
      },
      "outputs": [],
      "source": [
        "import numpy as np\n",
        "import pandas as pd\n",
        "import tensorflow as tf\n",
        "from sklearn.model_selection import train_test_split\n",
        "from sklearn.preprocessing import LabelEncoder\n",
        "from transformers import BertTokenizer, TFBertForSequenceClassification"
      ]
    },
    {
      "cell_type": "code",
      "execution_count": null,
      "metadata": {
        "id": "KZg-Id4xrjhU"
      },
      "outputs": [],
      "source": [
        "label_encoder = LabelEncoder()\n",
        "df['label_encoded'] = label_encoder.fit_transform(df['label'])\n",
        "num_classes = len(set(df['label_encoded']))"
      ]
    },
    {
      "cell_type": "code",
      "execution_count": null,
      "metadata": {
        "id": "iyEguuyGroui"
      },
      "outputs": [],
      "source": [
        "train_df, test_df = train_test_split(df, test_size=0.15, stratify=df['label_encoded'], random_state=42)\n",
        "\n",
        "# Load the BERT tokenizer\n",
        "tokenizer = BertTokenizer.from_pretrained('bert-base-uncased')\n",
        "\n",
        "# Function to tokenize and prepare input features\n",
        "def encode_texts(texts, tokenizer, max_length=128):\n",
        "    return tokenizer(texts.tolist(), max_length=max_length, padding=True, truncation=True, return_tensors='tf')\n",
        "\n",
        "# Tokenize the training and test data\n",
        "train_encodings = encode_texts(train_df['text'], tokenizer)\n",
        "test_encodings = encode_texts(test_df['text'], tokenizer)\n",
        "\n",
        "# Create TensorFlow datasets\n",
        "train_dataset = tf.data.Dataset.from_tensor_slices((dict(train_encodings), train_df['label_encoded'].values)).shuffle(len(train_df)).batch(32)\n",
        "test_dataset = tf.data.Dataset.from_tensor_slices((dict(test_encodings), test_df['label_encoded'].values)).batch(32)"
      ]
    },
    {
      "cell_type": "code",
      "execution_count": null,
      "metadata": {
        "colab": {
          "base_uri": "https://localhost:8080/",
          "height": 451,
          "referenced_widgets": [
            "b59adb710c944c2db10b746fa0d30635",
            "7e430fd915534d21b4791eac894db3ea",
            "b5e2dd88cf6544cfbcc9314964c75bfa",
            "115e1892685747349c04985936cfc57f",
            "0672df6bbdb74189993defd3073b8f5a",
            "90f6d066ada84cc7b2e4f7eef6e919eb",
            "553a53bf8489405eb73e2e83f4044cec",
            "eb2812e00ae24dac8ba7747019f393b2",
            "3897c446f22c444c83aaeb819d79d3df",
            "3d9db86e0a45438f8fca86bc185127d2",
            "3f05f826735c4874858f996f98c726c4"
          ]
        },
        "id": "KRNhmXb7rypS",
        "outputId": "5f6e5fb7-c050-46a4-c7e1-3f2ba722e137"
      },
      "outputs": [
        {
          "data": {
            "application/vnd.jupyter.widget-view+json": {
              "model_id": "b59adb710c944c2db10b746fa0d30635",
              "version_major": 2,
              "version_minor": 0
            },
            "text/plain": [
              "model.safetensors:   0%|          | 0.00/440M [00:00<?, ?B/s]"
            ]
          },
          "metadata": {},
          "output_type": "display_data"
        },
        {
          "name": "stderr",
          "output_type": "stream",
          "text": [
            "All PyTorch model weights were used when initializing TFBertForSequenceClassification.\n",
            "\n",
            "Some weights or buffers of the TF 2.0 model TFBertForSequenceClassification were not initialized from the PyTorch model and are newly initialized: ['classifier.weight', 'classifier.bias']\n",
            "You should probably TRAIN this model on a down-stream task to be able to use it for predictions and inference.\n"
          ]
        },
        {
          "name": "stdout",
          "output_type": "stream",
          "text": [
            "Epoch 1/5\n"
          ]
        },
        {
          "name": "stderr",
          "output_type": "stream",
          "text": [
            "WARNING:tensorflow:AutoGraph could not transform <function infer_framework at 0x7baffd977760> and will run it as-is.\n",
            "Cause: for/else statement not yet supported\n",
            "To silence this warning, decorate the function with @tf.autograph.experimental.do_not_convert\n"
          ]
        },
        {
          "name": "stdout",
          "output_type": "stream",
          "text": [
            "WARNING: AutoGraph could not transform <function infer_framework at 0x7baffd977760> and will run it as-is.\n",
            "Cause: for/else statement not yet supported\n",
            "To silence this warning, decorate the function with @tf.autograph.experimental.do_not_convert\n",
            "1063/1063 [==============================] - 533s 428ms/step - loss: 1.1365 - accuracy: 0.4844 - val_loss: 1.0619 - val_accuracy: 0.5326\n",
            "Epoch 2/5\n",
            "1063/1063 [==============================] - 445s 419ms/step - loss: 1.0468 - accuracy: 0.5406 - val_loss: 1.0502 - val_accuracy: 0.5319\n",
            "Epoch 3/5\n",
            "1063/1063 [==============================] - 445s 418ms/step - loss: 0.9893 - accuracy: 0.5731 - val_loss: 1.0311 - val_accuracy: 0.5448\n",
            "Epoch 4/5\n",
            "1063/1063 [==============================] - 445s 418ms/step - loss: 0.9195 - accuracy: 0.6076 - val_loss: 1.0556 - val_accuracy: 0.5438\n",
            "Epoch 5/5\n",
            "1063/1063 [==============================] - 445s 418ms/step - loss: 0.8305 - accuracy: 0.6531 - val_loss: 1.2180 - val_accuracy: 0.5363\n",
            "188/188 [==============================] - 24s 127ms/step - loss: 1.2180 - accuracy: 0.5363\n",
            "Test Accuracy: 0.5363\n"
          ]
        }
      ],
      "source": [
        "model = TFBertForSequenceClassification.from_pretrained('bert-base-uncased', num_labels=num_classes)\n",
        "\n",
        "# Compile the model\n",
        "optimizer = tf.keras.optimizers.Adam(learning_rate=3e-5)\n",
        "loss = tf.keras.losses.SparseCategoricalCrossentropy(from_logits=True)\n",
        "model.compile(optimizer=optimizer, loss=loss, metrics=['accuracy'])\n",
        "\n",
        "# Train the model\n",
        "history = model.fit(train_dataset, validation_data=test_dataset, epochs=5)\n",
        "\n",
        "# Save the model\n",
        "model.save_pretrained('/content/drive/MyDrive/bert-party_classification')\n",
        "\n",
        "# Evaluate the model\n",
        "evaluation = model.evaluate(test_dataset)\n",
        "print(f\"Test Accuracy: {evaluation[1]:.4f}\")"
      ]
    },
    {
      "cell_type": "code",
      "execution_count": null,
      "metadata": {
        "id": "4df_pBBv7IcV"
      },
      "outputs": [],
      "source": [
        "!unzip /content/drive/MyDrive/texts.zip"
      ]
    },
    {
      "cell_type": "code",
      "execution_count": null,
      "metadata": {
        "id": "Xs2Ii_Op8xM2"
      },
      "outputs": [],
      "source": [
        "from scipy.stats import entropy\n",
        "\n",
        "\n",
        "def preprocess_text(text):\n",
        "  inputs = tokenizer(text, return_tensors = \"tf\", padding=True, truncation=True, max_length=512)\n",
        "  return inputs\n",
        "\n",
        "def compute_entropy(probabilities):\n",
        "  return entropy(probabilities, base=2)"
      ]
    },
    {
      "cell_type": "code",
      "execution_count": null,
      "metadata": {
        "colab": {
          "background_save": true,
          "base_uri": "https://localhost:8080/"
        },
        "id": "Vlex6YeN691L",
        "outputId": "a5e0a481-7921-449f-b79a-cb964959c227"
      },
      "outputs": [
        {
          "name": "stderr",
          "output_type": "stream",
          "text": [
            "All model checkpoint layers were used when initializing TFBertForSequenceClassification.\n",
            "\n",
            "All the layers of TFBertForSequenceClassification were initialized from the model checkpoint at /content/drive/MyDrive/bert-party_classification.\n",
            "If your task is similar to the task the model of the checkpoint was trained on, you can already use TFBertForSequenceClassification for predictions without further training.\n",
            "/usr/local/lib/python3.10/dist-packages/huggingface_hub/utils/_token.py:88: UserWarning: \n",
            "The secret `HF_TOKEN` does not exist in your Colab secrets.\n",
            "To authenticate with the Hugging Face Hub, create a token in your settings tab (https://huggingface.co/settings/tokens), set it as secret in your Google Colab and restart your session.\n",
            "You will be able to reuse this secret in all of your notebooks.\n",
            "Please note that authentication is recommended but still optional to access public models or datasets.\n",
            "  warnings.warn(\n"
          ]
        }
      ],
      "source": [
        "import os\n",
        "\n",
        "model = TFBertForSequenceClassification.from_pretrained('/content/drive/MyDrive/bert-party_classification')\n",
        "tokenizer = BertTokenizer.from_pretrained('bert-base-uncased')\n",
        "\n",
        "data = []\n",
        "gen_person = (pers for pers in os.listdir('/content/texts/') if pers not in df['person'].unique())\n",
        "for person in gen_person:\n",
        "  for text in os.listdir('/content/texts/' + person):\n",
        "    dir = '/content/texts/' + person + '/' + text\n",
        "    file = open(dir, \"r\")\n",
        "    content = file.read()\n",
        "    file.close()\n",
        "    inputs = preprocess_text(content)\n",
        "    outputs = model(inputs)\n",
        "    logits = outputs.logits\n",
        "    probabilities = tf.nn.softmax(logits, axis=-1).numpy().flatten()\n",
        "    entropy_score = compute_entropy(probabilities)\n",
        "    data.append({'text': content, 'person': person, 'text_id': text, 'entropy': entropy_score})\n",
        "\n",
        "df_v2 = pd.DataFrame(data)"
      ]
    },
    {
      "cell_type": "code",
      "execution_count": null,
      "metadata": {
        "id": "6j_0Dxz2J9Ki",
        "colab": {
          "base_uri": "https://localhost:8080/",
          "height": 148
        },
        "outputId": "5eba64fd-0440-46f7-8793-d745ae0353c1"
      },
      "outputs": [
        {
          "output_type": "error",
          "ename": "NameError",
          "evalue": "name 'data' is not defined",
          "traceback": [
            "\u001b[0;31m---------------------------------------------------------------------------\u001b[0m",
            "\u001b[0;31mNameError\u001b[0m                                 Traceback (most recent call last)",
            "\u001b[0;32m<ipython-input-57-039b238b38ef>\u001b[0m in \u001b[0;36m<cell line: 1>\u001b[0;34m()\u001b[0m\n\u001b[0;32m----> 1\u001b[0;31m \u001b[0mdf\u001b[0m \u001b[0;34m=\u001b[0m \u001b[0mpd\u001b[0m\u001b[0;34m.\u001b[0m\u001b[0mDataFrame\u001b[0m\u001b[0;34m(\u001b[0m\u001b[0mdata\u001b[0m\u001b[0;34m)\u001b[0m\u001b[0;34m\u001b[0m\u001b[0;34m\u001b[0m\u001b[0m\n\u001b[0m",
            "\u001b[0;31mNameError\u001b[0m: name 'data' is not defined"
          ]
        }
      ],
      "source": [
        "df = pd.DataFrame(data)"
      ]
    },
    {
      "cell_type": "code",
      "execution_count": null,
      "metadata": {
        "colab": {
          "base_uri": "https://localhost:8080/",
          "height": 479
        },
        "id": "KbzeduMN9umR",
        "outputId": "e3fb0ae2-69a8-4779-b034-88935669b376"
      },
      "outputs": [
        {
          "data": {
            "application/vnd.google.colaboratory.intrinsic+json": {
              "summary": "{\n  \"name\": \"df\",\n  \"rows\": 12281,\n  \"fields\": [\n    {\n      \"column\": \"text\",\n      \"properties\": {\n        \"dtype\": \"string\",\n        \"num_unique_values\": 11710,\n        \"samples\": [\n          \"Wij zijn er klaar voor! @cdenv #gezinsdag #veel tsjeefkes #welkom https://t.co/D1VwIZMpeI\",\n          \"De eigenaar van de kerncentrale, energiemaatschappij EdF (Electricit\\u00e9 de France), werd door de ASN in gebreke gesteld. 'De kerncentrale van Gravelines is de grootste kerncentrale van Europa met een vermogen van bijna 5.500 megawatt', zegt milieuactivist Peter Bossu. 'Tegelijk is het ook \\u00e9\\u00e9n van de kwetsbaarste. De zes kernreactoren dateren uit de jaren tachtig en zijn van gewapend beton. Dat begint stilaan betonrot te vertonen.' \\n 'In een straal van 10 kilometer rond de kerncentrale bevinden zich bovendien acht bedrijven met gevaarlijke stoffen. Uit een risicoanalyse blijkt dat Gravelines de meest risicovolle Franse kerncentrale is. Als daar iets verkeerd gaat, zal het grootste deel van de Belgische kust en West-Vlaanderen binnen het uur met radioactief cesium besmet worden.'  \\n De Franse regering-Macron wil kernenergie afbouwen. De centrale in Gravelines zou daarom binnen enkele jaren worden gesloten, al is dat niet concreet. 'Voorlopig blijft Gravelines een tikkende tijdbom. Ik hoop dat er niets gebeurt, maar als dat wel het geval is, is een kernramp vergelijkbaar met Tsjernobyl of Fukushima niet ondenkbaar', zegt Bossu.  \\n Provinciegouverneur Carl Decaluw\\u00e9 werd van de bevindingen van de ASN op de hoogte gesteld. 'Het Belgische FANC (Federaal Agentschap voor Nucleaire Controle) volgt alles op de voet. Gravelines krijgt door de coronacrisis krediet tot eind oktober 2020', zegt hij.  \\n De grensburgemeesters volgen de situatie met argusogen. 'Paniek zaaien is niet nodig', zegt burgemeester van Koksijde Marc Van den Bussche (LB).  (smk) \\n\",\n          \"Van onze medewerker Ivan Elegeert. Moerbeke'In de eerste dagen van de werken zijn we wel enkele keren uit onze slof geschoten omdat de bewegwijzering niet was aangepast', vertelt Martine Van Hecke van Boetiek Jacqueline, die al meer dan een halve eeuw in de straat is gevestigd. 'Want onze zaken blijven ten alle tijde bereikbaar tijdens deze fase van de werken. Het stadsbestuur heeft met de aannemer goede afspraken gemaakt. Maar ze moeten uiteraard wel correct worden uitgevoerd. In elk geval blijft de grote openbare parking tegenover onze zaak vrijwel altijd bereikbaar. Lukt dat toch niet, dan kunnen klanten terecht op de parking van Vleeshal De Nul in de Zelestraat. We proberen creatief om te gaan met de wegenwerken.' In november geeft Martine namelijk bij elke aankoop vijf procent extra korting, als compensatie voor de werken.. Maar dat is niet de enige ingrijpende maatregel die het stadsbestuur plant. Wanneer de werken achter de rug zullen zijn, zal de grote gratis parking in de straat betalend worden. 'Dat doen we op vraag van de buurtbewoners', stelt schepen van Openbare Werken Sabine Van Rysselberghe (Open VLD). 'Nu gebruiken sommige bezoekers van het ziekenhuis de parking als alternatief voor de betalende parking van de kliniek, waardoor wagens hier soms urenlang blijven staan. Door ze betalend te maken zal er een grotere rotatie komen. Dat komt ook de handelaars ten goede. De parking zal ook uitgebreid en heraangelegd worden. Daardoor zal ook het verlies van de parkeerplaatsen in de straat worden gecompenseerd', aldus nog Van Rysselberghe.\"\n        ],\n        \"semantic_type\": \"\",\n        \"description\": \"\"\n      }\n    },\n    {\n      \"column\": \"person\",\n      \"properties\": {\n        \"dtype\": \"category\",\n        \"num_unique_values\": 195,\n        \"samples\": [\n          \"jan vermassen\",\n          \"freek coopman\",\n          \"vanessa bombeeck\"\n        ],\n        \"semantic_type\": \"\",\n        \"description\": \"\"\n      }\n    },\n    {\n      \"column\": \"text_id\",\n      \"properties\": {\n        \"dtype\": \"category\",\n        \"num_unique_values\": 200,\n        \"samples\": [\n          \"67.txt\",\n          \"15.txt\",\n          \"115.txt\"\n        ],\n        \"semantic_type\": \"\",\n        \"description\": \"\"\n      }\n    },\n    {\n      \"column\": \"entropy\",\n      \"properties\": {\n        \"dtype\": \"number\",\n        \"std\": 0.6422956650206759,\n        \"min\": 0.02646162149934266,\n        \"max\": 1.9991180784620461,\n        \"num_unique_values\": 11671,\n        \"samples\": [\n          1.245727954387362,\n          1.4827274425302994,\n          1.789328825425368\n        ],\n        \"semantic_type\": \"\",\n        \"description\": \"\"\n      }\n    }\n  ]\n}",
              "type": "dataframe",
              "variable_name": "df"
            },
            "text/html": [
              "\n",
              "  <div id=\"df-8848b08a-919b-44ba-a943-e44c9b9eca7e\" class=\"colab-df-container\">\n",
              "    <div>\n",
              "<style scoped>\n",
              "    .dataframe tbody tr th:only-of-type {\n",
              "        vertical-align: middle;\n",
              "    }\n",
              "\n",
              "    .dataframe tbody tr th {\n",
              "        vertical-align: top;\n",
              "    }\n",
              "\n",
              "    .dataframe thead th {\n",
              "        text-align: right;\n",
              "    }\n",
              "</style>\n",
              "<table border=\"1\" class=\"dataframe\">\n",
              "  <thead>\n",
              "    <tr style=\"text-align: right;\">\n",
              "      <th></th>\n",
              "      <th>text</th>\n",
              "      <th>person</th>\n",
              "      <th>text_id</th>\n",
              "      <th>entropy</th>\n",
              "    </tr>\n",
              "  </thead>\n",
              "  <tbody>\n",
              "    <tr>\n",
              "      <th>0</th>\n",
              "      <td>Een mooie, glazen fles water, met het logo van...</td>\n",
              "      <td>gerrit budts</td>\n",
              "      <td>103.txt</td>\n",
              "      <td>1.902138</td>\n",
              "    </tr>\n",
              "    <tr>\n",
              "      <th>1</th>\n",
              "      <td>Liefst 120.000 Belgen zweerden vorig jaar een ...</td>\n",
              "      <td>gerrit budts</td>\n",
              "      <td>95.txt</td>\n",
              "      <td>1.823194</td>\n",
              "    </tr>\n",
              "    <tr>\n",
              "      <th>2</th>\n",
              "      <td>Hittegolven en ijsjes: het is de perfecte matc...</td>\n",
              "      <td>gerrit budts</td>\n",
              "      <td>85.txt</td>\n",
              "      <td>0.770592</td>\n",
              "    </tr>\n",
              "    <tr>\n",
              "      <th>3</th>\n",
              "      <td>“Ze hadden ons 360 overuren beloofd, maar ons ...</td>\n",
              "      <td>gerrit budts</td>\n",
              "      <td>58.txt</td>\n",
              "      <td>0.957655</td>\n",
              "    </tr>\n",
              "    <tr>\n",
              "      <th>4</th>\n",
              "      <td>He t einde van de lage rente en van decoronast...</td>\n",
              "      <td>gerrit budts</td>\n",
              "      <td>187.txt</td>\n",
              "      <td>1.863524</td>\n",
              "    </tr>\n",
              "    <tr>\n",
              "      <th>...</th>\n",
              "      <td>...</td>\n",
              "      <td>...</td>\n",
              "      <td>...</td>\n",
              "      <td>...</td>\n",
              "    </tr>\n",
              "    <tr>\n",
              "      <th>12276</th>\n",
              "      <td>@EA_CoR @CllrGillianFord @cllrkmac @MairiGouge...</td>\n",
              "      <td>karl vanlouwe</td>\n",
              "      <td>186.txt</td>\n",
              "      <td>0.303174</td>\n",
              "    </tr>\n",
              "    <tr>\n",
              "      <th>12277</th>\n",
              "      <td>Het staatsmanschap van enkele partijvoorzitter...</td>\n",
              "      <td>karl vanlouwe</td>\n",
              "      <td>17.txt</td>\n",
              "      <td>1.788003</td>\n",
              "    </tr>\n",
              "    <tr>\n",
              "      <th>12278</th>\n",
              "      <td>Vlaams parlementslid en gemeenteraadslid in Ga...</td>\n",
              "      <td>karl vanlouwe</td>\n",
              "      <td>77.txt</td>\n",
              "      <td>1.912417</td>\n",
              "    </tr>\n",
              "    <tr>\n",
              "      <th>12279</th>\n",
              "      <td>En nog een schandaal : Brussels Expo betaalde ...</td>\n",
              "      <td>karl vanlouwe</td>\n",
              "      <td>189.txt</td>\n",
              "      <td>1.533695</td>\n",
              "    </tr>\n",
              "    <tr>\n",
              "      <th>12280</th>\n",
              "      <td>\\nverzendcode: IDM\\n\\n60 (2014-2015) – Nr. 17\\...</td>\n",
              "      <td>karl vanlouwe</td>\n",
              "      <td>153.txt</td>\n",
              "      <td>1.945636</td>\n",
              "    </tr>\n",
              "  </tbody>\n",
              "</table>\n",
              "<p>12281 rows × 4 columns</p>\n",
              "</div>\n",
              "    <div class=\"colab-df-buttons\">\n",
              "\n",
              "  <div class=\"colab-df-container\">\n",
              "    <button class=\"colab-df-convert\" onclick=\"convertToInteractive('df-8848b08a-919b-44ba-a943-e44c9b9eca7e')\"\n",
              "            title=\"Convert this dataframe to an interactive table.\"\n",
              "            style=\"display:none;\">\n",
              "\n",
              "  <svg xmlns=\"http://www.w3.org/2000/svg\" height=\"24px\" viewBox=\"0 -960 960 960\">\n",
              "    <path d=\"M120-120v-720h720v720H120Zm60-500h600v-160H180v160Zm220 220h160v-160H400v160Zm0 220h160v-160H400v160ZM180-400h160v-160H180v160Zm440 0h160v-160H620v160ZM180-180h160v-160H180v160Zm440 0h160v-160H620v160Z\"/>\n",
              "  </svg>\n",
              "    </button>\n",
              "\n",
              "  <style>\n",
              "    .colab-df-container {\n",
              "      display:flex;\n",
              "      gap: 12px;\n",
              "    }\n",
              "\n",
              "    .colab-df-convert {\n",
              "      background-color: #E8F0FE;\n",
              "      border: none;\n",
              "      border-radius: 50%;\n",
              "      cursor: pointer;\n",
              "      display: none;\n",
              "      fill: #1967D2;\n",
              "      height: 32px;\n",
              "      padding: 0 0 0 0;\n",
              "      width: 32px;\n",
              "    }\n",
              "\n",
              "    .colab-df-convert:hover {\n",
              "      background-color: #E2EBFA;\n",
              "      box-shadow: 0px 1px 2px rgba(60, 64, 67, 0.3), 0px 1px 3px 1px rgba(60, 64, 67, 0.15);\n",
              "      fill: #174EA6;\n",
              "    }\n",
              "\n",
              "    .colab-df-buttons div {\n",
              "      margin-bottom: 4px;\n",
              "    }\n",
              "\n",
              "    [theme=dark] .colab-df-convert {\n",
              "      background-color: #3B4455;\n",
              "      fill: #D2E3FC;\n",
              "    }\n",
              "\n",
              "    [theme=dark] .colab-df-convert:hover {\n",
              "      background-color: #434B5C;\n",
              "      box-shadow: 0px 1px 3px 1px rgba(0, 0, 0, 0.15);\n",
              "      filter: drop-shadow(0px 1px 2px rgba(0, 0, 0, 0.3));\n",
              "      fill: #FFFFFF;\n",
              "    }\n",
              "  </style>\n",
              "\n",
              "    <script>\n",
              "      const buttonEl =\n",
              "        document.querySelector('#df-8848b08a-919b-44ba-a943-e44c9b9eca7e button.colab-df-convert');\n",
              "      buttonEl.style.display =\n",
              "        google.colab.kernel.accessAllowed ? 'block' : 'none';\n",
              "\n",
              "      async function convertToInteractive(key) {\n",
              "        const element = document.querySelector('#df-8848b08a-919b-44ba-a943-e44c9b9eca7e');\n",
              "        const dataTable =\n",
              "          await google.colab.kernel.invokeFunction('convertToInteractive',\n",
              "                                                    [key], {});\n",
              "        if (!dataTable) return;\n",
              "\n",
              "        const docLinkHtml = 'Like what you see? Visit the ' +\n",
              "          '<a target=\"_blank\" href=https://colab.research.google.com/notebooks/data_table.ipynb>data table notebook</a>'\n",
              "          + ' to learn more about interactive tables.';\n",
              "        element.innerHTML = '';\n",
              "        dataTable['output_type'] = 'display_data';\n",
              "        await google.colab.output.renderOutput(dataTable, element);\n",
              "        const docLink = document.createElement('div');\n",
              "        docLink.innerHTML = docLinkHtml;\n",
              "        element.appendChild(docLink);\n",
              "      }\n",
              "    </script>\n",
              "  </div>\n",
              "\n",
              "\n",
              "<div id=\"df-660112df-0c8c-4686-9032-93b33202d3bb\">\n",
              "  <button class=\"colab-df-quickchart\" onclick=\"quickchart('df-660112df-0c8c-4686-9032-93b33202d3bb')\"\n",
              "            title=\"Suggest charts\"\n",
              "            style=\"display:none;\">\n",
              "\n",
              "<svg xmlns=\"http://www.w3.org/2000/svg\" height=\"24px\"viewBox=\"0 0 24 24\"\n",
              "     width=\"24px\">\n",
              "    <g>\n",
              "        <path d=\"M19 3H5c-1.1 0-2 .9-2 2v14c0 1.1.9 2 2 2h14c1.1 0 2-.9 2-2V5c0-1.1-.9-2-2-2zM9 17H7v-7h2v7zm4 0h-2V7h2v10zm4 0h-2v-4h2v4z\"/>\n",
              "    </g>\n",
              "</svg>\n",
              "  </button>\n",
              "\n",
              "<style>\n",
              "  .colab-df-quickchart {\n",
              "      --bg-color: #E8F0FE;\n",
              "      --fill-color: #1967D2;\n",
              "      --hover-bg-color: #E2EBFA;\n",
              "      --hover-fill-color: #174EA6;\n",
              "      --disabled-fill-color: #AAA;\n",
              "      --disabled-bg-color: #DDD;\n",
              "  }\n",
              "\n",
              "  [theme=dark] .colab-df-quickchart {\n",
              "      --bg-color: #3B4455;\n",
              "      --fill-color: #D2E3FC;\n",
              "      --hover-bg-color: #434B5C;\n",
              "      --hover-fill-color: #FFFFFF;\n",
              "      --disabled-bg-color: #3B4455;\n",
              "      --disabled-fill-color: #666;\n",
              "  }\n",
              "\n",
              "  .colab-df-quickchart {\n",
              "    background-color: var(--bg-color);\n",
              "    border: none;\n",
              "    border-radius: 50%;\n",
              "    cursor: pointer;\n",
              "    display: none;\n",
              "    fill: var(--fill-color);\n",
              "    height: 32px;\n",
              "    padding: 0;\n",
              "    width: 32px;\n",
              "  }\n",
              "\n",
              "  .colab-df-quickchart:hover {\n",
              "    background-color: var(--hover-bg-color);\n",
              "    box-shadow: 0 1px 2px rgba(60, 64, 67, 0.3), 0 1px 3px 1px rgba(60, 64, 67, 0.15);\n",
              "    fill: var(--button-hover-fill-color);\n",
              "  }\n",
              "\n",
              "  .colab-df-quickchart-complete:disabled,\n",
              "  .colab-df-quickchart-complete:disabled:hover {\n",
              "    background-color: var(--disabled-bg-color);\n",
              "    fill: var(--disabled-fill-color);\n",
              "    box-shadow: none;\n",
              "  }\n",
              "\n",
              "  .colab-df-spinner {\n",
              "    border: 2px solid var(--fill-color);\n",
              "    border-color: transparent;\n",
              "    border-bottom-color: var(--fill-color);\n",
              "    animation:\n",
              "      spin 1s steps(1) infinite;\n",
              "  }\n",
              "\n",
              "  @keyframes spin {\n",
              "    0% {\n",
              "      border-color: transparent;\n",
              "      border-bottom-color: var(--fill-color);\n",
              "      border-left-color: var(--fill-color);\n",
              "    }\n",
              "    20% {\n",
              "      border-color: transparent;\n",
              "      border-left-color: var(--fill-color);\n",
              "      border-top-color: var(--fill-color);\n",
              "    }\n",
              "    30% {\n",
              "      border-color: transparent;\n",
              "      border-left-color: var(--fill-color);\n",
              "      border-top-color: var(--fill-color);\n",
              "      border-right-color: var(--fill-color);\n",
              "    }\n",
              "    40% {\n",
              "      border-color: transparent;\n",
              "      border-right-color: var(--fill-color);\n",
              "      border-top-color: var(--fill-color);\n",
              "    }\n",
              "    60% {\n",
              "      border-color: transparent;\n",
              "      border-right-color: var(--fill-color);\n",
              "    }\n",
              "    80% {\n",
              "      border-color: transparent;\n",
              "      border-right-color: var(--fill-color);\n",
              "      border-bottom-color: var(--fill-color);\n",
              "    }\n",
              "    90% {\n",
              "      border-color: transparent;\n",
              "      border-bottom-color: var(--fill-color);\n",
              "    }\n",
              "  }\n",
              "</style>\n",
              "\n",
              "  <script>\n",
              "    async function quickchart(key) {\n",
              "      const quickchartButtonEl =\n",
              "        document.querySelector('#' + key + ' button');\n",
              "      quickchartButtonEl.disabled = true;  // To prevent multiple clicks.\n",
              "      quickchartButtonEl.classList.add('colab-df-spinner');\n",
              "      try {\n",
              "        const charts = await google.colab.kernel.invokeFunction(\n",
              "            'suggestCharts', [key], {});\n",
              "      } catch (error) {\n",
              "        console.error('Error during call to suggestCharts:', error);\n",
              "      }\n",
              "      quickchartButtonEl.classList.remove('colab-df-spinner');\n",
              "      quickchartButtonEl.classList.add('colab-df-quickchart-complete');\n",
              "    }\n",
              "    (() => {\n",
              "      let quickchartButtonEl =\n",
              "        document.querySelector('#df-660112df-0c8c-4686-9032-93b33202d3bb button');\n",
              "      quickchartButtonEl.style.display =\n",
              "        google.colab.kernel.accessAllowed ? 'block' : 'none';\n",
              "    })();\n",
              "  </script>\n",
              "</div>\n",
              "    </div>\n",
              "  </div>\n"
            ],
            "text/plain": [
              "                                                    text         person  \\\n",
              "0      Een mooie, glazen fles water, met het logo van...   gerrit budts   \n",
              "1      Liefst 120.000 Belgen zweerden vorig jaar een ...   gerrit budts   \n",
              "2      Hittegolven en ijsjes: het is de perfecte matc...   gerrit budts   \n",
              "3      “Ze hadden ons 360 overuren beloofd, maar ons ...   gerrit budts   \n",
              "4      He t einde van de lage rente en van decoronast...   gerrit budts   \n",
              "...                                                  ...            ...   \n",
              "12276  @EA_CoR @CllrGillianFord @cllrkmac @MairiGouge...  karl vanlouwe   \n",
              "12277  Het staatsmanschap van enkele partijvoorzitter...  karl vanlouwe   \n",
              "12278  Vlaams parlementslid en gemeenteraadslid in Ga...  karl vanlouwe   \n",
              "12279  En nog een schandaal : Brussels Expo betaalde ...  karl vanlouwe   \n",
              "12280  \\nverzendcode: IDM\\n\\n60 (2014-2015) – Nr. 17\\...  karl vanlouwe   \n",
              "\n",
              "       text_id   entropy  \n",
              "0      103.txt  1.902138  \n",
              "1       95.txt  1.823194  \n",
              "2       85.txt  0.770592  \n",
              "3       58.txt  0.957655  \n",
              "4      187.txt  1.863524  \n",
              "...        ...       ...  \n",
              "12276  186.txt  0.303174  \n",
              "12277   17.txt  1.788003  \n",
              "12278   77.txt  1.912417  \n",
              "12279  189.txt  1.533695  \n",
              "12280  153.txt  1.945636  \n",
              "\n",
              "[12281 rows x 4 columns]"
            ]
          },
          "execution_count": 26,
          "metadata": {},
          "output_type": "execute_result"
        },
        {
          "name": "stdout",
          "output_type": "stream",
          "text": [
            "Error: Runtime no longer has a reference to this dataframe, please re-run this cell and try again.\n",
            "Error: Runtime no longer has a reference to this dataframe, please re-run this cell and try again.\n"
          ]
        }
      ],
      "source": [
        "df_v2"
      ]
    },
    {
      "cell_type": "code",
      "execution_count": null,
      "metadata": {
        "id": "KAUrBmAxJ_2B"
      },
      "outputs": [],
      "source": [
        "df.to_csv('/content/drive/MyDrive/entropies_v1.csv')"
      ]
    },
    {
      "cell_type": "code",
      "execution_count": null,
      "metadata": {
        "id": "cgoNxNXZKgkP"
      },
      "outputs": [],
      "source": [
        "df_1 = pd.read_csv('/content/drive/MyDrive/entropies_v1.csv')\n",
        "df_2 = pd.read_csv('/content/drive/MyDrive/entropies_v2.csv')\n",
        "df_3 = pd.read_csv('/content/drive/MyDrive/entropies_v3.csv')\n",
        "\n",
        "df = pd.concat([df_1,df_2,df_3])"
      ]
    },
    {
      "cell_type": "code",
      "source": [
        "pip install google-cloud-translate"
      ],
      "metadata": {
        "id": "K8vpKfb2R6AE"
      },
      "execution_count": null,
      "outputs": []
    },
    {
      "cell_type": "code",
      "source": [
        "# OPGEPAST F ING DUUR!!!!!!!!!!\n",
        "# from google.cloud import translate_v2 as translate\n",
        "# import os\n",
        "# import re\n",
        "\n",
        "# # Set the environment variable for authentication\n",
        "# os.environ[\"GOOGLE_APPLICATION_CREDENTIALS\"] = \"/content/paperiii-875d50057e3a.json\"\n",
        "\n",
        "# # Initialize the Translator\n",
        "# translate_client = translate.Client()\n",
        "\n",
        "# def split_text(text, max_length=5000):\n",
        "#     text_chunks = re.findall('.{1,%d}(?:\\s|$)' % max_length, text)\n",
        "#     return text_chunks\n",
        "\n",
        "# def translate_text(text, target_language='en'):\n",
        "#     text_chunks = split_text(text)\n",
        "#     translated_chunks = []\n",
        "\n",
        "#     for chunk in text_chunks:\n",
        "#         result = translate_client.translate(chunk, target_language=target_language)\n",
        "#         translated_chunks.append(result['translatedText'])\n",
        "\n",
        "#     return ' '.join(translated_chunks)\n",
        "# OPGEPAST F ING DUUR!!!!!!!!!!\n",
        "\n"
      ],
      "metadata": {
        "id": "T4Izm21LSFEy"
      },
      "execution_count": null,
      "outputs": []
    },
    {
      "cell_type": "code",
      "execution_count": null,
      "metadata": {
        "id": "t7Nzhy7StVxJ"
      },
      "outputs": [],
      "source": [
        "from sklearn.mixture import GaussianMixture\n",
        "import matplotlib.pyplot as plt\n",
        "gmm = GaussianMixture(n_components=2, random_state=0)\n",
        "entropy_scores = df['entropy'].values.reshape(-1,1)\n",
        "\n",
        "gmm.fit(entropy_scores)\n",
        "df['entropy_labels'] = gmm.predict(entropy_scores)"
      ]
    },
    {
      "cell_type": "code",
      "source": [
        "def count_characters(text):\n",
        "    return len(str(text))\n",
        "\n",
        "# Apply character count function to each row in the 'text' column\n",
        "df['char_count'] = df['text'].apply(count_characters)"
      ],
      "metadata": {
        "id": "REy1-_IZ40NH"
      },
      "execution_count": null,
      "outputs": []
    },
    {
      "cell_type": "code",
      "source": [
        "df['char_count'].sum()"
      ],
      "metadata": {
        "id": "BIBz3Vda6kA5"
      },
      "execution_count": null,
      "outputs": []
    },
    {
      "cell_type": "markdown",
      "metadata": {
        "id": "uEjIURWIvLxS"
      },
      "source": []
    },
    {
      "cell_type": "code",
      "execution_count": null,
      "metadata": {
        "colab": {
          "base_uri": "https://localhost:8080/"
        },
        "id": "GZkOTL1WvPND",
        "outputId": "0934b28e-9038-4a46-922f-f9fd3d4b86f7"
      },
      "outputs": [
        {
          "data": {
            "text/plain": [
              "0.23174687991446796"
            ]
          },
          "execution_count": 55,
          "metadata": {},
          "output_type": "execute_result"
        }
      ],
      "source": [
        "df_aggregated['Med_Entropy'].var()"
      ]
    },
    {
      "cell_type": "code",
      "execution_count": null,
      "metadata": {
        "colab": {
          "base_uri": "https://localhost:8080/",
          "height": 509
        },
        "id": "DajtG2E5vQKY",
        "outputId": "14c9b39b-48c4-47af-e15e-e4cb3dc3e5db"
      },
      "outputs": [
        {
          "data": {
            "text/plain": [
              "[Text(0.5, 0, 'Entropy H(X)'),\n",
              " Text(0.5, 1.0, 'Historgram of Text-level Entropy')]"
            ]
          },
          "execution_count": 35,
          "metadata": {},
          "output_type": "execute_result"
        },
        {
          "data": {
            "image/png": "[encoded data removed]",
            "text/plain": [
              "<Figure size 640x480 with 1 Axes>"
            ]
          },
          "metadata": {},
          "output_type": "display_data"
        }
      ],
      "source": [
        "plt.hist(entropy_scores, bins = 40, density=True, alpha = 0.6, color='g')\n",
        "\n",
        "import seaborn\n",
        "seaborn.histplot(entropy_scores, bins = 40, stat='density', kde=True, legend=False).set(xlabel='Entropy H(X)', title='Historgram of Text-level Entropy')"
      ]
    },
    {
      "cell_type": "code",
      "execution_count": null,
      "metadata": {
        "id": "gEVby1k-9mEX"
      },
      "outputs": [],
      "source": [
        "df_aggregated = df.groupby(\"person\").agg(\n",
        "    Max_Entropy=(\"entropy\", \"max\"),\n",
        "    Min_Entropy=(\"entropy\", \"min\"),\n",
        "    Avg_Entropy=(\"entropy\", \"mean\"),\n",
        "    Med_Entropy=(\"entropy\", \"median\")\n",
        ").reset_index()\n",
        "\n"
      ]
    },
    {
      "cell_type": "code",
      "execution_count": null,
      "metadata": {
        "colab": {
          "base_uri": "https://localhost:8080/",
          "height": 657
        },
        "id": "4j3_-6z8-e-6",
        "outputId": "93992e98-f19c-4a63-d193-15d9d2987c0c"
      },
      "outputs": [
        {
          "data": {
            "image/png": "[encoded data removed]",
            "text/plain": [
              "<Figure size 640x480 with 1 Axes>"
            ]
          },
          "metadata": {},
          "output_type": "display_data"
        },
        {
          "name": "stdout",
          "output_type": "stream",
          "text": [
            "Gaussian Component 0:\n",
            "  Mean: 0.7792\n",
            "  Variance: 0.1641\n",
            "  Weight: 0.3927\n",
            "\n",
            "Gaussian Component 1:\n",
            "  Mean: 1.5229\n",
            "  Variance: 0.0564\n",
            "  Weight: 0.6073\n",
            "\n"
          ]
        }
      ],
      "source": [
        "\n",
        "from sklearn.mixture import GaussianMixture\n",
        "import matplotlib.pyplot as plt\n",
        "gmm = GaussianMixture(n_components=2, random_state=0)\n",
        "entropy_ind = df_aggregated['Med_Entropy'].values.reshape(-1,1)\n",
        "\n",
        "gmm.fit(entropy_ind)\n",
        "x = np.linspace(min(entropy_ind), max(entropy_ind), 1000).reshape(-1, 1)\n",
        "df_aggregated['entropy_labels'] = gmm.predict(entropy_ind)\n",
        "\n",
        "# Plot the histogram of the entropy scores using Seaborn\n",
        "seaborn.histplot(entropy_ind.flatten(), bins=35, kde=False, stat=\"density\", color='g', alpha=0.6)\n",
        "\n",
        "# Calculate the log probability and convert to probability\n",
        "logprob = gmm.score_samples(x)\n",
        "pdf = np.exp(logprob)\n",
        "\n",
        "# Plot the overall GMM PDF\n",
        "plt.plot(x, pdf, '-k', label='GMM')\n",
        "\n",
        "# Extract the means and covariances of the GMM components\n",
        "means = gmm.means_.flatten()\n",
        "covariances = gmm.covariances_.flatten()\n",
        "\n",
        "# Plot each Gaussian component\n",
        "for mean, covar in zip(means, covariances):\n",
        "    component_pdf = (1 / np.sqrt(2 * np.pi * covar)) * np.exp(-(x - mean)**2 / (2 * covar))\n",
        "    plt.plot(x, component_pdf, linestyle='--', label=f'Component (mean={mean:.2f})')\n",
        "\n",
        "# Add labels and legend\n",
        "plt.xlabel('Individual Median Entropy')\n",
        "plt.ylabel('Density')\n",
        "plt.title('Histogram of Individual-level Entropy Median with GMM Components')\n",
        "plt.legend()\n",
        "\n",
        "# Show the plot\n",
        "plt.show()\n",
        "\n",
        "means = gmm.means_.flatten()\n",
        "variances = gmm.covariances_.flatten()\n",
        "weights = gmm.weights_.flatten()\n",
        "\n",
        "# Print descriptive statistics for each Gaussian component\n",
        "for i in range(len(means)):\n",
        "    print(f\"Gaussian Component {i}:\")\n",
        "    print(f\"  Mean: {means[i]:.4f}\")\n",
        "    print(f\"  Variance: {variances[i]:.4f}\")\n",
        "    print(f\"  Weight: {weights[i]:.4f}\")\n",
        "    print()"
      ]
    },
    {
      "cell_type": "code",
      "execution_count": null,
      "metadata": {
        "colab": {
          "base_uri": "https://localhost:8080/",
          "height": 468
        },
        "id": "nO_-I4EQU8Je",
        "outputId": "ff18766c-97cd-4c1b-f994-82823ec0e2de"
      },
      "outputs": [
        {
          "data": {
            "text/plain": [
              "<Axes: xlabel='entropy_labels', ylabel='Count'>"
            ]
          },
          "execution_count": 41,
          "metadata": {},
          "output_type": "execute_result"
        },
        {
          "data": {
            "image/png": "[encoded data removed]",
            "text/plain": [
              "<Figure size 640x480 with 1 Axes>"
            ]
          },
          "metadata": {},
          "output_type": "display_data"
        }
      ],
      "source": [
        "seaborn.histplot(df_aggregated['entropy_labels'], bins=35, kde=False, stat=\"count\", color='g', alpha=0.6)"
      ]
    },
    {
      "cell_type": "code",
      "execution_count": null,
      "metadata": {
        "colab": {
          "base_uri": "https://localhost:8080/",
          "height": 430
        },
        "id": "BJrvGq--warG",
        "outputId": "7637eaf9-6a56-45fb-c760-d04a88b9f1c3"
      },
      "outputs": [
        {
          "data": {
            "image/png": "[encoded data removed]",
            "text/plain": [
              "<Figure size 640x480 with 1 Axes>"
            ]
          },
          "metadata": {},
          "output_type": "display_data"
        }
      ],
      "source": [
        "x = np.linspace(min(entropy_scores), max(entropy_scores),1000).reshape(-1,1)\n",
        "plt.hist(entropy_scores, bins = 50, density=True, alpha = 0.6, color='g')\n",
        "logprob = gmm.score_samples(x)\n",
        "pdf = np.exp(logprob)\n",
        "plt.plot(x, pdf, '-k')\n",
        "\n",
        "means = gmm.means_.flatten()\n",
        "covariances = gmm.covariances_.flatten()\n",
        "\n",
        "for mean, covar in zip(means, covariances):\n",
        "  component_pdf = (1/np.sqrt(2* np.pi * covar)) * np.exp(-(x-mean)**2 / (2 * covar))\n",
        "  plt.plot(x, component_pdf, linestyle='--')\n",
        "\n",
        "plt.show()\n"
      ]
    },
    {
      "cell_type": "code",
      "execution_count": null,
      "metadata": {
        "id": "DR_N1CISxnYi"
      },
      "outputs": [],
      "source": [
        "df_links = pd.read_csv('/content/drive/MyDrive/links_df_libis_part_1.csv')"
      ]
    },
    {
      "cell_type": "code",
      "execution_count": null,
      "metadata": {
        "id": "fcumakY8ytd4"
      },
      "outputs": [],
      "source": [
        "df_links"
      ]
    },
    {
      "cell_type": "code",
      "execution_count": null,
      "metadata": {
        "id": "w4RIPKVI0JyV"
      },
      "outputs": [],
      "source": [
        "import requests\n",
        "import os"
      ]
    },
    {
      "cell_type": "code",
      "execution_count": null,
      "metadata": {
        "id": "Jv4xQ4sZywqt"
      },
      "outputs": [],
      "source": [
        "url = 'https://linkedin-parsing-49a53bd295b9.herokuapp.com/advisers'\n",
        "api_key = #insert API key\n",
        "headers = {\n",
        "    'Authorization': f'{api_key}',\n",
        "    'Content-Type': 'application/json',\n",
        "}\n",
        "\n",
        "response = requests.get(url, headers=headers)\n"
      ]
    },
    {
      "cell_type": "code",
      "execution_count": null,
      "metadata": {
        "id": "DMzQ6wW131jU"
      },
      "outputs": [],
      "source": [
        "from dateutil import parser\n",
        "\n",
        "def extract_year(date_str):\n",
        "  date_str= translate_month(date_str)\n",
        "  if date_str == 'Present':\n",
        "    date_str = \"2023\"\n",
        "  try:\n",
        "    date_obj = parser.parse(date_str)\n",
        "    return date_obj.year\n",
        "  except (ValueError, OverflowError, TypeError):\n",
        "    print('error parsing: ' + str(date_str))\n",
        "    return None\n"
      ]
    },
    {
      "cell_type": "code",
      "execution_count": null,
      "metadata": {
        "id": "eLUnkWfq-8zN"
      },
      "outputs": [],
      "source": [
        "def translate_month(date_str):\n",
        "  dutch_to_english_months  = {'januari': 'January', 'februari': 'February', 'maart': 'March', 'april': 'April', 'mei': 'May', 'juni': 'June', 'juli': 'July', 'augustus': 'August', 'september': 'September', 'oktober': 'October', 'november': 'November', 'december': 'December'}\n",
        "  for dutch, english in dutch_to_english_months.items():\n",
        "    try:\n",
        "      if dutch in date_str:\n",
        "        return date_str.replace(dutch, english)\n",
        "    except:\n",
        "        return date_str\n",
        "  return date_str"
      ]
    },
    {
      "cell_type": "code",
      "execution_count": null,
      "metadata": {
        "id": "RogVuVbcJ1Qy"
      },
      "outputs": [],
      "source": [
        "advisers = response.json()\n",
        "linked_advisers = []\n",
        "for individual in advisers:\n",
        "  if individual['li-status'] == 'Linked':\n",
        "      linked_advisers.append({'id': individual['id'], 'first-name': individual['first-name'], 'name': individual['name'], 'positions': []})\n",
        "\n",
        "#get all positions for person"
      ]
    },
    {
      "cell_type": "code",
      "execution_count": null,
      "metadata": {
        "id": "TJl9LFdI0S6d"
      },
      "outputs": [],
      "source": [
        "url_positions = 'https://linkedin-parsing-49a53bd295b9.herokuapp.com/advisers/'\n",
        "adviser_list = (adv for adv in linked_advisers if len(adv['positions']) == 0)\n",
        "for adviser in adviser_list:\n",
        "  response_positions = requests.get(url_positions + str(adviser['id']) + \"/positions\", headers=headers)\n",
        "  for position in response_positions.json():\n",
        "    start_date = extract_year(position['start-date'])\n",
        "    end_date = extract_year(position['end-date'])\n",
        "    url_codes = 'https://linkedin-parsing-49a53bd295b9.herokuapp.com/positions/' + str(position['id']) + '/codes'\n",
        "    response_codes = requests.get(url_codes, headers=headers)\n",
        "    for code in response_codes.json():\n",
        "      if code['name'] == 'sector':\n",
        "        adviser['positions'].append({'start': start_date, 'end': end_date, 'value': code['value']})"
      ]
    },
    {
      "cell_type": "code",
      "execution_count": null,
      "metadata": {
        "id": "gQrqq_IY3AID"
      },
      "outputs": [],
      "source": [
        "advisers_indexed = []\n",
        "\n",
        "for adviser in linked_advisers:\n",
        "  total_duration = 0\n",
        "  total_pos = 0\n",
        "  pol_duration = 0\n",
        "  pol_pos = 0\n",
        "  pub_duration = 0\n",
        "  pub_pos = 0\n",
        "  for position in adviser['positions']:\n",
        "    if 'board' not in position['value'] and position['start'] is not None and position['end'] is not None:\n",
        "      total_duration = total_duration + (position['end'] - position['start']) + 1\n",
        "      total_pos = total_pos + 1\n",
        "      if 'politics' in position['value']:\n",
        "        pol_duration = pol_duration + (position['end'] - position['start']) + 1\n",
        "        pol_pos = pol_pos + 1\n",
        "      if 'public' in position['value']:\n",
        "        pub_duration = pub_duration + (position['end'] - position['start']) + 1\n",
        "        pub_pos = pub_pos + 1\n",
        "  advisers_indexed.append({'id': adviser['id'], 'first-name': adviser['first-name'], 'name': adviser['name'],\n",
        "                           'tot-dur': total_duration, 'tot-pos': total_pos, 'pol-dur': pol_duration,\n",
        "                           'pol-pos': pol_pos, 'pub_duration': pub_duration, 'pub-pos': pub_pos,\n",
        "                           'pol_idx': pol_duration / total_duration, 'pub_idx': pub_duration / total_duration})\n"
      ]
    },
    {
      "cell_type": "code",
      "execution_count": null,
      "metadata": {
        "id": "AI-EFv8UAmg5"
      },
      "outputs": [],
      "source": [
        "advisers_idxed = pd.DataFrame(advisers_indexed)"
      ]
    },
    {
      "cell_type": "code",
      "execution_count": null,
      "metadata": {
        "id": "xY-nSFeG9zSP"
      },
      "outputs": [],
      "source": [
        "advisers_idxed"
      ]
    },
    {
      "cell_type": "code",
      "execution_count": null,
      "metadata": {
        "id": "HMXpIQtiQTAi"
      },
      "outputs": [],
      "source": [
        "advisers_idxed.to_csv('/content/drive/MyDrive/advisers_polpub.csv')"
      ]
    },
    {
      "cell_type": "code",
      "execution_count": null,
      "metadata": {
        "colab": {
          "base_uri": "https://localhost:8080/"
        },
        "id": "iiAw7RI3jKpg",
        "outputId": "b72f9d91-6a53-4e74-ebac-9599ff6b3dc8"
      },
      "outputs": [
        {
          "data": {
            "text/plain": [
              "195"
            ]
          },
          "execution_count": 36,
          "metadata": {},
          "output_type": "execute_result"
        }
      ],
      "source": [
        "len(df['person'].unique())"
      ]
    },
    {
      "cell_type": "code",
      "execution_count": null,
      "metadata": {
        "id": "ZSeWHWqoQw8_"
      },
      "outputs": [],
      "source": [
        "advisers_idxed = pd.read_csv('/content/drive/MyDrive/advisers_polpub.csv')"
      ]
    },
    {
      "cell_type": "code",
      "execution_count": null,
      "metadata": {
        "id": "AacaCoAFQ9S_"
      },
      "outputs": [],
      "source": [
        "\n",
        "for person in df['person'].unique():\n",
        "  mean_entr = df[df['person'] == person]['entropy'].mean()\n",
        "  max_entr = df[df['person'] == person]['entropy'].max()\n",
        "  min_entr = df[df['person'] == person]['entropy'].min()\n",
        "  labels_avg = df[df['person'] == person]['entropy_labels'].mean()\n"
      ]
    },
    {
      "cell_type": "code",
      "execution_count": null,
      "metadata": {
        "id": "m-Djvdx4URSC"
      },
      "outputs": [],
      "source": [
        "advisers_indexed = []\n",
        "\n",
        "for adviser in linked_advisers:\n",
        "  person = adviser['first-name'].lower() + ' ' + adviser['name'].lower()\n",
        "  mean_entr = df[df['person'] == person]['entropy'].mean()\n",
        "  max_entr = df[df['person'] == person]['entropy'].max()\n",
        "  min_entr = df[df['person'] == person]['entropy'].min()\n",
        "  labels_avg = df[df['person'] == person]['entropy_labels'].mean()\n",
        "  total_duration = 0\n",
        "  total_pos = 0\n",
        "  pol_duration = 0\n",
        "  pol_pos = 0\n",
        "  pub_duration = 0\n",
        "  pub_pos = 0\n",
        "  for position in adviser['positions']:\n",
        "    if 'board' not in position['value'] and position['start'] is not None and position['end'] is not None:\n",
        "      total_duration = total_duration + (position['end'] - position['start']) + 1\n",
        "      total_pos = total_pos + 1\n",
        "      if 'politics' in position['value']:\n",
        "        pol_duration = pol_duration + (position['end'] - position['start']) + 1\n",
        "        pol_pos = pol_pos + 1\n",
        "      if 'public' in position['value']:\n",
        "        pub_duration = pub_duration + (position['end'] - position['start']) + 1\n",
        "        pub_pos = pub_pos + 1\n",
        "  advisers_indexed.append({'id': adviser['id'], 'first-name': adviser['first-name'], 'name': adviser['name'],\n",
        "                           'tot-dur': total_duration, 'tot-pos': total_pos, 'pol-dur': pol_duration,\n",
        "                           'pol-pos': pol_pos, 'pub_duration': pub_duration, 'pub-pos': pub_pos,\n",
        "                           'pol_idx': pol_duration / total_duration, 'pub_idx': pub_duration / total_duration,\n",
        "                           'mean_entr': mean_entr, 'max_entr': max_entr, 'min_entr': min_entr, 'labels_avg': labels_avg})\n"
      ]
    },
    {
      "cell_type": "code",
      "execution_count": null,
      "metadata": {
        "id": "7skRY4qAdiD6"
      },
      "outputs": [],
      "source": [
        "advisers_table= []\n",
        "\n",
        "for idx, adviser in advisers_idxed.iterrows():\n",
        "  print(adviser)\n",
        "\n",
        "  person = str(adviser['first-name']).lower() + ' ' + adviser['name'].lower()\n",
        "  mean_entr = df[df['person'] == person]['entropy'].mean()\n",
        "  max_entr = df[df['person'] == person]['entropy'].max()\n",
        "  min_entr = df[df['person'] == person]['entropy'].min()\n",
        "  labels_avg = df[df['person'] == person]['entropy_labels'].mean()\n",
        "  advisers_table.append({'id': adviser['id'], 'first-name': adviser['first-name'], 'name': adviser['name'],\n",
        "                           'tot-dur': adviser['tot-dur'], 'tot-pos': adviser['tot-pos'], 'pol-dur': adviser['pol-dur'],\n",
        "                           'pol-pos': adviser['pol-pos'], 'pub_duration': adviser['pub_duration'], 'pub-pos': adviser['pub-pos'],\n",
        "                           'pol_idx': adviser['pol_idx'] , 'pub_idx': adviser['pub_idx'],\n",
        "                           'mean_entr': mean_entr, 'max_entr': max_entr, 'min_entr': min_entr, 'labels_avg': labels_avg})"
      ]
    },
    {
      "cell_type": "code",
      "execution_count": null,
      "metadata": {
        "id": "K5nwlKhmfc1V"
      },
      "outputs": [],
      "source": [
        "advisers_df = pd.DataFrame(advisers_table)\n",
        "advisers_df.to_csv('/content/drive/MyDrive/advisers_metrics.csv')"
      ]
    },
    {
      "cell_type": "code",
      "execution_count": null,
      "metadata": {
        "colab": {
          "base_uri": "https://localhost:8080/"
        },
        "id": "j-UwwiKoSRCs",
        "outputId": "efba5841-aa80-4c01-dfa0-3f5a3b5c94aa"
      },
      "outputs": [
        {
          "name": "stdout",
          "output_type": "stream",
          "text": [
            "SignificanceResult(statistic=-0.15156514344517683, pvalue=0.03441977301460811)\n",
            "SignificanceResult(statistic=0.1328891165379505, pvalue=0.06402766860740246)\n"
          ]
        }
      ],
      "source": [
        "import scipy\n",
        "\n",
        "spro_pol = scipy.stats.spearmanr(advisers_df['pol_idx'], advisers_df['mean_entr'], nan_policy='omit')\n",
        "print(spro_pol)\n",
        "\n",
        "spro_pub = scipy.stats.spearmanr(advisers_df['pub_idx'], advisers_df['mean_entr'], nan_policy='omit')\n",
        "print(spro_pub)\n"
      ]
    },
    {
      "cell_type": "code",
      "execution_count": null,
      "metadata": {
        "id": "b5fvEe4or72T"
      },
      "outputs": [],
      "source": [
        "!pip install bertopic"
      ]
    },
    {
      "cell_type": "code",
      "source": [
        "!pip install stop-words"
      ],
      "metadata": {
        "id": "aLA5lmBc8R1F"
      },
      "execution_count": null,
      "outputs": []
    },
    {
      "cell_type": "code",
      "execution_count": null,
      "metadata": {
        "colab": {
          "base_uri": "https://localhost:8080/"
        },
        "id": "TYFKAepusTRL",
        "outputId": "8963cb49-137f-4327-9011-97a89fc68c1e"
      },
      "outputs": [
        {
          "metadata": {
            "tags": null
          },
          "name": "stderr",
          "output_type": "stream",
          "text": [
            "/usr/local/lib/python3.10/dist-packages/joblib/externals/loky/backend/fork_exec.py:38: RuntimeWarning:\n",
            "\n",
            "os.fork() was called. os.fork() is incompatible with multithreaded code, and JAX is multithreaded, so this will likely lead to a deadlock.\n",
            "\n",
            "2024-07-10 12:39:17,770 - BERTopic - WARNING: Using a custom list of topic assignments may lead to errors if topic reduction techniques are used afterwards. Make sure that manually assigning topics is the last step in the pipeline.Note that topic embeddings will also be created through weightedc-TF-IDF embeddings instead of centroid embeddings.\n"
          ]
        }
      ],
      "source": [
        "from bertopic import BERTopic\n",
        "from sklearn.feature_extraction.text import CountVectorizer\n",
        "from stop_words import get_stop_words\n",
        "\n",
        "vectorizer_model = CountVectorizer(stop_words=get_stop_words('dutch'))\n",
        "topic_model = BERTopic(calculate_probabilities=True, nr_topics='auto', vectorizer_model = vectorizer_model, language=\"multilingual\")\n",
        "\n",
        "\n",
        "topics, probabilities = topic_model.fit_transform(df['text'].astype(str).tolist())\n",
        "new_topics = topic_model.reduce_outliers(df['text'].astype(str).tolist(), topics, strategy='c-TF-IDF')\n",
        "topic_model.update_topics(df['text'].astype(str).tolist(), topics=new_topics)\n",
        "topics_reduced, probabilities_reduced = topic_model.transform(df['text'].astype(str).tolist())"
      ]
    },
    {
      "cell_type": "code",
      "source": [
        "umap_model = topic_model.umap_model\n",
        "umap_embeddings = umap_model.embedding_\n",
        "\n",
        "# Add the UMAP coordinates to the DataFrame\n",
        "df['x'] = umap_embeddings[:, 0]\n",
        "df['y'] = umap_embeddings[:, 1]\n",
        "\n",
        "# Add the UMAP embeddings as columns to the DataFrame\n",
        "df['embedding'] = list(umap_embeddings)"
      ],
      "metadata": {
        "id": "KGzIgi4T3YQM"
      },
      "execution_count": null,
      "outputs": []
    },
    {
      "cell_type": "code",
      "source": [
        "df"
      ],
      "metadata": {
        "colab": {
          "base_uri": "https://localhost:8080/",
          "height": 423
        },
        "id": "3QN-k7di4vTR",
        "outputId": "0086659a-16cd-44a6-d06d-cd2dcd3a61c5"
      },
      "execution_count": null,
      "outputs": [
        {
          "output_type": "execute_result",
          "data": {
            "text/plain": [
              "      Unnamed: 0                                               text  \\\n",
              "0              0  Een mooie, glazen fles water, met het logo van...   \n",
              "1              1  Liefst 120.000 Belgen zweerden vorig jaar een ...   \n",
              "2              2  Hittegolven en ijsjes: het is de perfecte matc...   \n",
              "3              3  “Ze hadden ons 360 overuren beloofd, maar ons ...   \n",
              "4              4  He t einde van de lage rente en van decoronast...   \n",
              "...          ...                                                ...   \n",
              "1714        1714  \"Ik loop de muren op.\" Een directeur van een g...   \n",
              "1715        1715  Vijftig van de 180 bewoners ­besmet, tien over...   \n",
              "1716        1716  Jorgen Deman haalde met vier collega's de eind...   \n",
              "1717        1717  'Het is onbegrijpelijk dat de CD&V-meerderheid...   \n",
              "1718        1718  Christophe Neyt (N-VA) zal de plaats innemen v...   \n",
              "\n",
              "                  person  text_id   entropy          x         y  \n",
              "0           gerrit budts  103.txt  1.902138   9.323780  3.421753  \n",
              "1           gerrit budts   95.txt  1.823194   8.481165  3.888943  \n",
              "2           gerrit budts   85.txt  0.770592   9.390232  3.308525  \n",
              "3           gerrit budts   58.txt  0.957655  10.629059  3.608463  \n",
              "4           gerrit budts  187.txt  1.863524   9.482660  3.000046  \n",
              "...                  ...      ...       ...        ...       ...  \n",
              "1714  peter marquebreuck   16.txt  1.944748   9.009544  3.151002  \n",
              "1715  peter marquebreuck   13.txt  1.738748   8.683382  3.003908  \n",
              "1716  peter marquebreuck    1.txt  1.817930  10.148903  4.196414  \n",
              "1717  peter marquebreuck    7.txt  1.855709  10.003028  2.883104  \n",
              "1718  peter marquebreuck    0.txt  0.041283  12.130713  4.855836  \n",
              "\n",
              "[18887 rows x 7 columns]"
            ],
            "text/html": [
              "\n",
              "  <div id=\"df-e4645668-a934-4123-b3bd-19a8b51c87b2\" class=\"colab-df-container\">\n",
              "    <div>\n",
              "<style scoped>\n",
              "    .dataframe tbody tr th:only-of-type {\n",
              "        vertical-align: middle;\n",
              "    }\n",
              "\n",
              "    .dataframe tbody tr th {\n",
              "        vertical-align: top;\n",
              "    }\n",
              "\n",
              "    .dataframe thead th {\n",
              "        text-align: right;\n",
              "    }\n",
              "</style>\n",
              "<table border=\"1\" class=\"dataframe\">\n",
              "  <thead>\n",
              "    <tr style=\"text-align: right;\">\n",
              "      <th></th>\n",
              "      <th>Unnamed: 0</th>\n",
              "      <th>text</th>\n",
              "      <th>person</th>\n",
              "      <th>text_id</th>\n",
              "      <th>entropy</th>\n",
              "      <th>x</th>\n",
              "      <th>y</th>\n",
              "    </tr>\n",
              "  </thead>\n",
              "  <tbody>\n",
              "    <tr>\n",
              "      <th>0</th>\n",
              "      <td>0</td>\n",
              "      <td>Een mooie, glazen fles water, met het logo van...</td>\n",
              "      <td>gerrit budts</td>\n",
              "      <td>103.txt</td>\n",
              "      <td>1.902138</td>\n",
              "      <td>9.323780</td>\n",
              "      <td>3.421753</td>\n",
              "    </tr>\n",
              "    <tr>\n",
              "      <th>1</th>\n",
              "      <td>1</td>\n",
              "      <td>Liefst 120.000 Belgen zweerden vorig jaar een ...</td>\n",
              "      <td>gerrit budts</td>\n",
              "      <td>95.txt</td>\n",
              "      <td>1.823194</td>\n",
              "      <td>8.481165</td>\n",
              "      <td>3.888943</td>\n",
              "    </tr>\n",
              "    <tr>\n",
              "      <th>2</th>\n",
              "      <td>2</td>\n",
              "      <td>Hittegolven en ijsjes: het is de perfecte matc...</td>\n",
              "      <td>gerrit budts</td>\n",
              "      <td>85.txt</td>\n",
              "      <td>0.770592</td>\n",
              "      <td>9.390232</td>\n",
              "      <td>3.308525</td>\n",
              "    </tr>\n",
              "    <tr>\n",
              "      <th>3</th>\n",
              "      <td>3</td>\n",
              "      <td>“Ze hadden ons 360 overuren beloofd, maar ons ...</td>\n",
              "      <td>gerrit budts</td>\n",
              "      <td>58.txt</td>\n",
              "      <td>0.957655</td>\n",
              "      <td>10.629059</td>\n",
              "      <td>3.608463</td>\n",
              "    </tr>\n",
              "    <tr>\n",
              "      <th>4</th>\n",
              "      <td>4</td>\n",
              "      <td>He t einde van de lage rente en van decoronast...</td>\n",
              "      <td>gerrit budts</td>\n",
              "      <td>187.txt</td>\n",
              "      <td>1.863524</td>\n",
              "      <td>9.482660</td>\n",
              "      <td>3.000046</td>\n",
              "    </tr>\n",
              "    <tr>\n",
              "      <th>...</th>\n",
              "      <td>...</td>\n",
              "      <td>...</td>\n",
              "      <td>...</td>\n",
              "      <td>...</td>\n",
              "      <td>...</td>\n",
              "      <td>...</td>\n",
              "      <td>...</td>\n",
              "    </tr>\n",
              "    <tr>\n",
              "      <th>1714</th>\n",
              "      <td>1714</td>\n",
              "      <td>\"Ik loop de muren op.\" Een directeur van een g...</td>\n",
              "      <td>peter marquebreuck</td>\n",
              "      <td>16.txt</td>\n",
              "      <td>1.944748</td>\n",
              "      <td>9.009544</td>\n",
              "      <td>3.151002</td>\n",
              "    </tr>\n",
              "    <tr>\n",
              "      <th>1715</th>\n",
              "      <td>1715</td>\n",
              "      <td>Vijftig van de 180 bewoners ­besmet, tien over...</td>\n",
              "      <td>peter marquebreuck</td>\n",
              "      <td>13.txt</td>\n",
              "      <td>1.738748</td>\n",
              "      <td>8.683382</td>\n",
              "      <td>3.003908</td>\n",
              "    </tr>\n",
              "    <tr>\n",
              "      <th>1716</th>\n",
              "      <td>1716</td>\n",
              "      <td>Jorgen Deman haalde met vier collega's de eind...</td>\n",
              "      <td>peter marquebreuck</td>\n",
              "      <td>1.txt</td>\n",
              "      <td>1.817930</td>\n",
              "      <td>10.148903</td>\n",
              "      <td>4.196414</td>\n",
              "    </tr>\n",
              "    <tr>\n",
              "      <th>1717</th>\n",
              "      <td>1717</td>\n",
              "      <td>'Het is onbegrijpelijk dat de CD&amp;V-meerderheid...</td>\n",
              "      <td>peter marquebreuck</td>\n",
              "      <td>7.txt</td>\n",
              "      <td>1.855709</td>\n",
              "      <td>10.003028</td>\n",
              "      <td>2.883104</td>\n",
              "    </tr>\n",
              "    <tr>\n",
              "      <th>1718</th>\n",
              "      <td>1718</td>\n",
              "      <td>Christophe Neyt (N-VA) zal de plaats innemen v...</td>\n",
              "      <td>peter marquebreuck</td>\n",
              "      <td>0.txt</td>\n",
              "      <td>0.041283</td>\n",
              "      <td>12.130713</td>\n",
              "      <td>4.855836</td>\n",
              "    </tr>\n",
              "  </tbody>\n",
              "</table>\n",
              "<p>18887 rows × 7 columns</p>\n",
              "</div>\n",
              "    <div class=\"colab-df-buttons\">\n",
              "\n",
              "  <div class=\"colab-df-container\">\n",
              "    <button class=\"colab-df-convert\" onclick=\"convertToInteractive('df-e4645668-a934-4123-b3bd-19a8b51c87b2')\"\n",
              "            title=\"Convert this dataframe to an interactive table.\"\n",
              "            style=\"display:none;\">\n",
              "\n",
              "  <svg xmlns=\"http://www.w3.org/2000/svg\" height=\"24px\" viewBox=\"0 -960 960 960\">\n",
              "    <path d=\"M120-120v-720h720v720H120Zm60-500h600v-160H180v160Zm220 220h160v-160H400v160Zm0 220h160v-160H400v160ZM180-400h160v-160H180v160Zm440 0h160v-160H620v160ZM180-180h160v-160H180v160Zm440 0h160v-160H620v160Z\"/>\n",
              "  </svg>\n",
              "    </button>\n",
              "\n",
              "  <style>\n",
              "    .colab-df-container {\n",
              "      display:flex;\n",
              "      gap: 12px;\n",
              "    }\n",
              "\n",
              "    .colab-df-convert {\n",
              "      background-color: #E8F0FE;\n",
              "      border: none;\n",
              "      border-radius: 50%;\n",
              "      cursor: pointer;\n",
              "      display: none;\n",
              "      fill: #1967D2;\n",
              "      height: 32px;\n",
              "      padding: 0 0 0 0;\n",
              "      width: 32px;\n",
              "    }\n",
              "\n",
              "    .colab-df-convert:hover {\n",
              "      background-color: #E2EBFA;\n",
              "      box-shadow: 0px 1px 2px rgba(60, 64, 67, 0.3), 0px 1px 3px 1px rgba(60, 64, 67, 0.15);\n",
              "      fill: #174EA6;\n",
              "    }\n",
              "\n",
              "    .colab-df-buttons div {\n",
              "      margin-bottom: 4px;\n",
              "    }\n",
              "\n",
              "    [theme=dark] .colab-df-convert {\n",
              "      background-color: #3B4455;\n",
              "      fill: #D2E3FC;\n",
              "    }\n",
              "\n",
              "    [theme=dark] .colab-df-convert:hover {\n",
              "      background-color: #434B5C;\n",
              "      box-shadow: 0px 1px 3px 1px rgba(0, 0, 0, 0.15);\n",
              "      filter: drop-shadow(0px 1px 2px rgba(0, 0, 0, 0.3));\n",
              "      fill: #FFFFFF;\n",
              "    }\n",
              "  </style>\n",
              "\n",
              "    <script>\n",
              "      const buttonEl =\n",
              "        document.querySelector('#df-e4645668-a934-4123-b3bd-19a8b51c87b2 button.colab-df-convert');\n",
              "      buttonEl.style.display =\n",
              "        google.colab.kernel.accessAllowed ? 'block' : 'none';\n",
              "\n",
              "      async function convertToInteractive(key) {\n",
              "        const element = document.querySelector('#df-e4645668-a934-4123-b3bd-19a8b51c87b2');\n",
              "        const dataTable =\n",
              "          await google.colab.kernel.invokeFunction('convertToInteractive',\n",
              "                                                    [key], {});\n",
              "        if (!dataTable) return;\n",
              "\n",
              "        const docLinkHtml = 'Like what you see? Visit the ' +\n",
              "          '<a target=\"_blank\" href=https://colab.research.google.com/notebooks/data_table.ipynb>data table notebook</a>'\n",
              "          + ' to learn more about interactive tables.';\n",
              "        element.innerHTML = '';\n",
              "        dataTable['output_type'] = 'display_data';\n",
              "        await google.colab.output.renderOutput(dataTable, element);\n",
              "        const docLink = document.createElement('div');\n",
              "        docLink.innerHTML = docLinkHtml;\n",
              "        element.appendChild(docLink);\n",
              "      }\n",
              "    </script>\n",
              "  </div>\n",
              "\n",
              "\n",
              "<div id=\"df-4bfddcc9-4fa2-4469-8177-3314b32dd1dc\">\n",
              "  <button class=\"colab-df-quickchart\" onclick=\"quickchart('df-4bfddcc9-4fa2-4469-8177-3314b32dd1dc')\"\n",
              "            title=\"Suggest charts\"\n",
              "            style=\"display:none;\">\n",
              "\n",
              "<svg xmlns=\"http://www.w3.org/2000/svg\" height=\"24px\"viewBox=\"0 0 24 24\"\n",
              "     width=\"24px\">\n",
              "    <g>\n",
              "        <path d=\"M19 3H5c-1.1 0-2 .9-2 2v14c0 1.1.9 2 2 2h14c1.1 0 2-.9 2-2V5c0-1.1-.9-2-2-2zM9 17H7v-7h2v7zm4 0h-2V7h2v10zm4 0h-2v-4h2v4z\"/>\n",
              "    </g>\n",
              "</svg>\n",
              "  </button>\n",
              "\n",
              "<style>\n",
              "  .colab-df-quickchart {\n",
              "      --bg-color: #E8F0FE;\n",
              "      --fill-color: #1967D2;\n",
              "      --hover-bg-color: #E2EBFA;\n",
              "      --hover-fill-color: #174EA6;\n",
              "      --disabled-fill-color: #AAA;\n",
              "      --disabled-bg-color: #DDD;\n",
              "  }\n",
              "\n",
              "  [theme=dark] .colab-df-quickchart {\n",
              "      --bg-color: #3B4455;\n",
              "      --fill-color: #D2E3FC;\n",
              "      --hover-bg-color: #434B5C;\n",
              "      --hover-fill-color: #FFFFFF;\n",
              "      --disabled-bg-color: #3B4455;\n",
              "      --disabled-fill-color: #666;\n",
              "  }\n",
              "\n",
              "  .colab-df-quickchart {\n",
              "    background-color: var(--bg-color);\n",
              "    border: none;\n",
              "    border-radius: 50%;\n",
              "    cursor: pointer;\n",
              "    display: none;\n",
              "    fill: var(--fill-color);\n",
              "    height: 32px;\n",
              "    padding: 0;\n",
              "    width: 32px;\n",
              "  }\n",
              "\n",
              "  .colab-df-quickchart:hover {\n",
              "    background-color: var(--hover-bg-color);\n",
              "    box-shadow: 0 1px 2px rgba(60, 64, 67, 0.3), 0 1px 3px 1px rgba(60, 64, 67, 0.15);\n",
              "    fill: var(--button-hover-fill-color);\n",
              "  }\n",
              "\n",
              "  .colab-df-quickchart-complete:disabled,\n",
              "  .colab-df-quickchart-complete:disabled:hover {\n",
              "    background-color: var(--disabled-bg-color);\n",
              "    fill: var(--disabled-fill-color);\n",
              "    box-shadow: none;\n",
              "  }\n",
              "\n",
              "  .colab-df-spinner {\n",
              "    border: 2px solid var(--fill-color);\n",
              "    border-color: transparent;\n",
              "    border-bottom-color: var(--fill-color);\n",
              "    animation:\n",
              "      spin 1s steps(1) infinite;\n",
              "  }\n",
              "\n",
              "  @keyframes spin {\n",
              "    0% {\n",
              "      border-color: transparent;\n",
              "      border-bottom-color: var(--fill-color);\n",
              "      border-left-color: var(--fill-color);\n",
              "    }\n",
              "    20% {\n",
              "      border-color: transparent;\n",
              "      border-left-color: var(--fill-color);\n",
              "      border-top-color: var(--fill-color);\n",
              "    }\n",
              "    30% {\n",
              "      border-color: transparent;\n",
              "      border-left-color: var(--fill-color);\n",
              "      border-top-color: var(--fill-color);\n",
              "      border-right-color: var(--fill-color);\n",
              "    }\n",
              "    40% {\n",
              "      border-color: transparent;\n",
              "      border-right-color: var(--fill-color);\n",
              "      border-top-color: var(--fill-color);\n",
              "    }\n",
              "    60% {\n",
              "      border-color: transparent;\n",
              "      border-right-color: var(--fill-color);\n",
              "    }\n",
              "    80% {\n",
              "      border-color: transparent;\n",
              "      border-right-color: var(--fill-color);\n",
              "      border-bottom-color: var(--fill-color);\n",
              "    }\n",
              "    90% {\n",
              "      border-color: transparent;\n",
              "      border-bottom-color: var(--fill-color);\n",
              "    }\n",
              "  }\n",
              "</style>\n",
              "\n",
              "  <script>\n",
              "    async function quickchart(key) {\n",
              "      const quickchartButtonEl =\n",
              "        document.querySelector('#' + key + ' button');\n",
              "      quickchartButtonEl.disabled = true;  // To prevent multiple clicks.\n",
              "      quickchartButtonEl.classList.add('colab-df-spinner');\n",
              "      try {\n",
              "        const charts = await google.colab.kernel.invokeFunction(\n",
              "            'suggestCharts', [key], {});\n",
              "      } catch (error) {\n",
              "        console.error('Error during call to suggestCharts:', error);\n",
              "      }\n",
              "      quickchartButtonEl.classList.remove('colab-df-spinner');\n",
              "      quickchartButtonEl.classList.add('colab-df-quickchart-complete');\n",
              "    }\n",
              "    (() => {\n",
              "      let quickchartButtonEl =\n",
              "        document.querySelector('#df-4bfddcc9-4fa2-4469-8177-3314b32dd1dc button');\n",
              "      quickchartButtonEl.style.display =\n",
              "        google.colab.kernel.accessAllowed ? 'block' : 'none';\n",
              "    })();\n",
              "  </script>\n",
              "</div>\n",
              "\n",
              "  <div id=\"id_ad27df00-21c5-46f2-8941-dd0769f0faf3\">\n",
              "    <style>\n",
              "      .colab-df-generate {\n",
              "        background-color: #E8F0FE;\n",
              "        border: none;\n",
              "        border-radius: 50%;\n",
              "        cursor: pointer;\n",
              "        display: none;\n",
              "        fill: #1967D2;\n",
              "        height: 32px;\n",
              "        padding: 0 0 0 0;\n",
              "        width: 32px;\n",
              "      }\n",
              "\n",
              "      .colab-df-generate:hover {\n",
              "        background-color: #E2EBFA;\n",
              "        box-shadow: 0px 1px 2px rgba(60, 64, 67, 0.3), 0px 1px 3px 1px rgba(60, 64, 67, 0.15);\n",
              "        fill: #174EA6;\n",
              "      }\n",
              "\n",
              "      [theme=dark] .colab-df-generate {\n",
              "        background-color: #3B4455;\n",
              "        fill: #D2E3FC;\n",
              "      }\n",
              "\n",
              "      [theme=dark] .colab-df-generate:hover {\n",
              "        background-color: #434B5C;\n",
              "        box-shadow: 0px 1px 3px 1px rgba(0, 0, 0, 0.15);\n",
              "        filter: drop-shadow(0px 1px 2px rgba(0, 0, 0, 0.3));\n",
              "        fill: #FFFFFF;\n",
              "      }\n",
              "    </style>\n",
              "    <button class=\"colab-df-generate\" onclick=\"generateWithVariable('df')\"\n",
              "            title=\"Generate code using this dataframe.\"\n",
              "            style=\"display:none;\">\n",
              "\n",
              "  <svg xmlns=\"http://www.w3.org/2000/svg\" height=\"24px\"viewBox=\"0 0 24 24\"\n",
              "       width=\"24px\">\n",
              "    <path d=\"M7,19H8.4L18.45,9,17,7.55,7,17.6ZM5,21V16.75L18.45,3.32a2,2,0,0,1,2.83,0l1.4,1.43a1.91,1.91,0,0,1,.58,1.4,1.91,1.91,0,0,1-.58,1.4L9.25,21ZM18.45,9,17,7.55Zm-12,3A5.31,5.31,0,0,0,4.9,8.1,5.31,5.31,0,0,0,1,6.5,5.31,5.31,0,0,0,4.9,4.9,5.31,5.31,0,0,0,6.5,1,5.31,5.31,0,0,0,8.1,4.9,5.31,5.31,0,0,0,12,6.5,5.46,5.46,0,0,0,6.5,12Z\"/>\n",
              "  </svg>\n",
              "    </button>\n",
              "    <script>\n",
              "      (() => {\n",
              "      const buttonEl =\n",
              "        document.querySelector('#id_ad27df00-21c5-46f2-8941-dd0769f0faf3 button.colab-df-generate');\n",
              "      buttonEl.style.display =\n",
              "        google.colab.kernel.accessAllowed ? 'block' : 'none';\n",
              "\n",
              "      buttonEl.onclick = () => {\n",
              "        google.colab.notebook.generateWithVariable('df');\n",
              "      }\n",
              "      })();\n",
              "    </script>\n",
              "  </div>\n",
              "\n",
              "    </div>\n",
              "  </div>\n"
            ],
            "application/vnd.google.colaboratory.intrinsic+json": {
              "type": "dataframe",
              "variable_name": "df",
              "summary": "{\n  \"name\": \"df\",\n  \"rows\": 18887,\n  \"fields\": [\n    {\n      \"column\": \"Unnamed: 0\",\n      \"properties\": {\n        \"dtype\": \"number\",\n        \"std\": 3566,\n        \"min\": 0,\n        \"max\": 12280,\n        \"num_unique_values\": 12281,\n        \"samples\": [\n          1722,\n          8730,\n          10477\n        ],\n        \"semantic_type\": \"\",\n        \"description\": \"\"\n      }\n    },\n    {\n      \"column\": \"text\",\n      \"properties\": {\n        \"dtype\": \"string\",\n        \"num_unique_values\": 17911,\n        \"samples\": [\n          \"Essen \\n Ook p de Antwerpsesteenweg (N117) in Essen komt vanaf dit najaar een trajectcontrole. Die loopt vanaf het kruispunt met de Mertensdreef tot aan het kruispunt met de Kalmthoutsesteenweg-Spijker. Dat de trajectcontrole net daar komt, is voor burgemeester Gaston Van Tichelt (CD&V) wel wat dubbel. \\u201cDe weg loopt niet door de bebouwde kom, dus die is minder prioritair. Er zijn bijvoorbeeld minder conflicten tussen automobilisten en fietsers. Maar er wordt op dat traject wel heel snel gereden, er zijn in het verleden al vaker ongevallen gebeurd. De politie moet daar vaak controles uitvoeren. Als dat dan minder wordt straks, kunnen zij weer meer op andere plekken controleren.\\u201d  (anb) \\n\",\n          \"Koningshooikt. Verfraaiing Sander de Vosstraat zorgt voor nog meer onveiligheid. De Sander de Vosstraat in  Koningshooikt  (Lier) mag er na de heraanleg dan wel mooier uitzien, veiliger is ze volgens sommige bewoners alleszins niet geworden. Vooral de smalle rijstroken en de verkeerseilandjes zorgen voor ongenoegen.. 0 0 \\\"We hebben inderdaad mooie fiets- en voetpaden gekregen. Maar daartussen bevindt zich wel een vlakke racebaan. Het verkeersplateau aan de Tarwelaan en de asverschuivingen, speciaal aangelegd om de snelheid van het verkeer af te remmen, missen hun doel. De auto's vliegen hier nog sneller dan vroeger voorbij\\\", zegt buurtbewoner Luc Van Hool.. \\\"De verkeerseilandjes ter hoogte van de Putsesteenweg en de Burgemeester Hensstraat zorgen evenwel voor de meeste ergernis. Vanaf de eerste dag dat de Sander de Vosstraat werd opengesteld, hadden bus- en vrachtwagenchauffeurs problemen om vanuit die twee zijstraten de Sander de Vosstraat op te rijden.. De verkeersborden op de eilandjes en de aangeplante hagen tot vlak bij de kruispunten beperken namelijk de ruimte om deftig te kunnen manoeuvreren met bussen en vrachtwagens.\\\". Te smal en te vol. \\\"Het gevolg is dat vier van de zes gele paaltjes zijn platgereden. Dat gebeurde al de eerste dag, zelfs als je heel traag manoeuvreert. De busen vrachtwagenchauffeurs rijden noodgedwongen ook over het voeten fietspad en door de plantenvakken met de hagen erin. Ofwel het paaltje platrijden, ofwel door de haag\\\", zegt Kris Willems.. Kristof Claes klaagt dan weer over de smalle rij- en parkeerstroken.. \\\"Hoewel ik met mijn bestelwagen reglementair op de parkeerstrook sta, heeft mijn zijspiegel al drie keer een tik gekregen. Tweemaal is hij weggeklapt, maar nu ligt hij eraf. De rijstroken zijn hier zo smal dat twee vrachtwagen heel veel moeite hebben om elkaar te kruisen. Dit zorgt er dus voor dat spiegels van geparkeerde voertuigen sneuvelen.\\\". \\\"We stellen voor dat de eilandjes worden weggenomen, of toch in ieder geval die paaltjes die erop staan, zodat je er kunt overrijden als het nodig is. En om de snelheid te verminderen, plaatst de stad best snelheidscamera's in plaats van allerlei hindernissen waarmee je de straat gevaarlijker maakt dan vroeger.\\\". \\\"We bekijken momenteel hoe we het probleem met de middeneilandjes kunnen oplossen. De paaltjes waren duidelijk niet op de juiste plaats ingepland\\\", zegt schepen van Openbare Werken Bert Wollants (N-VA).. \\\"Wat de snelheid betreft: bredere rijstroken betekent hogere snelheid en dat willen we vermijden.\\\"\",\n          \"Vrijdag rond 16 uur stelde Koen Rademaekers van elektrohandel Exellent in Riemst vast dat er een aantal spullen ontbraken. Camerabeelden toonden hoe een dame een en ander wegmoffelde in een shoppingtas. Zo had de vrouw een laptop en nog andere elektronicaspullen meegenomen. Rademaekers aarzelde niet, bewerkte een aantal camerabeelden, zodat de dievegge niet meteen herkenbaar was, en plaatste ze op Facebook. M\\u00e9t de melding dat de goederen nog betaald moesten worden. \\u201cNeen, het woord diefstal heb ik niet gebruikt en ook het gezicht van de daderes heb ik onherkenbaar gemaakt, zodat haar privacy niet geschonden werd\\u201d, zegt zaakvoerder Koen.. Geen klacht. Niet veel later werd hij gecontacteerd door de advocaat-bewindvoerder van de betrokken dame met de mededeling dat de goederen wel degelijk bij haar cli\\u00ebnte waren. \\u201cAanvankelijk sprak ze over kleinere spullen, zoals twee geurflesjes en designspullen, maar toen ik vertelde van de beelden, waarop te zien was dat ze ook andere spullen meenam, bekende de vrouw meteen alles.\\u201d. \\u201cWe hebben hier in de zaak zowat 50 camera's die elke beweging tot in het verste hoekje meermaals registreren\\u201d, verklapt Rademaekers. \\u201cHaar advocaat bevestigde dat de vrouw niet aan haar proefstuk toe was en eerder al diefstallen had gepleegd, vooral in de streek van Borgloon en Sint-Truiden. We kwamen tot een deal dat ik geen klacht zou indienen als ze alles terug zou brengen.\\u201d. Omstreeks 20.30 uur vrijdagavond arriveerden de betrokken dame en haar partner. Hij bracht alles binnen.\"\n        ],\n        \"semantic_type\": \"\",\n        \"description\": \"\"\n      }\n    },\n    {\n      \"column\": \"person\",\n      \"properties\": {\n        \"dtype\": \"category\",\n        \"num_unique_values\": 299,\n        \"samples\": [\n          \"lander de pourcq\",\n          \"joris meganck\",\n          \"conner rousseau\"\n        ],\n        \"semantic_type\": \"\",\n        \"description\": \"\"\n      }\n    },\n    {\n      \"column\": \"text_id\",\n      \"properties\": {\n        \"dtype\": \"category\",\n        \"num_unique_values\": 200,\n        \"samples\": [\n          \"67.txt\",\n          \"15.txt\",\n          \"115.txt\"\n        ],\n        \"semantic_type\": \"\",\n        \"description\": \"\"\n      }\n    },\n    {\n      \"column\": \"entropy\",\n      \"properties\": {\n        \"dtype\": \"number\",\n        \"std\": 0.6428858648820002,\n        \"min\": 0.0251581596139955,\n        \"max\": 1.9996336824493328,\n        \"num_unique_values\": 17998,\n        \"samples\": [\n          1.4754666789761737,\n          0.9363938531614088,\n          1.699978850805264\n        ],\n        \"semantic_type\": \"\",\n        \"description\": \"\"\n      }\n    },\n    {\n      \"column\": \"x\",\n      \"properties\": {\n        \"dtype\": \"float32\",\n        \"num_unique_values\": 18833,\n        \"samples\": [\n          10.77865982055664,\n          7.9268574714660645,\n          9.460423469543457\n        ],\n        \"semantic_type\": \"\",\n        \"description\": \"\"\n      }\n    },\n    {\n      \"column\": \"y\",\n      \"properties\": {\n        \"dtype\": \"float32\",\n        \"num_unique_values\": 18871,\n        \"samples\": [\n          2.770636558532715,\n          8.244741439819336,\n          3.350259780883789\n        ],\n        \"semantic_type\": \"\",\n        \"description\": \"\"\n      }\n    }\n  ]\n}"
            }
          },
          "metadata": {},
          "execution_count": 12
        }
      ]
    },
    {
      "cell_type": "code",
      "source": [
        "import matplotlib.pyplot as plt\n",
        "from scipy.spatial.distance import cosine\n",
        "\n",
        "def calculate_average_cosine_similarity(group):\n",
        "    embeddings = np.array(group['embedding'].tolist())\n",
        "    n = len(embeddings)\n",
        "    if n < 2:\n",
        "        return 0  # Not enough points to calculate similarity\n",
        "    cosine_similarities = []\n",
        "    for i in range(n):\n",
        "        for j in range(i + 1, n):\n",
        "            cosine_similarities.append(1 - cosine(embeddings[i], embeddings[j]))\n",
        "    return np.median(cosine_similarities)\n",
        "\n",
        "# Aggregate by person and calculate average cosine similarity\n",
        "similarity_df = df.groupby('person').apply(calculate_average_cosine_similarity).reset_index()\n",
        "similarity_df.columns = ['person', 'average_cosine_similarity']\n",
        "\n",
        "# Calculate the overall average cosine similarity across all persons\n",
        "overall_average_similarity = similarity_df['average_cosine_similarity'].median()\n",
        "\n",
        "# Set the minimum number of datapoints required\n",
        "min_datapoints = 3\n",
        "\n",
        "# Calculate the number of datapoints for each person\n",
        "counts = df['person'].value_counts().reset_index()\n",
        "counts.columns = ['person', 'count']\n",
        "\n",
        "# Merge the counts with the similarity dataframe\n",
        "similarity_df = similarity_df.merge(counts, on='person')\n",
        "\n",
        "# Label each person as \"specialist\" or \"generalist\" or \"NA\"\n",
        "def label_person(row, overall_average_similarity, min_datapoints):\n",
        "    if row['count'] < min_datapoints:\n",
        "        return 'NA'\n",
        "    elif row['average_cosine_similarity'] > overall_average_similarity:\n",
        "        return 'generalist'\n",
        "    else:\n",
        "        return 'specialist'\n",
        "\n",
        "similarity_df['label'] = similarity_df.apply(label_person, axis=1, overall_average_similarity=overall_average_similarity, min_datapoints=min_datapoints)\n",
        "\n",
        "# Display the similarity DataFrame with labels\n",
        "print(similarity_df)\n",
        "\n",
        "# Initialize lists to store proportions\n",
        "x_values = range(1, 100, 10)\n",
        "proportion_specialists = []\n",
        "proportion_generalists = []\n",
        "\n",
        "# Calculate proportions for each value of X\n",
        "for min_datapoints in x_values:\n",
        "    similarity_df['label'] = similarity_df.apply(label_person, axis=1, overall_average_similarity=overall_average_similarity, min_datapoints=min_datapoints)\n",
        "    total = similarity_df['label'].value_counts()\n",
        "    num_specialists = total.get('specialist', 0)\n",
        "    num_generalists = total.get('generalist', 0)\n",
        "    num_total = num_specialists + num_generalists\n",
        "    if num_total > 0:\n",
        "        proportion_specialists.append(num_specialists / num_total)\n",
        "        proportion_generalists.append(num_generalists / num_total)\n",
        "    else:\n",
        "        proportion_specialists.append(0)\n",
        "        proportion_generalists.append(0)\n",
        "\n",
        "# Create a DataFrame for plotting\n",
        "plot_df = pd.DataFrame({\n",
        "    'X': x_values,\n",
        "    'Proportion_Specialists': proportion_specialists,\n",
        "    'Proportion_Generalists': proportion_generalists\n",
        "})\n",
        "\n",
        "# Plot the results\n",
        "plt.figure(figsize=(10, 6))\n",
        "plt.plot(plot_df['X'], plot_df['Proportion_Specialists'], label='Specialists', marker='o')\n",
        "plt.plot(plot_df['X'], plot_df['Proportion_Generalists'], label='Generalists', marker='o')\n",
        "plt.xlabel('Minimum Number of Datapoints (X)')\n",
        "plt.ylabel('Proportion')\n",
        "plt.title('Proportion of Specialists and Generalists vs. Minimum Number of Datapoints (X)')\n",
        "plt.legend()\n",
        "plt.grid(True)\n",
        "plt.show()"
      ],
      "metadata": {
        "colab": {
          "base_uri": "https://localhost:8080/",
          "height": 822
        },
        "id": "r8O4qIFB4gPu",
        "outputId": "e4e16a00-95dd-478c-dd2d-300afd564f2e"
      },
      "execution_count": null,
      "outputs": [
        {
          "output_type": "stream",
          "name": "stdout",
          "text": [
            "                      person  average_cosine_similarity  count       label\n",
            "0                 de ceuster                   0.988560    200  generalist\n",
            "1             aidan reinquin                   0.981926     56  specialist\n",
            "2    alexander vandersmissen                   0.987923    200  generalist\n",
            "3             allessia claes                   0.906120    200  specialist\n",
            "4                   an moons                   0.999989    200  generalist\n",
            "..                       ...                        ...    ...         ...\n",
            "294        wouter coussement                   0.000000      1          NA\n",
            "295               wouter pas                   0.991318    200  generalist\n",
            "296             wouter patho                   0.988476    200  generalist\n",
            "297              yago bastin                   0.000000      1          NA\n",
            "298           yves de keyzer                   0.000000      1          NA\n",
            "\n",
            "[299 rows x 4 columns]\n"
          ]
        },
        {
          "output_type": "display_data",
          "data": {
            "text/plain": [
              "<Figure size 1000x600 with 1 Axes>"
            ],
            "image/png": "[encoded data removed]"
          },
          "metadata": {}
        }
      ]
    },
    {
      "cell_type": "code",
      "source": [
        "similarity_df"
      ],
      "metadata": {
        "id": "SvCCsi1Q8Qrb"
      },
      "execution_count": null,
      "outputs": []
    },
    {
      "cell_type": "code",
      "source": [
        "topic_model.visualize_topics()"
      ],
      "metadata": {
        "id": "bbBCHr7b3mqN"
      },
      "execution_count": null,
      "outputs": []
    },
    {
      "cell_type": "code",
      "source": [
        "print(topic_model.visualize_documents)"
      ],
      "metadata": {
        "id": "YMUDZNCTzJjb"
      },
      "execution_count": null,
      "outputs": []
    },
    {
      "cell_type": "code",
      "source": [
        "fig = topic_model.visualize_documents(df['text'].astype(str).tolist())\n",
        "x = [point['x'] for point in fig.data[0]['customdata']]\n",
        "y = [point['y'] for point in fig.data[0]['customdata']]\n",
        "\n",
        "# Add the 2D coordinates to the DataFrame\n",
        "df['x'] = x\n",
        "df['y'] = y\n",
        "\n",
        "# Function to calculate variance in 2D space\n",
        "def calculate_variance(group):\n",
        "    return np.var(group[['x', 'y']], axis=0).mean()\n",
        "\n",
        "# Aggregate by name and calculate variance\n",
        "variance_df = df.groupby('name').apply(calculate_variance).reset_index()\n",
        "variance_df.columns = ['name', 'variance']\n",
        "\n",
        "# Display the variance DataFrame\n",
        "print(variance_df)"
      ],
      "metadata": {
        "id": "vNZJsiTf2qdL"
      },
      "execution_count": null,
      "outputs": []
    },
    {
      "cell_type": "code",
      "source": [
        "len(fig.data)"
      ],
      "metadata": {
        "colab": {
          "base_uri": "https://localhost:8080/"
        },
        "id": "-6TMHYKX5CYh",
        "outputId": "70a46dfa-15f5-4631-fe3d-e24de907d292"
      },
      "execution_count": null,
      "outputs": [
        {
          "output_type": "execute_result",
          "data": {
            "text/plain": [
              "176"
            ]
          },
          "metadata": {},
          "execution_count": 51
        }
      ]
    },
    {
      "cell_type": "code",
      "execution_count": null,
      "metadata": {
        "id": "HjK6mpINs7YZ"
      },
      "outputs": [],
      "source": [
        "df.to_csv('/content/drive/MyDrive/entropies_and_probs.csv')"
      ]
    },
    {
      "cell_type": "code",
      "execution_count": null,
      "metadata": {
        "id": "-dvfVEMV0GCz"
      },
      "outputs": [],
      "source": [
        "probabilities_list = [probabilities[i] for i in range(len(probabilities))]\n",
        "\n",
        "# Assign the list of numpy arrays to a new column in the DataFrame\n",
        "df[\"prob_vector\"] = probabilities_list\n",
        "\n",
        "# Ensure that the Probability_Vector column contains numpy arrays\n",
        "df[\"prob_vector\"] = df[\"prob_vector\"].apply(np.array)"
      ]
    },
    {
      "cell_type": "code",
      "source": [
        "probabilities_list"
      ],
      "metadata": {
        "id": "8XrTOpzFlYjo"
      },
      "execution_count": null,
      "outputs": []
    },
    {
      "cell_type": "code",
      "source": [],
      "metadata": {
        "id": "9HafOj6m9l_l"
      },
      "execution_count": null,
      "outputs": []
    },
    {
      "cell_type": "code",
      "execution_count": null,
      "metadata": {
        "id": "sQlBGQ0PucCr"
      },
      "outputs": [],
      "source": [
        "import numpy as np\n",
        "from scipy.spatial.distance import pdist, squareform\n",
        "pairwise_distances_cosine = pdist(np.stack(df['prob_vector']), metric='cosine')\n",
        "pairwise_distances_euclidean = pdist(np.stack(df['prob_vector']), metric='euclidean')\n",
        "\n",
        "avg_distances_cosine = pairwise_distances_cosine.mean()\n",
        "avg_distances_euclidean = pairwise_distances_euclidean.mean()\n",
        "\n",
        "var_distances_cosines = pairwise_distances_cosine.var()\n",
        "var_distances_euclidean = pairwise_distances_euclidean.var()\n",
        "persons_topic_df = []\n",
        "for person in df['person'].unique():\n",
        "  person_df = df[df['person'] == person]\n",
        "  person_probs = np.stack(person_df['prob_vector'].values)\n",
        "  print(person_probs.shape)\n",
        "  person_pairwise_distances_euclidean = pdist(person_probs, metric='euclidean')\n",
        "  person_pairwise_distances_cosine = pdist(person_probs, metric='cosine')\n",
        "\n",
        "  person_avg_distances_cosine = person_pairwise_distances_cosine.mean()\n",
        "  person_avg_distances_euclidean = person_pairwise_distances_euclidian.mean()\n",
        "  person_var_distances_cosines = person_pairwise_distances_cosine.var()\n",
        "  person_var_distances_euclidean = person_pairwise_distances_euclidian.var()\n",
        "  persons_topic_df.append({'person': person, 'person_avg_cos': person_avg_distances_cosine, 'person_avg_euclid': person_avg_distances_euclid, 'person_var_cos': person_var_distances_cosines, 'person_var_eucl': person_var_distances_euclid})\n"
      ]
    },
    {
      "cell_type": "code",
      "execution_count": null,
      "metadata": {
        "id": "xknAsl1mC2ud"
      },
      "outputs": [],
      "source": [
        "person_topic_df = pd.DataFrame(persons_topic_df)"
      ]
    },
    {
      "cell_type": "code",
      "execution_count": null,
      "metadata": {
        "id": "lo3S2ghSD1Nt"
      },
      "outputs": [],
      "source": [
        "person_topic_df"
      ]
    },
    {
      "cell_type": "code",
      "execution_count": null,
      "metadata": {
        "id": "psFZXZNuD5ow"
      },
      "outputs": [],
      "source": [
        "person_topic_df['above_avg_cos'] = (person_topic_df['person_avg_cos'] > avg_distances_cosine).astype(int)\n",
        "person_topic_df['above_avg_euclid'] = (person_topic_df['person_avg_euclid'] > avg_distances_euclid).astype(int)\n",
        "person_topic_df['above_var_cos'] = (person_topic_df['person_var_cos'] > var_distances_cosines).astype(int)\n",
        "person_topic_df['above_var_euclid'] = (person_topic_df['person_var_eucl'] > var_distances_euclid).astype(int)"
      ]
    },
    {
      "cell_type": "code",
      "execution_count": null,
      "metadata": {
        "id": "MT6878HlFqtj"
      },
      "outputs": [],
      "source": [
        "person_topic_df"
      ]
    },
    {
      "cell_type": "code",
      "execution_count": null,
      "metadata": {
        "colab": {
          "base_uri": "https://localhost:8080/"
        },
        "id": "EuUWt8vUGESU",
        "outputId": "de0e275c-f6aa-4e37-d466-1b06de0d498d"
      },
      "outputs": [
        {
          "name": "stdout",
          "output_type": "stream",
          "text": [
            "0.29431438127090304\n",
            "0.2809364548494983\n",
            "0.19732441471571907\n",
            "0.5317725752508361\n"
          ]
        }
      ],
      "source": [
        "print(person_topic_df['above_avg_euclid'].mean())\n",
        "print(person_topic_df['above_var_euclid'].mean())\n",
        "print(person_topic_df['above_avg_cos'].mean())\n",
        "print(person_topic_df['above_var_cos'].mean())"
      ]
    },
    {
      "cell_type": "code",
      "execution_count": null,
      "metadata": {
        "id": "DplxJceD7OZ5"
      },
      "outputs": [],
      "source": [
        "person_topic_df.to_csv('/content/drive/MyDrive/person_topic_metrics.csv')"
      ]
    },
    {
      "cell_type": "code",
      "execution_count": null,
      "metadata": {
        "id": "l0z1obzR8nDn"
      },
      "outputs": [],
      "source": [
        "person_topic_df = pd.read_csv('/content/drive/MyDrive/person_topic_metrics.csv')"
      ]
    },
    {
      "cell_type": "code",
      "execution_count": null,
      "metadata": {
        "id": "A1IA-CdzGfz2"
      },
      "outputs": [],
      "source": [
        "url_positions = 'https://linkedin-parsing-49a53bd295b9.herokuapp.com/advisers/'\n",
        "adviser_list = (adv for adv in linked_advisers if len(adv['positions']) == 0)\n",
        "for adviser in adviser_list:\n",
        "  response_positions = requests.get(url_positions + str(adviser['id']) + \"/positions\", headers=headers)\n",
        "  for position in response_positions.json():\n",
        "    start_date = extract_year(position['start-date'])\n",
        "    end_date = extract_year(position['end-date'])\n",
        "    title = position['title']\n",
        "    description = position['description']\n",
        "    workplace = position['workplace']\n",
        "    adviser['positions'].append({'start': start_date, 'end': end_date, 'description': title + ' at ' + workplace + ': ' + description})"
      ]
    },
    {
      "cell_type": "code",
      "execution_count": null,
      "metadata": {
        "id": "unfWl_rBRLR1"
      },
      "outputs": [],
      "source": [
        "adviser_description_texts = []\n",
        "for adviser in linked_advisers:\n",
        "  for position in adviser['positions']:\n",
        "    adviser_description_texts.append({'adviser_id': adviser['id'], 'first-name': adviser['first-name'], 'name': adviser['name'], 'text': position['description'], 'start': position['start'], 'end': position['end']})\n",
        "adviser_description_df = pd.DataFrame(adviser_description_texts)"
      ]
    },
    {
      "cell_type": "code",
      "source": [
        "adviser_description_df.to_csv('/content/drive/MyDrive/adviser_df.csv')"
      ],
      "metadata": {
        "id": "VGz-ArXTFRY0"
      },
      "execution_count": null,
      "outputs": []
    },
    {
      "cell_type": "code",
      "execution_count": null,
      "metadata": {
        "id": "c14EpUBV89Sn"
      },
      "outputs": [],
      "source": [
        "from bertopic import BERTopic\n",
        "topic_model = BERTopic(calculate_probabilities=True)\n",
        "\n",
        "topics, probabilities = topic_model.fit_transform(adviser_description_df['text'].astype(str).tolist())"
      ]
    },
    {
      "cell_type": "code",
      "execution_count": null,
      "metadata": {
        "id": "rh58I4W7v2tt"
      },
      "outputs": [],
      "source": [
        "adviser_description_df"
      ]
    },
    {
      "cell_type": "code",
      "execution_count": null,
      "metadata": {
        "id": "4LonYSORv5T6",
        "colab": {
          "base_uri": "https://localhost:8080/"
        },
        "outputId": "9572b471-aef9-4d7c-8037-78a08f04273b"
      },
      "outputs": [
        {
          "output_type": "stream",
          "name": "stderr",
          "text": [
            "2024-07-10 13:09:11,401 - BERTopic - WARNING: Using a custom list of topic assignments may lead to errors if topic reduction techniques are used afterwards. Make sure that manually assigning topics is the last step in the pipeline.Note that topic embeddings will also be created through weightedc-TF-IDF embeddings instead of centroid embeddings.\n"
          ]
        }
      ],
      "source": [
        "from bertopic import BERTopic\n",
        "from sklearn.feature_extraction.text import CountVectorizer\n",
        "from stop_words import get_stop_words\n",
        "\n",
        "vectorizer_model = CountVectorizer(stop_words=get_stop_words('dutch'))\n",
        "topic_model = BERTopic(calculate_probabilities=True, nr_topics='auto', vectorizer_model = vectorizer_model, language=\"multilingual\")\n",
        "\n",
        "\n",
        "topics, probabilities = topic_model.fit_transform(adviser_description_df['text'].astype(str).tolist())\n",
        "new_topics = topic_model.reduce_outliers(adviser_description_df['text'].astype(str).tolist(), topics, strategy='c-TF-IDF')\n",
        "topic_model.update_topics(adviser_description_df['text'].astype(str).tolist(), topics=new_topics)\n",
        "topics_reduced, probabilities_reduced = topic_model.transform(adviser_description_df['text'].astype(str).tolist())"
      ]
    },
    {
      "cell_type": "code",
      "source": [
        "topic_model.visualize_topics()"
      ],
      "metadata": {
        "colab": {
          "base_uri": "https://localhost:8080/",
          "height": 667
        },
        "id": "Gu8gG6Zlktp1",
        "outputId": "edaaf74c-c8b6-4597-8dbe-c71e5ae4a713"
      },
      "execution_count": null,
      "outputs": [
        {
          "output_type": "display_data",
          "data": {
            "text/html": [
              "<html>\n",
              "<head><meta charset=\"utf-8\" /></head>\n",
              "<body>\n",
              "    <div>            <script src=\"https://cdnjs.cloudflare.com/ajax/libs/mathjax/2.7.5/MathJax.js?config=TeX-AMS-MML_SVG\"></script><script type=\"text/javascript\">if (window.MathJax && window.MathJax.Hub && window.MathJax.Hub.Config) {window.MathJax.Hub.Config({SVG: {font: \"STIX-Web\"}});}</script>                <script type=\"text/javascript\">window.PlotlyConfig = {MathJaxConfig: 'local'};</script>\n",
              "        <script charset=\"utf-8\" src=\"https://cdn.plot.ly/plotly-2.24.1.min.js\"></script>                <div id=\"b9ef49f3-0bd7-4c0d-b786-fa2a290c693f\" class=\"plotly-graph-div\" style=\"height:650px; width:650px;\"></div>            <script type=\"text/javascript\">                                    window.PLOTLYENV=window.PLOTLYENV || {};                                    if (document.getElementById(\"b9ef49f3-0bd7-4c0d-b786-fa2a290c693f\")) {                    Plotly.newPlot(                        \"b9ef49f3-0bd7-4c0d-b786-fa2a290c693f\",                        [{\"customdata\":[[0,\"van | en | minister | vlaams | vlaamse\",2566],[1,\"stad | gemeenteraadslid | gemeente | bestuurder | mechelen\",248],[2,\"marketing | manager | sales | group | product\",132],[3,\"advocaat | lawyer | jurist | advocaten | legal\",101],[4,\"voorzitter | vzw | rvb | vld | ondervoorzitter\",100],[5,\"cd | nationaal | beke | jongcd | wouter\",69],[6,\"va | medewerker | parlement | partijwoordvoerder | parlementair\",66],[7,\"schepen | stad | urban | stadsontwikkeling | city\",61],[8,\"energy | steden | wonen | sociale | energie\",82],[9,\"spf | fod | finance | analyst | financial\",75],[10,\"auditor | internal | nmbs | audit | sncb\",61],[11,\"health | agentschap | zorg | eit | vaph\",64],[12,\"director | artistic | museum | art | koninklijk\",59],[13,\"christelijke | cm | mutualiteit | chr\\u00e9tienne | mc\",33],[14,\"vlaanderen | sport | sports | bloso | gidsen\",63],[15,\"limburg | brabant | provincie | provinciebestuur | kindermishandeling\",52],[16,\"nv | partner | ship | international | secretary\",86],[17,\"cultuur | jeugd | aangelegenheden | binnenlandse | ambtenarenzaken\",51],[18,\"stafmedewerker | zorgnet | icuro | vzw | bestuurslid\",60],[19,\"centre | child | kinderopvang | kind | gezin\",44],[20,\"gezondheidszorg | centrum | geestelijke | psychiatrisch | lichaamswerk\",33],[21,\"engineer | architect | designer | architecten | ingenieur\",39],[22,\"media | imec | gemeenschap | head | smit\",51],[23,\"internship | wine | restaurant | intern | interbrew\",30],[24,\"hogeschool | thomas | more | lecturer | visiting\",41],[25,\"ocmw | ovam | raadslid | leerkracht | comit\\u00e9\",45],[26,\"schepen | gent | blankenberge | stad | rouveroij\",37],[27,\"climate | policy | advisor | founder | lucht\",50],[28,\"peeters | lydia | kabinet | kris | budget\",24],[29,\"manager | account | bank | key | payroll\",49],[30,\"morgen | editor | redacteur | magazine | uitgeverij\",36],[31,\"belgian | migration | asylum | and | for\",43],[32,\"vld | open | jong | studiedienst | stokkem\",32],[33,\"social | expert | beleidsadviseur | for | economy\",67],[34,\"kortrijk | genk | kaj | oostkust | kav\",24],[35,\"vdab | dienstverlening | intensieve | consult | expert\",26],[36,\"vrt | raad | lid | bestuur | eindredacteur\",29],[37,\"government | beleid | buitenlands | economie | of\",54],[38,\"trainer | zaakvoerder | coach | rechten | vrouwenraad\",31]],\"hovertemplate\":\"\\u003cb\\u003eTopic %{customdata[0]}\\u003c\\u002fb\\u003e\\u003cbr\\u003e%{customdata[1]}\\u003cbr\\u003eSize: %{customdata[2]}\",\"legendgroup\":\"\",\"marker\":{\"color\":\"#B0BEC5\",\"size\":[2566,248,132,101,100,69,66,61,82,75,61,64,59,33,63,52,86,51,60,44,33,39,51,30,41,45,37,50,24,49,36,43,32,67,24,26,29,54,31],\"sizemode\":\"area\",\"sizeref\":1.60375,\"symbol\":\"circle\",\"line\":{\"color\":\"DarkSlateGrey\",\"width\":2}},\"mode\":\"markers\",\"name\":\"\",\"orientation\":\"v\",\"showlegend\":false,\"x\":[5.656849384307861,-2.6978166103363037,7.040821075439453,5.907607078552246,6.71022891998291,5.8572163581848145,7.144007205963135,4.970470428466797,20.53839683532715,-19.728900909423828,-19.804588317871094,6.384650707244873,-3.080655097961426,7.22261905670166,6.266445159912109,-2.6185083389282227,8.38331413269043,5.065418243408203,4.581109046936035,5.277698040008545,6.55380916595459,-3.1110246181488037,7.09019136428833,7.27387809753418,7.078702926635742,4.773454189300537,8.440528869628906,20.538026809692383,6.224515914916992,-19.528249740600586,-3.3401436805725098,7.487318515777588,4.872056484222412,6.013381004333496,-2.5426313877105713,4.911105155944824,6.316247940063477,5.883110046386719,6.627701759338379],\"xaxis\":\"x\",\"y\":[3.985520362854004,-31.71280860900879,6.89987325668335,4.161928176879883,4.795384407043457,4.420865058898926,4.975743293762207,4.399852752685547,8.59113883972168,21.46967315673828,21.39398193359375,3.421041250228882,-32.16807174682617,4.552921772003174,5.463217258453369,-31.632251739501953,5.263943195343018,4.4058027267456055,18.300893783569336,4.646876811981201,3.292139768600464,-32.217403411865234,6.966296672821045,2.634679079055786,2.7891852855682373,18.493602752685547,5.311570644378662,8.591052055358887,3.9614083766937256,21.670324325561523,-32.455047607421875,4.134018898010254,18.59210968017578,4.971645832061768,-31.55454444885254,18.63132095336914,4.59082555770874,3.7706139087677,3.9817800521850586],\"yaxis\":\"y\",\"type\":\"scatter\"}],                        {\"template\":{\"data\":{\"barpolar\":[{\"marker\":{\"line\":{\"color\":\"white\",\"width\":0.5},\"pattern\":{\"fillmode\":\"overlay\",\"size\":10,\"solidity\":0.2}},\"type\":\"barpolar\"}],\"bar\":[{\"error_x\":{\"color\":\"rgb(36,36,36)\"},\"error_y\":{\"color\":\"rgb(36,36,36)\"},\"marker\":{\"line\":{\"color\":\"white\",\"width\":0.5},\"pattern\":{\"fillmode\":\"overlay\",\"size\":10,\"solidity\":0.2}},\"type\":\"bar\"}],\"carpet\":[{\"aaxis\":{\"endlinecolor\":\"rgb(36,36,36)\",\"gridcolor\":\"white\",\"linecolor\":\"white\",\"minorgridcolor\":\"white\",\"startlinecolor\":\"rgb(36,36,36)\"},\"baxis\":{\"endlinecolor\":\"rgb(36,36,36)\",\"gridcolor\":\"white\",\"linecolor\":\"white\",\"minorgridcolor\":\"white\",\"startlinecolor\":\"rgb(36,36,36)\"},\"type\":\"carpet\"}],\"choropleth\":[{\"colorbar\":{\"outlinewidth\":1,\"tickcolor\":\"rgb(36,36,36)\",\"ticks\":\"outside\"},\"type\":\"choropleth\"}],\"contourcarpet\":[{\"colorbar\":{\"outlinewidth\":1,\"tickcolor\":\"rgb(36,36,36)\",\"ticks\":\"outside\"},\"type\":\"contourcarpet\"}],\"contour\":[{\"colorbar\":{\"outlinewidth\":1,\"tickcolor\":\"rgb(36,36,36)\",\"ticks\":\"outside\"},\"colorscale\":[[0.0,\"#440154\"],[0.1111111111111111,\"#482878\"],[0.2222222222222222,\"#3e4989\"],[0.3333333333333333,\"#31688e\"],[0.4444444444444444,\"#26828e\"],[0.5555555555555556,\"#1f9e89\"],[0.6666666666666666,\"#35b779\"],[0.7777777777777778,\"#6ece58\"],[0.8888888888888888,\"#b5de2b\"],[1.0,\"#fde725\"]],\"type\":\"contour\"}],\"heatmapgl\":[{\"colorbar\":{\"outlinewidth\":1,\"tickcolor\":\"rgb(36,36,36)\",\"ticks\":\"outside\"},\"colorscale\":[[0.0,\"#440154\"],[0.1111111111111111,\"#482878\"],[0.2222222222222222,\"#3e4989\"],[0.3333333333333333,\"#31688e\"],[0.4444444444444444,\"#26828e\"],[0.5555555555555556,\"#1f9e89\"],[0.6666666666666666,\"#35b779\"],[0.7777777777777778,\"#6ece58\"],[0.8888888888888888,\"#b5de2b\"],[1.0,\"#fde725\"]],\"type\":\"heatmapgl\"}],\"heatmap\":[{\"colorbar\":{\"outlinewidth\":1,\"tickcolor\":\"rgb(36,36,36)\",\"ticks\":\"outside\"},\"colorscale\":[[0.0,\"#440154\"],[0.1111111111111111,\"#482878\"],[0.2222222222222222,\"#3e4989\"],[0.3333333333333333,\"#31688e\"],[0.4444444444444444,\"#26828e\"],[0.5555555555555556,\"#1f9e89\"],[0.6666666666666666,\"#35b779\"],[0.7777777777777778,\"#6ece58\"],[0.8888888888888888,\"#b5de2b\"],[1.0,\"#fde725\"]],\"type\":\"heatmap\"}],\"histogram2dcontour\":[{\"colorbar\":{\"outlinewidth\":1,\"tickcolor\":\"rgb(36,36,36)\",\"ticks\":\"outside\"},\"colorscale\":[[0.0,\"#440154\"],[0.1111111111111111,\"#482878\"],[0.2222222222222222,\"#3e4989\"],[0.3333333333333333,\"#31688e\"],[0.4444444444444444,\"#26828e\"],[0.5555555555555556,\"#1f9e89\"],[0.6666666666666666,\"#35b779\"],[0.7777777777777778,\"#6ece58\"],[0.8888888888888888,\"#b5de2b\"],[1.0,\"#fde725\"]],\"type\":\"histogram2dcontour\"}],\"histogram2d\":[{\"colorbar\":{\"outlinewidth\":1,\"tickcolor\":\"rgb(36,36,36)\",\"ticks\":\"outside\"},\"colorscale\":[[0.0,\"#440154\"],[0.1111111111111111,\"#482878\"],[0.2222222222222222,\"#3e4989\"],[0.3333333333333333,\"#31688e\"],[0.4444444444444444,\"#26828e\"],[0.5555555555555556,\"#1f9e89\"],[0.6666666666666666,\"#35b779\"],[0.7777777777777778,\"#6ece58\"],[0.8888888888888888,\"#b5de2b\"],[1.0,\"#fde725\"]],\"type\":\"histogram2d\"}],\"histogram\":[{\"marker\":{\"line\":{\"color\":\"white\",\"width\":0.6}},\"type\":\"histogram\"}],\"mesh3d\":[{\"colorbar\":{\"outlinewidth\":1,\"tickcolor\":\"rgb(36,36,36)\",\"ticks\":\"outside\"},\"type\":\"mesh3d\"}],\"parcoords\":[{\"line\":{\"colorbar\":{\"outlinewidth\":1,\"tickcolor\":\"rgb(36,36,36)\",\"ticks\":\"outside\"}},\"type\":\"parcoords\"}],\"pie\":[{\"automargin\":true,\"type\":\"pie\"}],\"scatter3d\":[{\"line\":{\"colorbar\":{\"outlinewidth\":1,\"tickcolor\":\"rgb(36,36,36)\",\"ticks\":\"outside\"}},\"marker\":{\"colorbar\":{\"outlinewidth\":1,\"tickcolor\":\"rgb(36,36,36)\",\"ticks\":\"outside\"}},\"type\":\"scatter3d\"}],\"scattercarpet\":[{\"marker\":{\"colorbar\":{\"outlinewidth\":1,\"tickcolor\":\"rgb(36,36,36)\",\"ticks\":\"outside\"}},\"type\":\"scattercarpet\"}],\"scattergeo\":[{\"marker\":{\"colorbar\":{\"outlinewidth\":1,\"tickcolor\":\"rgb(36,36,36)\",\"ticks\":\"outside\"}},\"type\":\"scattergeo\"}],\"scattergl\":[{\"marker\":{\"colorbar\":{\"outlinewidth\":1,\"tickcolor\":\"rgb(36,36,36)\",\"ticks\":\"outside\"}},\"type\":\"scattergl\"}],\"scattermapbox\":[{\"marker\":{\"colorbar\":{\"outlinewidth\":1,\"tickcolor\":\"rgb(36,36,36)\",\"ticks\":\"outside\"}},\"type\":\"scattermapbox\"}],\"scatterpolargl\":[{\"marker\":{\"colorbar\":{\"outlinewidth\":1,\"tickcolor\":\"rgb(36,36,36)\",\"ticks\":\"outside\"}},\"type\":\"scatterpolargl\"}],\"scatterpolar\":[{\"marker\":{\"colorbar\":{\"outlinewidth\":1,\"tickcolor\":\"rgb(36,36,36)\",\"ticks\":\"outside\"}},\"type\":\"scatterpolar\"}],\"scatter\":[{\"fillpattern\":{\"fillmode\":\"overlay\",\"size\":10,\"solidity\":0.2},\"type\":\"scatter\"}],\"scatterternary\":[{\"marker\":{\"colorbar\":{\"outlinewidth\":1,\"tickcolor\":\"rgb(36,36,36)\",\"ticks\":\"outside\"}},\"type\":\"scatterternary\"}],\"surface\":[{\"colorbar\":{\"outlinewidth\":1,\"tickcolor\":\"rgb(36,36,36)\",\"ticks\":\"outside\"},\"colorscale\":[[0.0,\"#440154\"],[0.1111111111111111,\"#482878\"],[0.2222222222222222,\"#3e4989\"],[0.3333333333333333,\"#31688e\"],[0.4444444444444444,\"#26828e\"],[0.5555555555555556,\"#1f9e89\"],[0.6666666666666666,\"#35b779\"],[0.7777777777777778,\"#6ece58\"],[0.8888888888888888,\"#b5de2b\"],[1.0,\"#fde725\"]],\"type\":\"surface\"}],\"table\":[{\"cells\":{\"fill\":{\"color\":\"rgb(237,237,237)\"},\"line\":{\"color\":\"white\"}},\"header\":{\"fill\":{\"color\":\"rgb(217,217,217)\"},\"line\":{\"color\":\"white\"}},\"type\":\"table\"}]},\"layout\":{\"annotationdefaults\":{\"arrowhead\":0,\"arrowwidth\":1},\"autotypenumbers\":\"strict\",\"coloraxis\":{\"colorbar\":{\"outlinewidth\":1,\"tickcolor\":\"rgb(36,36,36)\",\"ticks\":\"outside\"}},\"colorscale\":{\"diverging\":[[0.0,\"rgb(103,0,31)\"],[0.1,\"rgb(178,24,43)\"],[0.2,\"rgb(214,96,77)\"],[0.3,\"rgb(244,165,130)\"],[0.4,\"rgb(253,219,199)\"],[0.5,\"rgb(247,247,247)\"],[0.6,\"rgb(209,229,240)\"],[0.7,\"rgb(146,197,222)\"],[0.8,\"rgb(67,147,195)\"],[0.9,\"rgb(33,102,172)\"],[1.0,\"rgb(5,48,97)\"]],\"sequential\":[[0.0,\"#440154\"],[0.1111111111111111,\"#482878\"],[0.2222222222222222,\"#3e4989\"],[0.3333333333333333,\"#31688e\"],[0.4444444444444444,\"#26828e\"],[0.5555555555555556,\"#1f9e89\"],[0.6666666666666666,\"#35b779\"],[0.7777777777777778,\"#6ece58\"],[0.8888888888888888,\"#b5de2b\"],[1.0,\"#fde725\"]],\"sequentialminus\":[[0.0,\"#440154\"],[0.1111111111111111,\"#482878\"],[0.2222222222222222,\"#3e4989\"],[0.3333333333333333,\"#31688e\"],[0.4444444444444444,\"#26828e\"],[0.5555555555555556,\"#1f9e89\"],[0.6666666666666666,\"#35b779\"],[0.7777777777777778,\"#6ece58\"],[0.8888888888888888,\"#b5de2b\"],[1.0,\"#fde725\"]]},\"colorway\":[\"#1F77B4\",\"#FF7F0E\",\"#2CA02C\",\"#D62728\",\"#9467BD\",\"#8C564B\",\"#E377C2\",\"#7F7F7F\",\"#BCBD22\",\"#17BECF\"],\"font\":{\"color\":\"rgb(36,36,36)\"},\"geo\":{\"bgcolor\":\"white\",\"lakecolor\":\"white\",\"landcolor\":\"white\",\"showlakes\":true,\"showland\":true,\"subunitcolor\":\"white\"},\"hoverlabel\":{\"align\":\"left\"},\"hovermode\":\"closest\",\"mapbox\":{\"style\":\"light\"},\"paper_bgcolor\":\"white\",\"plot_bgcolor\":\"white\",\"polar\":{\"angularaxis\":{\"gridcolor\":\"rgb(232,232,232)\",\"linecolor\":\"rgb(36,36,36)\",\"showgrid\":false,\"showline\":true,\"ticks\":\"outside\"},\"bgcolor\":\"white\",\"radialaxis\":{\"gridcolor\":\"rgb(232,232,232)\",\"linecolor\":\"rgb(36,36,36)\",\"showgrid\":false,\"showline\":true,\"ticks\":\"outside\"}},\"scene\":{\"xaxis\":{\"backgroundcolor\":\"white\",\"gridcolor\":\"rgb(232,232,232)\",\"gridwidth\":2,\"linecolor\":\"rgb(36,36,36)\",\"showbackground\":true,\"showgrid\":false,\"showline\":true,\"ticks\":\"outside\",\"zeroline\":false,\"zerolinecolor\":\"rgb(36,36,36)\"},\"yaxis\":{\"backgroundcolor\":\"white\",\"gridcolor\":\"rgb(232,232,232)\",\"gridwidth\":2,\"linecolor\":\"rgb(36,36,36)\",\"showbackground\":true,\"showgrid\":false,\"showline\":true,\"ticks\":\"outside\",\"zeroline\":false,\"zerolinecolor\":\"rgb(36,36,36)\"},\"zaxis\":{\"backgroundcolor\":\"white\",\"gridcolor\":\"rgb(232,232,232)\",\"gridwidth\":2,\"linecolor\":\"rgb(36,36,36)\",\"showbackground\":true,\"showgrid\":false,\"showline\":true,\"ticks\":\"outside\",\"zeroline\":false,\"zerolinecolor\":\"rgb(36,36,36)\"}},\"shapedefaults\":{\"fillcolor\":\"black\",\"line\":{\"width\":0},\"opacity\":0.3},\"ternary\":{\"aaxis\":{\"gridcolor\":\"rgb(232,232,232)\",\"linecolor\":\"rgb(36,36,36)\",\"showgrid\":false,\"showline\":true,\"ticks\":\"outside\"},\"baxis\":{\"gridcolor\":\"rgb(232,232,232)\",\"linecolor\":\"rgb(36,36,36)\",\"showgrid\":false,\"showline\":true,\"ticks\":\"outside\"},\"bgcolor\":\"white\",\"caxis\":{\"gridcolor\":\"rgb(232,232,232)\",\"linecolor\":\"rgb(36,36,36)\",\"showgrid\":false,\"showline\":true,\"ticks\":\"outside\"}},\"title\":{\"x\":0.05},\"xaxis\":{\"automargin\":true,\"gridcolor\":\"rgb(232,232,232)\",\"linecolor\":\"rgb(36,36,36)\",\"showgrid\":false,\"showline\":true,\"ticks\":\"outside\",\"title\":{\"standoff\":15},\"zeroline\":false,\"zerolinecolor\":\"rgb(36,36,36)\"},\"yaxis\":{\"automargin\":true,\"gridcolor\":\"rgb(232,232,232)\",\"linecolor\":\"rgb(36,36,36)\",\"showgrid\":false,\"showline\":true,\"ticks\":\"outside\",\"title\":{\"standoff\":15},\"zeroline\":false,\"zerolinecolor\":\"rgb(36,36,36)\"}}},\"xaxis\":{\"anchor\":\"y\",\"domain\":[0.0,1.0],\"title\":{\"text\":\"\"},\"visible\":false,\"range\":[-22.775276565551756,23.61915636062622]},\"yaxis\":{\"anchor\":\"x\",\"domain\":[0.0,1.0],\"title\":{\"text\":\"\"},\"visible\":false,\"range\":[-37.32330474853516,24.920872974395753]},\"legend\":{\"tracegroupgap\":0,\"itemsizing\":\"constant\"},\"margin\":{\"t\":60},\"title\":{\"font\":{\"size\":22,\"color\":\"Black\"},\"text\":\"\\u003cb\\u003eIntertopic Distance Map\\u003c\\u002fb\\u003e\",\"y\":0.95,\"x\":0.5,\"xanchor\":\"center\",\"yanchor\":\"top\"},\"hoverlabel\":{\"font\":{\"size\":16,\"family\":\"Rockwell\"},\"bgcolor\":\"white\"},\"width\":650,\"height\":650,\"sliders\":[{\"active\":0,\"pad\":{\"t\":50},\"steps\":[{\"args\":[{\"marker.color\":[[\"red\",\"#B0BEC5\",\"#B0BEC5\",\"#B0BEC5\",\"#B0BEC5\",\"#B0BEC5\",\"#B0BEC5\",\"#B0BEC5\",\"#B0BEC5\",\"#B0BEC5\",\"#B0BEC5\",\"#B0BEC5\",\"#B0BEC5\",\"#B0BEC5\",\"#B0BEC5\",\"#B0BEC5\",\"#B0BEC5\",\"#B0BEC5\",\"#B0BEC5\",\"#B0BEC5\",\"#B0BEC5\",\"#B0BEC5\",\"#B0BEC5\",\"#B0BEC5\",\"#B0BEC5\",\"#B0BEC5\",\"#B0BEC5\",\"#B0BEC5\",\"#B0BEC5\",\"#B0BEC5\",\"#B0BEC5\",\"#B0BEC5\",\"#B0BEC5\",\"#B0BEC5\",\"#B0BEC5\",\"#B0BEC5\",\"#B0BEC5\",\"#B0BEC5\",\"#B0BEC5\"]]}],\"label\":\"Topic 0\",\"method\":\"update\"},{\"args\":[{\"marker.color\":[[\"#B0BEC5\",\"red\",\"#B0BEC5\",\"#B0BEC5\",\"#B0BEC5\",\"#B0BEC5\",\"#B0BEC5\",\"#B0BEC5\",\"#B0BEC5\",\"#B0BEC5\",\"#B0BEC5\",\"#B0BEC5\",\"#B0BEC5\",\"#B0BEC5\",\"#B0BEC5\",\"#B0BEC5\",\"#B0BEC5\",\"#B0BEC5\",\"#B0BEC5\",\"#B0BEC5\",\"#B0BEC5\",\"#B0BEC5\",\"#B0BEC5\",\"#B0BEC5\",\"#B0BEC5\",\"#B0BEC5\",\"#B0BEC5\",\"#B0BEC5\",\"#B0BEC5\",\"#B0BEC5\",\"#B0BEC5\",\"#B0BEC5\",\"#B0BEC5\",\"#B0BEC5\",\"#B0BEC5\",\"#B0BEC5\",\"#B0BEC5\",\"#B0BEC5\",\"#B0BEC5\"]]}],\"label\":\"Topic 1\",\"method\":\"update\"},{\"args\":[{\"marker.color\":[[\"#B0BEC5\",\"#B0BEC5\",\"red\",\"#B0BEC5\",\"#B0BEC5\",\"#B0BEC5\",\"#B0BEC5\",\"#B0BEC5\",\"#B0BEC5\",\"#B0BEC5\",\"#B0BEC5\",\"#B0BEC5\",\"#B0BEC5\",\"#B0BEC5\",\"#B0BEC5\",\"#B0BEC5\",\"#B0BEC5\",\"#B0BEC5\",\"#B0BEC5\",\"#B0BEC5\",\"#B0BEC5\",\"#B0BEC5\",\"#B0BEC5\",\"#B0BEC5\",\"#B0BEC5\",\"#B0BEC5\",\"#B0BEC5\",\"#B0BEC5\",\"#B0BEC5\",\"#B0BEC5\",\"#B0BEC5\",\"#B0BEC5\",\"#B0BEC5\",\"#B0BEC5\",\"#B0BEC5\",\"#B0BEC5\",\"#B0BEC5\",\"#B0BEC5\",\"#B0BEC5\"]]}],\"label\":\"Topic 2\",\"method\":\"update\"},{\"args\":[{\"marker.color\":[[\"#B0BEC5\",\"#B0BEC5\",\"#B0BEC5\",\"red\",\"#B0BEC5\",\"#B0BEC5\",\"#B0BEC5\",\"#B0BEC5\",\"#B0BEC5\",\"#B0BEC5\",\"#B0BEC5\",\"#B0BEC5\",\"#B0BEC5\",\"#B0BEC5\",\"#B0BEC5\",\"#B0BEC5\",\"#B0BEC5\",\"#B0BEC5\",\"#B0BEC5\",\"#B0BEC5\",\"#B0BEC5\",\"#B0BEC5\",\"#B0BEC5\",\"#B0BEC5\",\"#B0BEC5\",\"#B0BEC5\",\"#B0BEC5\",\"#B0BEC5\",\"#B0BEC5\",\"#B0BEC5\",\"#B0BEC5\",\"#B0BEC5\",\"#B0BEC5\",\"#B0BEC5\",\"#B0BEC5\",\"#B0BEC5\",\"#B0BEC5\",\"#B0BEC5\",\"#B0BEC5\"]]}],\"label\":\"Topic 3\",\"method\":\"update\"},{\"args\":[{\"marker.color\":[[\"#B0BEC5\",\"#B0BEC5\",\"#B0BEC5\",\"#B0BEC5\",\"red\",\"#B0BEC5\",\"#B0BEC5\",\"#B0BEC5\",\"#B0BEC5\",\"#B0BEC5\",\"#B0BEC5\",\"#B0BEC5\",\"#B0BEC5\",\"#B0BEC5\",\"#B0BEC5\",\"#B0BEC5\",\"#B0BEC5\",\"#B0BEC5\",\"#B0BEC5\",\"#B0BEC5\",\"#B0BEC5\",\"#B0BEC5\",\"#B0BEC5\",\"#B0BEC5\",\"#B0BEC5\",\"#B0BEC5\",\"#B0BEC5\",\"#B0BEC5\",\"#B0BEC5\",\"#B0BEC5\",\"#B0BEC5\",\"#B0BEC5\",\"#B0BEC5\",\"#B0BEC5\",\"#B0BEC5\",\"#B0BEC5\",\"#B0BEC5\",\"#B0BEC5\",\"#B0BEC5\"]]}],\"label\":\"Topic 4\",\"method\":\"update\"},{\"args\":[{\"marker.color\":[[\"#B0BEC5\",\"#B0BEC5\",\"#B0BEC5\",\"#B0BEC5\",\"#B0BEC5\",\"red\",\"#B0BEC5\",\"#B0BEC5\",\"#B0BEC5\",\"#B0BEC5\",\"#B0BEC5\",\"#B0BEC5\",\"#B0BEC5\",\"#B0BEC5\",\"#B0BEC5\",\"#B0BEC5\",\"#B0BEC5\",\"#B0BEC5\",\"#B0BEC5\",\"#B0BEC5\",\"#B0BEC5\",\"#B0BEC5\",\"#B0BEC5\",\"#B0BEC5\",\"#B0BEC5\",\"#B0BEC5\",\"#B0BEC5\",\"#B0BEC5\",\"#B0BEC5\",\"#B0BEC5\",\"#B0BEC5\",\"#B0BEC5\",\"#B0BEC5\",\"#B0BEC5\",\"#B0BEC5\",\"#B0BEC5\",\"#B0BEC5\",\"#B0BEC5\",\"#B0BEC5\"]]}],\"label\":\"Topic 5\",\"method\":\"update\"},{\"args\":[{\"marker.color\":[[\"#B0BEC5\",\"#B0BEC5\",\"#B0BEC5\",\"#B0BEC5\",\"#B0BEC5\",\"#B0BEC5\",\"red\",\"#B0BEC5\",\"#B0BEC5\",\"#B0BEC5\",\"#B0BEC5\",\"#B0BEC5\",\"#B0BEC5\",\"#B0BEC5\",\"#B0BEC5\",\"#B0BEC5\",\"#B0BEC5\",\"#B0BEC5\",\"#B0BEC5\",\"#B0BEC5\",\"#B0BEC5\",\"#B0BEC5\",\"#B0BEC5\",\"#B0BEC5\",\"#B0BEC5\",\"#B0BEC5\",\"#B0BEC5\",\"#B0BEC5\",\"#B0BEC5\",\"#B0BEC5\",\"#B0BEC5\",\"#B0BEC5\",\"#B0BEC5\",\"#B0BEC5\",\"#B0BEC5\",\"#B0BEC5\",\"#B0BEC5\",\"#B0BEC5\",\"#B0BEC5\"]]}],\"label\":\"Topic 6\",\"method\":\"update\"},{\"args\":[{\"marker.color\":[[\"#B0BEC5\",\"#B0BEC5\",\"#B0BEC5\",\"#B0BEC5\",\"#B0BEC5\",\"#B0BEC5\",\"#B0BEC5\",\"red\",\"#B0BEC5\",\"#B0BEC5\",\"#B0BEC5\",\"#B0BEC5\",\"#B0BEC5\",\"#B0BEC5\",\"#B0BEC5\",\"#B0BEC5\",\"#B0BEC5\",\"#B0BEC5\",\"#B0BEC5\",\"#B0BEC5\",\"#B0BEC5\",\"#B0BEC5\",\"#B0BEC5\",\"#B0BEC5\",\"#B0BEC5\",\"#B0BEC5\",\"#B0BEC5\",\"#B0BEC5\",\"#B0BEC5\",\"#B0BEC5\",\"#B0BEC5\",\"#B0BEC5\",\"#B0BEC5\",\"#B0BEC5\",\"#B0BEC5\",\"#B0BEC5\",\"#B0BEC5\",\"#B0BEC5\",\"#B0BEC5\"]]}],\"label\":\"Topic 7\",\"method\":\"update\"},{\"args\":[{\"marker.color\":[[\"#B0BEC5\",\"#B0BEC5\",\"#B0BEC5\",\"#B0BEC5\",\"#B0BEC5\",\"#B0BEC5\",\"#B0BEC5\",\"#B0BEC5\",\"red\",\"#B0BEC5\",\"#B0BEC5\",\"#B0BEC5\",\"#B0BEC5\",\"#B0BEC5\",\"#B0BEC5\",\"#B0BEC5\",\"#B0BEC5\",\"#B0BEC5\",\"#B0BEC5\",\"#B0BEC5\",\"#B0BEC5\",\"#B0BEC5\",\"#B0BEC5\",\"#B0BEC5\",\"#B0BEC5\",\"#B0BEC5\",\"#B0BEC5\",\"#B0BEC5\",\"#B0BEC5\",\"#B0BEC5\",\"#B0BEC5\",\"#B0BEC5\",\"#B0BEC5\",\"#B0BEC5\",\"#B0BEC5\",\"#B0BEC5\",\"#B0BEC5\",\"#B0BEC5\",\"#B0BEC5\"]]}],\"label\":\"Topic 8\",\"method\":\"update\"},{\"args\":[{\"marker.color\":[[\"#B0BEC5\",\"#B0BEC5\",\"#B0BEC5\",\"#B0BEC5\",\"#B0BEC5\",\"#B0BEC5\",\"#B0BEC5\",\"#B0BEC5\",\"#B0BEC5\",\"red\",\"#B0BEC5\",\"#B0BEC5\",\"#B0BEC5\",\"#B0BEC5\",\"#B0BEC5\",\"#B0BEC5\",\"#B0BEC5\",\"#B0BEC5\",\"#B0BEC5\",\"#B0BEC5\",\"#B0BEC5\",\"#B0BEC5\",\"#B0BEC5\",\"#B0BEC5\",\"#B0BEC5\",\"#B0BEC5\",\"#B0BEC5\",\"#B0BEC5\",\"#B0BEC5\",\"#B0BEC5\",\"#B0BEC5\",\"#B0BEC5\",\"#B0BEC5\",\"#B0BEC5\",\"#B0BEC5\",\"#B0BEC5\",\"#B0BEC5\",\"#B0BEC5\",\"#B0BEC5\"]]}],\"label\":\"Topic 9\",\"method\":\"update\"},{\"args\":[{\"marker.color\":[[\"#B0BEC5\",\"#B0BEC5\",\"#B0BEC5\",\"#B0BEC5\",\"#B0BEC5\",\"#B0BEC5\",\"#B0BEC5\",\"#B0BEC5\",\"#B0BEC5\",\"#B0BEC5\",\"red\",\"#B0BEC5\",\"#B0BEC5\",\"#B0BEC5\",\"#B0BEC5\",\"#B0BEC5\",\"#B0BEC5\",\"#B0BEC5\",\"#B0BEC5\",\"#B0BEC5\",\"#B0BEC5\",\"#B0BEC5\",\"#B0BEC5\",\"#B0BEC5\",\"#B0BEC5\",\"#B0BEC5\",\"#B0BEC5\",\"#B0BEC5\",\"#B0BEC5\",\"#B0BEC5\",\"#B0BEC5\",\"#B0BEC5\",\"#B0BEC5\",\"#B0BEC5\",\"#B0BEC5\",\"#B0BEC5\",\"#B0BEC5\",\"#B0BEC5\",\"#B0BEC5\"]]}],\"label\":\"Topic 10\",\"method\":\"update\"},{\"args\":[{\"marker.color\":[[\"#B0BEC5\",\"#B0BEC5\",\"#B0BEC5\",\"#B0BEC5\",\"#B0BEC5\",\"#B0BEC5\",\"#B0BEC5\",\"#B0BEC5\",\"#B0BEC5\",\"#B0BEC5\",\"#B0BEC5\",\"red\",\"#B0BEC5\",\"#B0BEC5\",\"#B0BEC5\",\"#B0BEC5\",\"#B0BEC5\",\"#B0BEC5\",\"#B0BEC5\",\"#B0BEC5\",\"#B0BEC5\",\"#B0BEC5\",\"#B0BEC5\",\"#B0BEC5\",\"#B0BEC5\",\"#B0BEC5\",\"#B0BEC5\",\"#B0BEC5\",\"#B0BEC5\",\"#B0BEC5\",\"#B0BEC5\",\"#B0BEC5\",\"#B0BEC5\",\"#B0BEC5\",\"#B0BEC5\",\"#B0BEC5\",\"#B0BEC5\",\"#B0BEC5\",\"#B0BEC5\"]]}],\"label\":\"Topic 11\",\"method\":\"update\"},{\"args\":[{\"marker.color\":[[\"#B0BEC5\",\"#B0BEC5\",\"#B0BEC5\",\"#B0BEC5\",\"#B0BEC5\",\"#B0BEC5\",\"#B0BEC5\",\"#B0BEC5\",\"#B0BEC5\",\"#B0BEC5\",\"#B0BEC5\",\"#B0BEC5\",\"red\",\"#B0BEC5\",\"#B0BEC5\",\"#B0BEC5\",\"#B0BEC5\",\"#B0BEC5\",\"#B0BEC5\",\"#B0BEC5\",\"#B0BEC5\",\"#B0BEC5\",\"#B0BEC5\",\"#B0BEC5\",\"#B0BEC5\",\"#B0BEC5\",\"#B0BEC5\",\"#B0BEC5\",\"#B0BEC5\",\"#B0BEC5\",\"#B0BEC5\",\"#B0BEC5\",\"#B0BEC5\",\"#B0BEC5\",\"#B0BEC5\",\"#B0BEC5\",\"#B0BEC5\",\"#B0BEC5\",\"#B0BEC5\"]]}],\"label\":\"Topic 12\",\"method\":\"update\"},{\"args\":[{\"marker.color\":[[\"#B0BEC5\",\"#B0BEC5\",\"#B0BEC5\",\"#B0BEC5\",\"#B0BEC5\",\"#B0BEC5\",\"#B0BEC5\",\"#B0BEC5\",\"#B0BEC5\",\"#B0BEC5\",\"#B0BEC5\",\"#B0BEC5\",\"#B0BEC5\",\"red\",\"#B0BEC5\",\"#B0BEC5\",\"#B0BEC5\",\"#B0BEC5\",\"#B0BEC5\",\"#B0BEC5\",\"#B0BEC5\",\"#B0BEC5\",\"#B0BEC5\",\"#B0BEC5\",\"#B0BEC5\",\"#B0BEC5\",\"#B0BEC5\",\"#B0BEC5\",\"#B0BEC5\",\"#B0BEC5\",\"#B0BEC5\",\"#B0BEC5\",\"#B0BEC5\",\"#B0BEC5\",\"#B0BEC5\",\"#B0BEC5\",\"#B0BEC5\",\"#B0BEC5\",\"#B0BEC5\"]]}],\"label\":\"Topic 13\",\"method\":\"update\"},{\"args\":[{\"marker.color\":[[\"#B0BEC5\",\"#B0BEC5\",\"#B0BEC5\",\"#B0BEC5\",\"#B0BEC5\",\"#B0BEC5\",\"#B0BEC5\",\"#B0BEC5\",\"#B0BEC5\",\"#B0BEC5\",\"#B0BEC5\",\"#B0BEC5\",\"#B0BEC5\",\"#B0BEC5\",\"red\",\"#B0BEC5\",\"#B0BEC5\",\"#B0BEC5\",\"#B0BEC5\",\"#B0BEC5\",\"#B0BEC5\",\"#B0BEC5\",\"#B0BEC5\",\"#B0BEC5\",\"#B0BEC5\",\"#B0BEC5\",\"#B0BEC5\",\"#B0BEC5\",\"#B0BEC5\",\"#B0BEC5\",\"#B0BEC5\",\"#B0BEC5\",\"#B0BEC5\",\"#B0BEC5\",\"#B0BEC5\",\"#B0BEC5\",\"#B0BEC5\",\"#B0BEC5\",\"#B0BEC5\"]]}],\"label\":\"Topic 14\",\"method\":\"update\"},{\"args\":[{\"marker.color\":[[\"#B0BEC5\",\"#B0BEC5\",\"#B0BEC5\",\"#B0BEC5\",\"#B0BEC5\",\"#B0BEC5\",\"#B0BEC5\",\"#B0BEC5\",\"#B0BEC5\",\"#B0BEC5\",\"#B0BEC5\",\"#B0BEC5\",\"#B0BEC5\",\"#B0BEC5\",\"#B0BEC5\",\"red\",\"#B0BEC5\",\"#B0BEC5\",\"#B0BEC5\",\"#B0BEC5\",\"#B0BEC5\",\"#B0BEC5\",\"#B0BEC5\",\"#B0BEC5\",\"#B0BEC5\",\"#B0BEC5\",\"#B0BEC5\",\"#B0BEC5\",\"#B0BEC5\",\"#B0BEC5\",\"#B0BEC5\",\"#B0BEC5\",\"#B0BEC5\",\"#B0BEC5\",\"#B0BEC5\",\"#B0BEC5\",\"#B0BEC5\",\"#B0BEC5\",\"#B0BEC5\"]]}],\"label\":\"Topic 15\",\"method\":\"update\"},{\"args\":[{\"marker.color\":[[\"#B0BEC5\",\"#B0BEC5\",\"#B0BEC5\",\"#B0BEC5\",\"#B0BEC5\",\"#B0BEC5\",\"#B0BEC5\",\"#B0BEC5\",\"#B0BEC5\",\"#B0BEC5\",\"#B0BEC5\",\"#B0BEC5\",\"#B0BEC5\",\"#B0BEC5\",\"#B0BEC5\",\"#B0BEC5\",\"red\",\"#B0BEC5\",\"#B0BEC5\",\"#B0BEC5\",\"#B0BEC5\",\"#B0BEC5\",\"#B0BEC5\",\"#B0BEC5\",\"#B0BEC5\",\"#B0BEC5\",\"#B0BEC5\",\"#B0BEC5\",\"#B0BEC5\",\"#B0BEC5\",\"#B0BEC5\",\"#B0BEC5\",\"#B0BEC5\",\"#B0BEC5\",\"#B0BEC5\",\"#B0BEC5\",\"#B0BEC5\",\"#B0BEC5\",\"#B0BEC5\"]]}],\"label\":\"Topic 16\",\"method\":\"update\"},{\"args\":[{\"marker.color\":[[\"#B0BEC5\",\"#B0BEC5\",\"#B0BEC5\",\"#B0BEC5\",\"#B0BEC5\",\"#B0BEC5\",\"#B0BEC5\",\"#B0BEC5\",\"#B0BEC5\",\"#B0BEC5\",\"#B0BEC5\",\"#B0BEC5\",\"#B0BEC5\",\"#B0BEC5\",\"#B0BEC5\",\"#B0BEC5\",\"#B0BEC5\",\"red\",\"#B0BEC5\",\"#B0BEC5\",\"#B0BEC5\",\"#B0BEC5\",\"#B0BEC5\",\"#B0BEC5\",\"#B0BEC5\",\"#B0BEC5\",\"#B0BEC5\",\"#B0BEC5\",\"#B0BEC5\",\"#B0BEC5\",\"#B0BEC5\",\"#B0BEC5\",\"#B0BEC5\",\"#B0BEC5\",\"#B0BEC5\",\"#B0BEC5\",\"#B0BEC5\",\"#B0BEC5\",\"#B0BEC5\"]]}],\"label\":\"Topic 17\",\"method\":\"update\"},{\"args\":[{\"marker.color\":[[\"#B0BEC5\",\"#B0BEC5\",\"#B0BEC5\",\"#B0BEC5\",\"#B0BEC5\",\"#B0BEC5\",\"#B0BEC5\",\"#B0BEC5\",\"#B0BEC5\",\"#B0BEC5\",\"#B0BEC5\",\"#B0BEC5\",\"#B0BEC5\",\"#B0BEC5\",\"#B0BEC5\",\"#B0BEC5\",\"#B0BEC5\",\"#B0BEC5\",\"red\",\"#B0BEC5\",\"#B0BEC5\",\"#B0BEC5\",\"#B0BEC5\",\"#B0BEC5\",\"#B0BEC5\",\"#B0BEC5\",\"#B0BEC5\",\"#B0BEC5\",\"#B0BEC5\",\"#B0BEC5\",\"#B0BEC5\",\"#B0BEC5\",\"#B0BEC5\",\"#B0BEC5\",\"#B0BEC5\",\"#B0BEC5\",\"#B0BEC5\",\"#B0BEC5\",\"#B0BEC5\"]]}],\"label\":\"Topic 18\",\"method\":\"update\"},{\"args\":[{\"marker.color\":[[\"#B0BEC5\",\"#B0BEC5\",\"#B0BEC5\",\"#B0BEC5\",\"#B0BEC5\",\"#B0BEC5\",\"#B0BEC5\",\"#B0BEC5\",\"#B0BEC5\",\"#B0BEC5\",\"#B0BEC5\",\"#B0BEC5\",\"#B0BEC5\",\"#B0BEC5\",\"#B0BEC5\",\"#B0BEC5\",\"#B0BEC5\",\"#B0BEC5\",\"#B0BEC5\",\"red\",\"#B0BEC5\",\"#B0BEC5\",\"#B0BEC5\",\"#B0BEC5\",\"#B0BEC5\",\"#B0BEC5\",\"#B0BEC5\",\"#B0BEC5\",\"#B0BEC5\",\"#B0BEC5\",\"#B0BEC5\",\"#B0BEC5\",\"#B0BEC5\",\"#B0BEC5\",\"#B0BEC5\",\"#B0BEC5\",\"#B0BEC5\",\"#B0BEC5\",\"#B0BEC5\"]]}],\"label\":\"Topic 19\",\"method\":\"update\"},{\"args\":[{\"marker.color\":[[\"#B0BEC5\",\"#B0BEC5\",\"#B0BEC5\",\"#B0BEC5\",\"#B0BEC5\",\"#B0BEC5\",\"#B0BEC5\",\"#B0BEC5\",\"#B0BEC5\",\"#B0BEC5\",\"#B0BEC5\",\"#B0BEC5\",\"#B0BEC5\",\"#B0BEC5\",\"#B0BEC5\",\"#B0BEC5\",\"#B0BEC5\",\"#B0BEC5\",\"#B0BEC5\",\"#B0BEC5\",\"red\",\"#B0BEC5\",\"#B0BEC5\",\"#B0BEC5\",\"#B0BEC5\",\"#B0BEC5\",\"#B0BEC5\",\"#B0BEC5\",\"#B0BEC5\",\"#B0BEC5\",\"#B0BEC5\",\"#B0BEC5\",\"#B0BEC5\",\"#B0BEC5\",\"#B0BEC5\",\"#B0BEC5\",\"#B0BEC5\",\"#B0BEC5\",\"#B0BEC5\"]]}],\"label\":\"Topic 20\",\"method\":\"update\"},{\"args\":[{\"marker.color\":[[\"#B0BEC5\",\"#B0BEC5\",\"#B0BEC5\",\"#B0BEC5\",\"#B0BEC5\",\"#B0BEC5\",\"#B0BEC5\",\"#B0BEC5\",\"#B0BEC5\",\"#B0BEC5\",\"#B0BEC5\",\"#B0BEC5\",\"#B0BEC5\",\"#B0BEC5\",\"#B0BEC5\",\"#B0BEC5\",\"#B0BEC5\",\"#B0BEC5\",\"#B0BEC5\",\"#B0BEC5\",\"#B0BEC5\",\"red\",\"#B0BEC5\",\"#B0BEC5\",\"#B0BEC5\",\"#B0BEC5\",\"#B0BEC5\",\"#B0BEC5\",\"#B0BEC5\",\"#B0BEC5\",\"#B0BEC5\",\"#B0BEC5\",\"#B0BEC5\",\"#B0BEC5\",\"#B0BEC5\",\"#B0BEC5\",\"#B0BEC5\",\"#B0BEC5\",\"#B0BEC5\"]]}],\"label\":\"Topic 21\",\"method\":\"update\"},{\"args\":[{\"marker.color\":[[\"#B0BEC5\",\"#B0BEC5\",\"#B0BEC5\",\"#B0BEC5\",\"#B0BEC5\",\"#B0BEC5\",\"#B0BEC5\",\"#B0BEC5\",\"#B0BEC5\",\"#B0BEC5\",\"#B0BEC5\",\"#B0BEC5\",\"#B0BEC5\",\"#B0BEC5\",\"#B0BEC5\",\"#B0BEC5\",\"#B0BEC5\",\"#B0BEC5\",\"#B0BEC5\",\"#B0BEC5\",\"#B0BEC5\",\"#B0BEC5\",\"red\",\"#B0BEC5\",\"#B0BEC5\",\"#B0BEC5\",\"#B0BEC5\",\"#B0BEC5\",\"#B0BEC5\",\"#B0BEC5\",\"#B0BEC5\",\"#B0BEC5\",\"#B0BEC5\",\"#B0BEC5\",\"#B0BEC5\",\"#B0BEC5\",\"#B0BEC5\",\"#B0BEC5\",\"#B0BEC5\"]]}],\"label\":\"Topic 22\",\"method\":\"update\"},{\"args\":[{\"marker.color\":[[\"#B0BEC5\",\"#B0BEC5\",\"#B0BEC5\",\"#B0BEC5\",\"#B0BEC5\",\"#B0BEC5\",\"#B0BEC5\",\"#B0BEC5\",\"#B0BEC5\",\"#B0BEC5\",\"#B0BEC5\",\"#B0BEC5\",\"#B0BEC5\",\"#B0BEC5\",\"#B0BEC5\",\"#B0BEC5\",\"#B0BEC5\",\"#B0BEC5\",\"#B0BEC5\",\"#B0BEC5\",\"#B0BEC5\",\"#B0BEC5\",\"#B0BEC5\",\"red\",\"#B0BEC5\",\"#B0BEC5\",\"#B0BEC5\",\"#B0BEC5\",\"#B0BEC5\",\"#B0BEC5\",\"#B0BEC5\",\"#B0BEC5\",\"#B0BEC5\",\"#B0BEC5\",\"#B0BEC5\",\"#B0BEC5\",\"#B0BEC5\",\"#B0BEC5\",\"#B0BEC5\"]]}],\"label\":\"Topic 23\",\"method\":\"update\"},{\"args\":[{\"marker.color\":[[\"#B0BEC5\",\"#B0BEC5\",\"#B0BEC5\",\"#B0BEC5\",\"#B0BEC5\",\"#B0BEC5\",\"#B0BEC5\",\"#B0BEC5\",\"#B0BEC5\",\"#B0BEC5\",\"#B0BEC5\",\"#B0BEC5\",\"#B0BEC5\",\"#B0BEC5\",\"#B0BEC5\",\"#B0BEC5\",\"#B0BEC5\",\"#B0BEC5\",\"#B0BEC5\",\"#B0BEC5\",\"#B0BEC5\",\"#B0BEC5\",\"#B0BEC5\",\"#B0BEC5\",\"red\",\"#B0BEC5\",\"#B0BEC5\",\"#B0BEC5\",\"#B0BEC5\",\"#B0BEC5\",\"#B0BEC5\",\"#B0BEC5\",\"#B0BEC5\",\"#B0BEC5\",\"#B0BEC5\",\"#B0BEC5\",\"#B0BEC5\",\"#B0BEC5\",\"#B0BEC5\"]]}],\"label\":\"Topic 24\",\"method\":\"update\"},{\"args\":[{\"marker.color\":[[\"#B0BEC5\",\"#B0BEC5\",\"#B0BEC5\",\"#B0BEC5\",\"#B0BEC5\",\"#B0BEC5\",\"#B0BEC5\",\"#B0BEC5\",\"#B0BEC5\",\"#B0BEC5\",\"#B0BEC5\",\"#B0BEC5\",\"#B0BEC5\",\"#B0BEC5\",\"#B0BEC5\",\"#B0BEC5\",\"#B0BEC5\",\"#B0BEC5\",\"#B0BEC5\",\"#B0BEC5\",\"#B0BEC5\",\"#B0BEC5\",\"#B0BEC5\",\"#B0BEC5\",\"#B0BEC5\",\"red\",\"#B0BEC5\",\"#B0BEC5\",\"#B0BEC5\",\"#B0BEC5\",\"#B0BEC5\",\"#B0BEC5\",\"#B0BEC5\",\"#B0BEC5\",\"#B0BEC5\",\"#B0BEC5\",\"#B0BEC5\",\"#B0BEC5\",\"#B0BEC5\"]]}],\"label\":\"Topic 25\",\"method\":\"update\"},{\"args\":[{\"marker.color\":[[\"#B0BEC5\",\"#B0BEC5\",\"#B0BEC5\",\"#B0BEC5\",\"#B0BEC5\",\"#B0BEC5\",\"#B0BEC5\",\"#B0BEC5\",\"#B0BEC5\",\"#B0BEC5\",\"#B0BEC5\",\"#B0BEC5\",\"#B0BEC5\",\"#B0BEC5\",\"#B0BEC5\",\"#B0BEC5\",\"#B0BEC5\",\"#B0BEC5\",\"#B0BEC5\",\"#B0BEC5\",\"#B0BEC5\",\"#B0BEC5\",\"#B0BEC5\",\"#B0BEC5\",\"#B0BEC5\",\"#B0BEC5\",\"red\",\"#B0BEC5\",\"#B0BEC5\",\"#B0BEC5\",\"#B0BEC5\",\"#B0BEC5\",\"#B0BEC5\",\"#B0BEC5\",\"#B0BEC5\",\"#B0BEC5\",\"#B0BEC5\",\"#B0BEC5\",\"#B0BEC5\"]]}],\"label\":\"Topic 26\",\"method\":\"update\"},{\"args\":[{\"marker.color\":[[\"#B0BEC5\",\"#B0BEC5\",\"#B0BEC5\",\"#B0BEC5\",\"#B0BEC5\",\"#B0BEC5\",\"#B0BEC5\",\"#B0BEC5\",\"#B0BEC5\",\"#B0BEC5\",\"#B0BEC5\",\"#B0BEC5\",\"#B0BEC5\",\"#B0BEC5\",\"#B0BEC5\",\"#B0BEC5\",\"#B0BEC5\",\"#B0BEC5\",\"#B0BEC5\",\"#B0BEC5\",\"#B0BEC5\",\"#B0BEC5\",\"#B0BEC5\",\"#B0BEC5\",\"#B0BEC5\",\"#B0BEC5\",\"#B0BEC5\",\"red\",\"#B0BEC5\",\"#B0BEC5\",\"#B0BEC5\",\"#B0BEC5\",\"#B0BEC5\",\"#B0BEC5\",\"#B0BEC5\",\"#B0BEC5\",\"#B0BEC5\",\"#B0BEC5\",\"#B0BEC5\"]]}],\"label\":\"Topic 27\",\"method\":\"update\"},{\"args\":[{\"marker.color\":[[\"#B0BEC5\",\"#B0BEC5\",\"#B0BEC5\",\"#B0BEC5\",\"#B0BEC5\",\"#B0BEC5\",\"#B0BEC5\",\"#B0BEC5\",\"#B0BEC5\",\"#B0BEC5\",\"#B0BEC5\",\"#B0BEC5\",\"#B0BEC5\",\"#B0BEC5\",\"#B0BEC5\",\"#B0BEC5\",\"#B0BEC5\",\"#B0BEC5\",\"#B0BEC5\",\"#B0BEC5\",\"#B0BEC5\",\"#B0BEC5\",\"#B0BEC5\",\"#B0BEC5\",\"#B0BEC5\",\"#B0BEC5\",\"#B0BEC5\",\"#B0BEC5\",\"red\",\"#B0BEC5\",\"#B0BEC5\",\"#B0BEC5\",\"#B0BEC5\",\"#B0BEC5\",\"#B0BEC5\",\"#B0BEC5\",\"#B0BEC5\",\"#B0BEC5\",\"#B0BEC5\"]]}],\"label\":\"Topic 28\",\"method\":\"update\"},{\"args\":[{\"marker.color\":[[\"#B0BEC5\",\"#B0BEC5\",\"#B0BEC5\",\"#B0BEC5\",\"#B0BEC5\",\"#B0BEC5\",\"#B0BEC5\",\"#B0BEC5\",\"#B0BEC5\",\"#B0BEC5\",\"#B0BEC5\",\"#B0BEC5\",\"#B0BEC5\",\"#B0BEC5\",\"#B0BEC5\",\"#B0BEC5\",\"#B0BEC5\",\"#B0BEC5\",\"#B0BEC5\",\"#B0BEC5\",\"#B0BEC5\",\"#B0BEC5\",\"#B0BEC5\",\"#B0BEC5\",\"#B0BEC5\",\"#B0BEC5\",\"#B0BEC5\",\"#B0BEC5\",\"#B0BEC5\",\"red\",\"#B0BEC5\",\"#B0BEC5\",\"#B0BEC5\",\"#B0BEC5\",\"#B0BEC5\",\"#B0BEC5\",\"#B0BEC5\",\"#B0BEC5\",\"#B0BEC5\"]]}],\"label\":\"Topic 29\",\"method\":\"update\"},{\"args\":[{\"marker.color\":[[\"#B0BEC5\",\"#B0BEC5\",\"#B0BEC5\",\"#B0BEC5\",\"#B0BEC5\",\"#B0BEC5\",\"#B0BEC5\",\"#B0BEC5\",\"#B0BEC5\",\"#B0BEC5\",\"#B0BEC5\",\"#B0BEC5\",\"#B0BEC5\",\"#B0BEC5\",\"#B0BEC5\",\"#B0BEC5\",\"#B0BEC5\",\"#B0BEC5\",\"#B0BEC5\",\"#B0BEC5\",\"#B0BEC5\",\"#B0BEC5\",\"#B0BEC5\",\"#B0BEC5\",\"#B0BEC5\",\"#B0BEC5\",\"#B0BEC5\",\"#B0BEC5\",\"#B0BEC5\",\"#B0BEC5\",\"red\",\"#B0BEC5\",\"#B0BEC5\",\"#B0BEC5\",\"#B0BEC5\",\"#B0BEC5\",\"#B0BEC5\",\"#B0BEC5\",\"#B0BEC5\"]]}],\"label\":\"Topic 30\",\"method\":\"update\"},{\"args\":[{\"marker.color\":[[\"#B0BEC5\",\"#B0BEC5\",\"#B0BEC5\",\"#B0BEC5\",\"#B0BEC5\",\"#B0BEC5\",\"#B0BEC5\",\"#B0BEC5\",\"#B0BEC5\",\"#B0BEC5\",\"#B0BEC5\",\"#B0BEC5\",\"#B0BEC5\",\"#B0BEC5\",\"#B0BEC5\",\"#B0BEC5\",\"#B0BEC5\",\"#B0BEC5\",\"#B0BEC5\",\"#B0BEC5\",\"#B0BEC5\",\"#B0BEC5\",\"#B0BEC5\",\"#B0BEC5\",\"#B0BEC5\",\"#B0BEC5\",\"#B0BEC5\",\"#B0BEC5\",\"#B0BEC5\",\"#B0BEC5\",\"#B0BEC5\",\"red\",\"#B0BEC5\",\"#B0BEC5\",\"#B0BEC5\",\"#B0BEC5\",\"#B0BEC5\",\"#B0BEC5\",\"#B0BEC5\"]]}],\"label\":\"Topic 31\",\"method\":\"update\"},{\"args\":[{\"marker.color\":[[\"#B0BEC5\",\"#B0BEC5\",\"#B0BEC5\",\"#B0BEC5\",\"#B0BEC5\",\"#B0BEC5\",\"#B0BEC5\",\"#B0BEC5\",\"#B0BEC5\",\"#B0BEC5\",\"#B0BEC5\",\"#B0BEC5\",\"#B0BEC5\",\"#B0BEC5\",\"#B0BEC5\",\"#B0BEC5\",\"#B0BEC5\",\"#B0BEC5\",\"#B0BEC5\",\"#B0BEC5\",\"#B0BEC5\",\"#B0BEC5\",\"#B0BEC5\",\"#B0BEC5\",\"#B0BEC5\",\"#B0BEC5\",\"#B0BEC5\",\"#B0BEC5\",\"#B0BEC5\",\"#B0BEC5\",\"#B0BEC5\",\"#B0BEC5\",\"red\",\"#B0BEC5\",\"#B0BEC5\",\"#B0BEC5\",\"#B0BEC5\",\"#B0BEC5\",\"#B0BEC5\"]]}],\"label\":\"Topic 32\",\"method\":\"update\"},{\"args\":[{\"marker.color\":[[\"#B0BEC5\",\"#B0BEC5\",\"#B0BEC5\",\"#B0BEC5\",\"#B0BEC5\",\"#B0BEC5\",\"#B0BEC5\",\"#B0BEC5\",\"#B0BEC5\",\"#B0BEC5\",\"#B0BEC5\",\"#B0BEC5\",\"#B0BEC5\",\"#B0BEC5\",\"#B0BEC5\",\"#B0BEC5\",\"#B0BEC5\",\"#B0BEC5\",\"#B0BEC5\",\"#B0BEC5\",\"#B0BEC5\",\"#B0BEC5\",\"#B0BEC5\",\"#B0BEC5\",\"#B0BEC5\",\"#B0BEC5\",\"#B0BEC5\",\"#B0BEC5\",\"#B0BEC5\",\"#B0BEC5\",\"#B0BEC5\",\"#B0BEC5\",\"#B0BEC5\",\"red\",\"#B0BEC5\",\"#B0BEC5\",\"#B0BEC5\",\"#B0BEC5\",\"#B0BEC5\"]]}],\"label\":\"Topic 33\",\"method\":\"update\"},{\"args\":[{\"marker.color\":[[\"#B0BEC5\",\"#B0BEC5\",\"#B0BEC5\",\"#B0BEC5\",\"#B0BEC5\",\"#B0BEC5\",\"#B0BEC5\",\"#B0BEC5\",\"#B0BEC5\",\"#B0BEC5\",\"#B0BEC5\",\"#B0BEC5\",\"#B0BEC5\",\"#B0BEC5\",\"#B0BEC5\",\"#B0BEC5\",\"#B0BEC5\",\"#B0BEC5\",\"#B0BEC5\",\"#B0BEC5\",\"#B0BEC5\",\"#B0BEC5\",\"#B0BEC5\",\"#B0BEC5\",\"#B0BEC5\",\"#B0BEC5\",\"#B0BEC5\",\"#B0BEC5\",\"#B0BEC5\",\"#B0BEC5\",\"#B0BEC5\",\"#B0BEC5\",\"#B0BEC5\",\"#B0BEC5\",\"red\",\"#B0BEC5\",\"#B0BEC5\",\"#B0BEC5\",\"#B0BEC5\"]]}],\"label\":\"Topic 34\",\"method\":\"update\"},{\"args\":[{\"marker.color\":[[\"#B0BEC5\",\"#B0BEC5\",\"#B0BEC5\",\"#B0BEC5\",\"#B0BEC5\",\"#B0BEC5\",\"#B0BEC5\",\"#B0BEC5\",\"#B0BEC5\",\"#B0BEC5\",\"#B0BEC5\",\"#B0BEC5\",\"#B0BEC5\",\"#B0BEC5\",\"#B0BEC5\",\"#B0BEC5\",\"#B0BEC5\",\"#B0BEC5\",\"#B0BEC5\",\"#B0BEC5\",\"#B0BEC5\",\"#B0BEC5\",\"#B0BEC5\",\"#B0BEC5\",\"#B0BEC5\",\"#B0BEC5\",\"#B0BEC5\",\"#B0BEC5\",\"#B0BEC5\",\"#B0BEC5\",\"#B0BEC5\",\"#B0BEC5\",\"#B0BEC5\",\"#B0BEC5\",\"#B0BEC5\",\"red\",\"#B0BEC5\",\"#B0BEC5\",\"#B0BEC5\"]]}],\"label\":\"Topic 35\",\"method\":\"update\"},{\"args\":[{\"marker.color\":[[\"#B0BEC5\",\"#B0BEC5\",\"#B0BEC5\",\"#B0BEC5\",\"#B0BEC5\",\"#B0BEC5\",\"#B0BEC5\",\"#B0BEC5\",\"#B0BEC5\",\"#B0BEC5\",\"#B0BEC5\",\"#B0BEC5\",\"#B0BEC5\",\"#B0BEC5\",\"#B0BEC5\",\"#B0BEC5\",\"#B0BEC5\",\"#B0BEC5\",\"#B0BEC5\",\"#B0BEC5\",\"#B0BEC5\",\"#B0BEC5\",\"#B0BEC5\",\"#B0BEC5\",\"#B0BEC5\",\"#B0BEC5\",\"#B0BEC5\",\"#B0BEC5\",\"#B0BEC5\",\"#B0BEC5\",\"#B0BEC5\",\"#B0BEC5\",\"#B0BEC5\",\"#B0BEC5\",\"#B0BEC5\",\"#B0BEC5\",\"red\",\"#B0BEC5\",\"#B0BEC5\"]]}],\"label\":\"Topic 36\",\"method\":\"update\"},{\"args\":[{\"marker.color\":[[\"#B0BEC5\",\"#B0BEC5\",\"#B0BEC5\",\"#B0BEC5\",\"#B0BEC5\",\"#B0BEC5\",\"#B0BEC5\",\"#B0BEC5\",\"#B0BEC5\",\"#B0BEC5\",\"#B0BEC5\",\"#B0BEC5\",\"#B0BEC5\",\"#B0BEC5\",\"#B0BEC5\",\"#B0BEC5\",\"#B0BEC5\",\"#B0BEC5\",\"#B0BEC5\",\"#B0BEC5\",\"#B0BEC5\",\"#B0BEC5\",\"#B0BEC5\",\"#B0BEC5\",\"#B0BEC5\",\"#B0BEC5\",\"#B0BEC5\",\"#B0BEC5\",\"#B0BEC5\",\"#B0BEC5\",\"#B0BEC5\",\"#B0BEC5\",\"#B0BEC5\",\"#B0BEC5\",\"#B0BEC5\",\"#B0BEC5\",\"#B0BEC5\",\"red\",\"#B0BEC5\"]]}],\"label\":\"Topic 37\",\"method\":\"update\"},{\"args\":[{\"marker.color\":[[\"#B0BEC5\",\"#B0BEC5\",\"#B0BEC5\",\"#B0BEC5\",\"#B0BEC5\",\"#B0BEC5\",\"#B0BEC5\",\"#B0BEC5\",\"#B0BEC5\",\"#B0BEC5\",\"#B0BEC5\",\"#B0BEC5\",\"#B0BEC5\",\"#B0BEC5\",\"#B0BEC5\",\"#B0BEC5\",\"#B0BEC5\",\"#B0BEC5\",\"#B0BEC5\",\"#B0BEC5\",\"#B0BEC5\",\"#B0BEC5\",\"#B0BEC5\",\"#B0BEC5\",\"#B0BEC5\",\"#B0BEC5\",\"#B0BEC5\",\"#B0BEC5\",\"#B0BEC5\",\"#B0BEC5\",\"#B0BEC5\",\"#B0BEC5\",\"#B0BEC5\",\"#B0BEC5\",\"#B0BEC5\",\"#B0BEC5\",\"#B0BEC5\",\"#B0BEC5\",\"red\"]]}],\"label\":\"Topic 38\",\"method\":\"update\"}]}],\"shapes\":[{\"line\":{\"color\":\"#CFD8DC\",\"width\":2},\"type\":\"line\",\"x0\":0.42193989753723216,\"x1\":0.42193989753723216,\"y0\":-37.32330474853516,\"y1\":24.920872974395753},{\"line\":{\"color\":\"#9E9E9E\",\"width\":2},\"type\":\"line\",\"x0\":-22.775276565551756,\"x1\":23.61915636062622,\"y0\":-6.2012158870697025,\"y1\":-6.2012158870697025}],\"annotations\":[{\"showarrow\":false,\"text\":\"D1\",\"x\":-22.775276565551756,\"y\":-6.2012158870697025,\"yshift\":10},{\"showarrow\":false,\"text\":\"D2\",\"x\":0.42193989753723216,\"xshift\":10,\"y\":24.920872974395753}]},                        {\"responsive\": true}                    ).then(function(){\n",
              "                            \n",
              "var gd = document.getElementById('b9ef49f3-0bd7-4c0d-b786-fa2a290c693f');\n",
              "var x = new MutationObserver(function (mutations, observer) {{\n",
              "        var display = window.getComputedStyle(gd).display;\n",
              "        if (!display || display === 'none') {{\n",
              "            console.log([gd, 'removed!']);\n",
              "            Plotly.purge(gd);\n",
              "            observer.disconnect();\n",
              "        }}\n",
              "}});\n",
              "\n",
              "// Listen for the removal of the full notebook cells\n",
              "var notebookContainer = gd.closest('#notebook-container');\n",
              "if (notebookContainer) {{\n",
              "    x.observe(notebookContainer, {childList: true});\n",
              "}}\n",
              "\n",
              "// Listen for the clearing of the current output cell\n",
              "var outputEl = gd.closest('.output');\n",
              "if (outputEl) {{\n",
              "    x.observe(outputEl, {childList: true});\n",
              "}}\n",
              "\n",
              "                        })                };                            </script>        </div>\n",
              "</body>\n",
              "</html>"
            ]
          },
          "metadata": {}
        }
      ]
    },
    {
      "cell_type": "code",
      "source": [
        "adviser_description_df['person']  = adviser_description_df['first-name'] + ' ' + adviser_description_df['name']"
      ],
      "metadata": {
        "id": "iu1zRuBPlcVm"
      },
      "execution_count": null,
      "outputs": []
    },
    {
      "cell_type": "code",
      "source": [
        "umap_model = topic_model.umap_model\n",
        "umap_embeddings = umap_model.embedding_\n",
        "\n",
        "# Add the UMAP coordinates to the DataFrame\n",
        "adviser_description_df['x'] = umap_embeddings[:, 0]\n",
        "adviser_description_df['y'] = umap_embeddings[:, 1]\n",
        "\n",
        "# Add the UMAP embeddings as columns to the DataFrame\n",
        "adviser_description_df['embedding'] = list(umap_embeddings)"
      ],
      "metadata": {
        "id": "qDCrE7tDmVUC"
      },
      "execution_count": null,
      "outputs": []
    },
    {
      "cell_type": "code",
      "source": [
        "import matplotlib.pyplot as plt\n",
        "from scipy.spatial.distance import cosine\n",
        "\n",
        "def calculate_average_cosine_similarity(group):\n",
        "    embeddings = np.array(group['embedding'].tolist())\n",
        "    n = len(embeddings)\n",
        "    if n < 2:\n",
        "        return 0  # Not enough points to calculate similarity\n",
        "    cosine_similarities = []\n",
        "    for i in range(n):\n",
        "        for j in range(i + 1, n):\n",
        "            cosine_similarities.append(1 - cosine(embeddings[i], embeddings[j]))\n",
        "    return np.median(cosine_similarities)\n",
        "\n",
        "# Aggregate by person and calculate average cosine similarity\n",
        "similarity_df_1 = adviser_description_df.groupby('person').apply(calculate_average_cosine_similarity).reset_index()\n",
        "similarity_df_1.columns = ['person', 'average_cosine_similarity']\n",
        "\n",
        "# Calculate the overall average cosine similarity across all persons\n",
        "overall_average_similarity = similarity_df_1['average_cosine_similarity'].median()\n",
        "\n",
        "# Set the minimum number of datapoints required\n",
        "min_datapoints = 3\n",
        "\n",
        "# Calculate the number of datapoints for each person\n",
        "counts = adviser_description_df['person'].value_counts().reset_index()\n",
        "counts.columns = ['person', 'count']\n",
        "\n",
        "# Merge the counts with the similarity dataframe\n",
        "similarity_df_1 = similarity_df_1.merge(counts, on='person')\n",
        "\n",
        "# Label each person as \"specialist\" or \"generalist\" or \"NA\"\n",
        "def label_person(row, overall_average_similarity, min_datapoints):\n",
        "    if row['count'] < min_datapoints:\n",
        "        return 'NA'\n",
        "    elif row['average_cosine_similarity'] > overall_average_similarity:\n",
        "        return 'generalist'\n",
        "    else:\n",
        "        return 'specialist'\n",
        "\n",
        "similarity_df_1['label'] = similarity_df_1.apply(label_person, axis=1, overall_average_similarity=overall_average_similarity, min_datapoints=min_datapoints)\n",
        "\n",
        "# Display the similarity DataFrame with labels\n",
        "print(similarity_df_1)\n",
        "\n",
        "# Initialize lists to store proportions\n",
        "x_values = range(1, 10)\n",
        "proportion_specialists = []\n",
        "proportion_generalists = []\n",
        "\n",
        "# Calculate proportions for each value of X\n",
        "for min_datapoints in x_values:\n",
        "    similarity_df_1['label'] = similarity_df_1.apply(label_person, axis=1, overall_average_similarity=overall_average_similarity, min_datapoints=min_datapoints)\n",
        "    total = similarity_df['label'].value_counts()\n",
        "    num_specialists = total.get('specialist', 0)\n",
        "    num_generalists = total.get('generalist', 0)\n",
        "    num_total = num_specialists + num_generalists\n",
        "    if num_total > 0:\n",
        "        proportion_specialists.append(num_specialists / num_total)\n",
        "        proportion_generalists.append(num_generalists / num_total)\n",
        "    else:\n",
        "        proportion_specialists.append(0)\n",
        "        proportion_generalists.append(0)\n",
        "\n",
        "# Create a DataFrame for plotting\n",
        "plot_df = pd.DataFrame({\n",
        "    'X': x_values,\n",
        "    'Proportion_Specialists': proportion_specialists,\n",
        "    'Proportion_Generalists': proportion_generalists\n",
        "})\n",
        "\n",
        "# Plot the results\n",
        "plt.figure(figsize=(10, 6))\n",
        "plt.plot(plot_df['X'], plot_df['Proportion_Specialists'], label='Specialists', marker='o')\n",
        "plt.plot(plot_df['X'], plot_df['Proportion_Generalists'], label='Generalists', marker='o')\n",
        "plt.xlabel('Minimum Number of Datapoints (X)')\n",
        "plt.ylabel('Proportion')\n",
        "plt.title('Proportion of Specialists and Generalists vs. Minimum Number of Datapoints (X)')\n",
        "plt.legend()\n",
        "plt.grid(True)\n",
        "plt.show()"
      ],
      "metadata": {
        "colab": {
          "base_uri": "https://localhost:8080/",
          "height": 822
        },
        "id": "y7q9bsDclW10",
        "outputId": "19cef884-5b64-4299-af1f-62a27fcaef4b"
      },
      "execution_count": null,
      "outputs": [
        {
          "output_type": "stream",
          "name": "stdout",
          "text": [
            "                      person  average_cosine_similarity  count       label\n",
            "0                 DE CEUSTER                   0.972794      9  specialist\n",
            "1           Adelheid ROSSEEL                   0.966263      8  specialist\n",
            "2       Adinda VAN GEYSTELEN                   0.996292     16  generalist\n",
            "3             Aidan REINQUIN                   0.962194     13  specialist\n",
            "4    Alexander VANDERSMISSEN                   0.960201      9  specialist\n",
            "..                       ...                        ...    ...         ...\n",
            "620              Yago BASTIN                   0.962585      7  specialist\n",
            "621           Yamila IDRISSI                   0.968183     18  specialist\n",
            "622         Yann VAN ROMPAEY                   0.950868      5  specialist\n",
            "623           Yves DE KEYZER                   0.992971      5  generalist\n",
            "624             Yves DEFOORT                   0.930682      6  specialist\n",
            "\n",
            "[625 rows x 4 columns]\n"
          ]
        },
        {
          "output_type": "display_data",
          "data": {
            "text/plain": [
              "<Figure size 1000x600 with 1 Axes>"
            ],
            "image/png": "[encoded data removed]"
          },
          "metadata": {}
        }
      ]
    },
    {
      "cell_type": "code",
      "source": [
        "adviser_description_df"
      ],
      "metadata": {
        "id": "ffViDDD5oKDG"
      },
      "execution_count": null,
      "outputs": []
    },
    {
      "cell_type": "code",
      "source": [
        "similarity_df_1"
      ],
      "metadata": {
        "id": "OyzjfVvhoM01"
      },
      "execution_count": null,
      "outputs": []
    },
    {
      "cell_type": "code",
      "source": [
        "similarity_df['person'] = similarity_df['person'].str.lower()\n",
        "similarity_df_1['person'] = similarity_df_1['person'].str.lower()\n",
        "\n",
        "# Rename columns to include suffix\n",
        "similarity_df = similarity_df.rename(columns={\n",
        "    'average_cosine_similarity': 'average_cosine_similarity_0',\n",
        "    'label': 'label_0'\n",
        "})\n",
        "\n",
        "similarity_df_1 = similarity_df_1.rename(columns={\n",
        "    'average_cosine_similarity': 'average_cosine_similarity_1',\n",
        "    'label': 'label_1'\n",
        "})\n",
        "\n",
        "# Merge DataFrames on 'person' column\n",
        "merged_df = pd.merge(similarity_df, similarity_df_1, on='person', how='outer')\n",
        "filtered_df = merged_df.dropna(subset=['average_cosine_similarity_0', 'average_cosine_similarity_1'])\n",
        "\n",
        "# Display the merged DataFrame\n",
        "print(filtered_df)"
      ],
      "metadata": {
        "id": "PfkzIa9arWk-"
      },
      "execution_count": null,
      "outputs": []
    },
    {
      "cell_type": "code",
      "source": [
        "import scipy\n",
        "\n",
        "spro_pol = scipy.stats.spearmanr(filtered_df['average_cosine_similarity_0'], filtered_df['average_cosine_similarity_1'], nan_policy='omit')\n",
        "print(spro_pol)\n"
      ],
      "metadata": {
        "colab": {
          "base_uri": "https://localhost:8080/"
        },
        "id": "sOEHHodTvekc",
        "outputId": "66100eed-2d52-476e-9c6a-8f366354dfff"
      },
      "execution_count": null,
      "outputs": [
        {
          "output_type": "stream",
          "name": "stdout",
          "text": [
            "SignificanceResult(statistic=-0.05790773111861026, pvalue=0.3182979027725821)\n"
          ]
        }
      ]
    },
    {
      "cell_type": "code",
      "source": [
        "url_positions = 'https://linkedin-parsing-49a53bd295b9.herokuapp.com/advisers/'\n",
        "adviser_list = (adv for adv in linked_advisers if len(adv['positions']) == 0)\n",
        "for adviser in adviser_list:\n",
        "  response_positions = requests.get(url_positions + str(adviser['id']) + \"/positions\", headers=headers)\n",
        "  for position in response_positions.json():\n",
        "    start_date = extract_year(position['start-date'])\n",
        "    end_date = extract_year(position['end-date'])\n",
        "    url_codes = 'https://linkedin-parsing-49a53bd295b9.herokuapp.com/positions/' + str(position['id']) + '/codes'\n",
        "    response_codes = requests.get(url_codes, headers=headers)\n",
        "    for code in response_codes.json():\n",
        "      if code['name'] == 'sector':\n",
        "        adviser['positions'].append({'start': start_date, 'end': end_date, 'value': code['value'], 'workplace': position['workplace'], 'title': position['title']})"
      ],
      "metadata": {
        "id": "HJFl4iawv-4E"
      },
      "execution_count": null,
      "outputs": []
    },
    {
      "cell_type": "code",
      "source": [
        "linked_advisers"
      ],
      "metadata": {
        "id": "qsaBmocfx7VO"
      },
      "execution_count": null,
      "outputs": []
    },
    {
      "cell_type": "code",
      "source": [
        "linked_advisers"
      ],
      "metadata": {
        "id": "cOywGkT7x8LL"
      },
      "execution_count": null,
      "outputs": []
    },
    {
      "cell_type": "code",
      "source": [
        "positions_codes_df = []\n",
        "for adviser in linked_advisers:\n",
        "  for position in adviser['positions']:\n",
        "      positions_codes_df.append({'adviser_id': adviser['id'], 'first-name': adviser['first-name'], 'name': adviser['name'], 'start': position['start'], 'end': position['end'], 'workplace': position['workplace'], 'title': position['title'], 'value': position['value']})\n",
        "\n",
        "positions_codes_df = pd.DataFrame(positions_codes_df)"
      ],
      "metadata": {
        "id": "aTTJSIZvWyud"
      },
      "execution_count": null,
      "outputs": []
    },
    {
      "cell_type": "code",
      "source": [
        "positions_codes_df.to_csv('/content/drive/MyDrive/positions_codes.csv')"
      ],
      "metadata": {
        "id": "c2vaA6ceX5D0"
      },
      "execution_count": null,
      "outputs": []
    },
    {
      "cell_type": "code",
      "source": [
        "filtered_positions_codes_df = positions_codes_df[positions_codes_df['value'].str.contains('gov', case=False)]"
      ],
      "metadata": {
        "id": "lQFtyfIMX9Ya"
      },
      "execution_count": null,
      "outputs": []
    },
    {
      "cell_type": "code",
      "source": [
        "filtered_positions_codes_df"
      ],
      "metadata": {
        "id": "_1IXVnddZEbG"
      },
      "execution_count": null,
      "outputs": []
    },
    {
      "cell_type": "code",
      "source": [
        "from bertopic import BERTopic\n",
        "from sklearn.feature_extraction.text import CountVectorizer\n",
        "from stop_words import get_stop_words\n",
        "\n",
        "vectorizer_model = CountVectorizer(stop_words=get_stop_words('dutch'))\n",
        "topic_model = BERTopic(calculate_probabilities=True, nr_topics='auto', vectorizer_model = vectorizer_model, language=\"multilingual\")\n",
        "\n",
        "text = filtered_positions_codes_df['workplace'].astype(str).tolist()\n",
        "\n",
        "topics, probabilities = topic_model.fit_transform(text)\n",
        "new_topics = topic_model.reduce_outliers(text, topics = topics, strategy='c-TF-IDF')\n",
        "topic_model.update_topics(text, topics=new_topics)\n",
        "topics_reduced, probabilities_reduced = topic_model.transform(text)"
      ],
      "metadata": {
        "colab": {
          "base_uri": "https://localhost:8080/"
        },
        "id": "6DnMmAUZYN3H",
        "outputId": "134526f4-c27b-49ae-8627-63e3d6b2d687"
      },
      "execution_count": null,
      "outputs": [
        {
          "output_type": "stream",
          "name": "stderr",
          "text": [
            "2024-07-10 16:11:32,518 - BERTopic - WARNING: Using a custom list of topic assignments may lead to errors if topic reduction techniques are used afterwards. Make sure that manually assigning topics is the last step in the pipeline.Note that topic embeddings will also be created through weightedc-TF-IDF embeddings instead of centroid embeddings.\n"
          ]
        }
      ]
    },
    {
      "cell_type": "code",
      "source": [
        "topic_model.visualize_topics()"
      ],
      "metadata": {
        "colab": {
          "base_uri": "https://localhost:8080/",
          "height": 667
        },
        "id": "LH0_bzDiae3Q",
        "outputId": "3e9af39d-77a8-4652-bddc-833ef6d6dfba"
      },
      "execution_count": null,
      "outputs": [
        {
          "output_type": "display_data",
          "data": {
            "text/html": [
              "<html>\n",
              "<head><meta charset=\"utf-8\" /></head>\n",
              "<body>\n",
              "    <div>            <script src=\"https://cdnjs.cloudflare.com/ajax/libs/mathjax/2.7.5/MathJax.js?config=TeX-AMS-MML_SVG\"></script><script type=\"text/javascript\">if (window.MathJax && window.MathJax.Hub && window.MathJax.Hub.Config) {window.MathJax.Hub.Config({SVG: {font: \"STIX-Web\"}});}</script>                <script type=\"text/javascript\">window.PlotlyConfig = {MathJaxConfig: 'local'};</script>\n",
              "        <script charset=\"utf-8\" src=\"https://cdn.plot.ly/plotly-2.24.1.min.js\"></script>                <div id=\"32263003-c3c6-40f7-aaf1-12f3c1f76a34\" class=\"plotly-graph-div\" style=\"height:650px; width:650px;\"></div>            <script type=\"text/javascript\">                                    window.PLOTLYENV=window.PLOTLYENV || {};                                    if (document.getElementById(\"32263003-c3c6-40f7-aaf1-12f3c1f76a34\")) {                    Plotly.newPlot(                        \"32263003-c3c6-40f7-aaf1-12f3c1f76a34\",                        [{\"customdata\":[[0,\"president | regering | de | van | vlaamse\",570],[1,\"gezin | volksgezondheid | welzijn | armoedebestrijding | vlaams\",105],[2,\"natuur | leefmilieu | economie | omgeving | vlaams\",100],[3,\"mobiliteit | werken | openbare | toerisme | dierenwelzijn\",93],[4,\"leefmilieu | landbouw | government | de | minister\",56],[5,\"ambtenarenzaken | aangelegenheden | binnenlandse | gelijke | kansen\",43],[6,\"brussel | migration | asylum | belgian | gelijke\",30],[7,\"overheid | vlaamse |  |  | \",25],[8,\"brussel | jeugd | media | cultuur | vlaams\",31],[9,\"ruimtelijke | ordening | begroting | financi\\u00ebn | sport\",30],[10,\"sport | jeugd | cultuur | brussel | aangelegeheden\",20],[11,\"overheid | vlaamse | auditcomit\\u00e9 | administratie | regering\",19],[12,\"besturrszaken | toerisme | beleid | buitenlands | media\",17],[13,\"onroerend | erfgoed | wonen | diependaele | matthias\",18],[14,\"crevits | hilde | of | prime | office\",20],[15,\"peeters | lydia | kabinet | openbare | werken\",14]],\"hovertemplate\":\"\\u003cb\\u003eTopic %{customdata[0]}\\u003c\\u002fb\\u003e\\u003cbr\\u003e%{customdata[1]}\\u003cbr\\u003eSize: %{customdata[2]}\",\"legendgroup\":\"\",\"marker\":{\"color\":\"#B0BEC5\",\"size\":[570,105,100,93,56,43,30,25,31,30,20,19,17,18,20,14],\"sizemode\":\"area\",\"sizeref\":0.35625,\"symbol\":\"circle\",\"line\":{\"color\":\"DarkSlateGrey\",\"width\":2}},\"mode\":\"markers\",\"name\":\"\",\"orientation\":\"v\",\"showlegend\":false,\"x\":[9.278127670288086,9.87160873413086,9.4810152053833,19.127283096313477,0.2591318190097809,0.03891269117593765,9.66263484954834,11.459112167358398,4.837374687194824,29.166942596435547,4.483617305755615,11.1079740524292,4.945409774780273,28.89677619934082,9.57707405090332,18.892162322998047],\"xaxis\":\"x\",\"y\":[2.7521986961364746,1.8255349397659302,2.0500123500823975,5.296993255615234,-2.6659858226776123,-2.8861467838287354,2.765042304992676,3.060209274291992,12.285597801208496,-18.59296417236328,11.930578231811523,2.934131383895874,12.393136978149414,-18.322797775268555,3.2294907569885254,5.0618157386779785],\"yaxis\":\"y\",\"type\":\"scatter\"}],                        {\"template\":{\"data\":{\"barpolar\":[{\"marker\":{\"line\":{\"color\":\"white\",\"width\":0.5},\"pattern\":{\"fillmode\":\"overlay\",\"size\":10,\"solidity\":0.2}},\"type\":\"barpolar\"}],\"bar\":[{\"error_x\":{\"color\":\"rgb(36,36,36)\"},\"error_y\":{\"color\":\"rgb(36,36,36)\"},\"marker\":{\"line\":{\"color\":\"white\",\"width\":0.5},\"pattern\":{\"fillmode\":\"overlay\",\"size\":10,\"solidity\":0.2}},\"type\":\"bar\"}],\"carpet\":[{\"aaxis\":{\"endlinecolor\":\"rgb(36,36,36)\",\"gridcolor\":\"white\",\"linecolor\":\"white\",\"minorgridcolor\":\"white\",\"startlinecolor\":\"rgb(36,36,36)\"},\"baxis\":{\"endlinecolor\":\"rgb(36,36,36)\",\"gridcolor\":\"white\",\"linecolor\":\"white\",\"minorgridcolor\":\"white\",\"startlinecolor\":\"rgb(36,36,36)\"},\"type\":\"carpet\"}],\"choropleth\":[{\"colorbar\":{\"outlinewidth\":1,\"tickcolor\":\"rgb(36,36,36)\",\"ticks\":\"outside\"},\"type\":\"choropleth\"}],\"contourcarpet\":[{\"colorbar\":{\"outlinewidth\":1,\"tickcolor\":\"rgb(36,36,36)\",\"ticks\":\"outside\"},\"type\":\"contourcarpet\"}],\"contour\":[{\"colorbar\":{\"outlinewidth\":1,\"tickcolor\":\"rgb(36,36,36)\",\"ticks\":\"outside\"},\"colorscale\":[[0.0,\"#440154\"],[0.1111111111111111,\"#482878\"],[0.2222222222222222,\"#3e4989\"],[0.3333333333333333,\"#31688e\"],[0.4444444444444444,\"#26828e\"],[0.5555555555555556,\"#1f9e89\"],[0.6666666666666666,\"#35b779\"],[0.7777777777777778,\"#6ece58\"],[0.8888888888888888,\"#b5de2b\"],[1.0,\"#fde725\"]],\"type\":\"contour\"}],\"heatmapgl\":[{\"colorbar\":{\"outlinewidth\":1,\"tickcolor\":\"rgb(36,36,36)\",\"ticks\":\"outside\"},\"colorscale\":[[0.0,\"#440154\"],[0.1111111111111111,\"#482878\"],[0.2222222222222222,\"#3e4989\"],[0.3333333333333333,\"#31688e\"],[0.4444444444444444,\"#26828e\"],[0.5555555555555556,\"#1f9e89\"],[0.6666666666666666,\"#35b779\"],[0.7777777777777778,\"#6ece58\"],[0.8888888888888888,\"#b5de2b\"],[1.0,\"#fde725\"]],\"type\":\"heatmapgl\"}],\"heatmap\":[{\"colorbar\":{\"outlinewidth\":1,\"tickcolor\":\"rgb(36,36,36)\",\"ticks\":\"outside\"},\"colorscale\":[[0.0,\"#440154\"],[0.1111111111111111,\"#482878\"],[0.2222222222222222,\"#3e4989\"],[0.3333333333333333,\"#31688e\"],[0.4444444444444444,\"#26828e\"],[0.5555555555555556,\"#1f9e89\"],[0.6666666666666666,\"#35b779\"],[0.7777777777777778,\"#6ece58\"],[0.8888888888888888,\"#b5de2b\"],[1.0,\"#fde725\"]],\"type\":\"heatmap\"}],\"histogram2dcontour\":[{\"colorbar\":{\"outlinewidth\":1,\"tickcolor\":\"rgb(36,36,36)\",\"ticks\":\"outside\"},\"colorscale\":[[0.0,\"#440154\"],[0.1111111111111111,\"#482878\"],[0.2222222222222222,\"#3e4989\"],[0.3333333333333333,\"#31688e\"],[0.4444444444444444,\"#26828e\"],[0.5555555555555556,\"#1f9e89\"],[0.6666666666666666,\"#35b779\"],[0.7777777777777778,\"#6ece58\"],[0.8888888888888888,\"#b5de2b\"],[1.0,\"#fde725\"]],\"type\":\"histogram2dcontour\"}],\"histogram2d\":[{\"colorbar\":{\"outlinewidth\":1,\"tickcolor\":\"rgb(36,36,36)\",\"ticks\":\"outside\"},\"colorscale\":[[0.0,\"#440154\"],[0.1111111111111111,\"#482878\"],[0.2222222222222222,\"#3e4989\"],[0.3333333333333333,\"#31688e\"],[0.4444444444444444,\"#26828e\"],[0.5555555555555556,\"#1f9e89\"],[0.6666666666666666,\"#35b779\"],[0.7777777777777778,\"#6ece58\"],[0.8888888888888888,\"#b5de2b\"],[1.0,\"#fde725\"]],\"type\":\"histogram2d\"}],\"histogram\":[{\"marker\":{\"line\":{\"color\":\"white\",\"width\":0.6}},\"type\":\"histogram\"}],\"mesh3d\":[{\"colorbar\":{\"outlinewidth\":1,\"tickcolor\":\"rgb(36,36,36)\",\"ticks\":\"outside\"},\"type\":\"mesh3d\"}],\"parcoords\":[{\"line\":{\"colorbar\":{\"outlinewidth\":1,\"tickcolor\":\"rgb(36,36,36)\",\"ticks\":\"outside\"}},\"type\":\"parcoords\"}],\"pie\":[{\"automargin\":true,\"type\":\"pie\"}],\"scatter3d\":[{\"line\":{\"colorbar\":{\"outlinewidth\":1,\"tickcolor\":\"rgb(36,36,36)\",\"ticks\":\"outside\"}},\"marker\":{\"colorbar\":{\"outlinewidth\":1,\"tickcolor\":\"rgb(36,36,36)\",\"ticks\":\"outside\"}},\"type\":\"scatter3d\"}],\"scattercarpet\":[{\"marker\":{\"colorbar\":{\"outlinewidth\":1,\"tickcolor\":\"rgb(36,36,36)\",\"ticks\":\"outside\"}},\"type\":\"scattercarpet\"}],\"scattergeo\":[{\"marker\":{\"colorbar\":{\"outlinewidth\":1,\"tickcolor\":\"rgb(36,36,36)\",\"ticks\":\"outside\"}},\"type\":\"scattergeo\"}],\"scattergl\":[{\"marker\":{\"colorbar\":{\"outlinewidth\":1,\"tickcolor\":\"rgb(36,36,36)\",\"ticks\":\"outside\"}},\"type\":\"scattergl\"}],\"scattermapbox\":[{\"marker\":{\"colorbar\":{\"outlinewidth\":1,\"tickcolor\":\"rgb(36,36,36)\",\"ticks\":\"outside\"}},\"type\":\"scattermapbox\"}],\"scatterpolargl\":[{\"marker\":{\"colorbar\":{\"outlinewidth\":1,\"tickcolor\":\"rgb(36,36,36)\",\"ticks\":\"outside\"}},\"type\":\"scatterpolargl\"}],\"scatterpolar\":[{\"marker\":{\"colorbar\":{\"outlinewidth\":1,\"tickcolor\":\"rgb(36,36,36)\",\"ticks\":\"outside\"}},\"type\":\"scatterpolar\"}],\"scatter\":[{\"fillpattern\":{\"fillmode\":\"overlay\",\"size\":10,\"solidity\":0.2},\"type\":\"scatter\"}],\"scatterternary\":[{\"marker\":{\"colorbar\":{\"outlinewidth\":1,\"tickcolor\":\"rgb(36,36,36)\",\"ticks\":\"outside\"}},\"type\":\"scatterternary\"}],\"surface\":[{\"colorbar\":{\"outlinewidth\":1,\"tickcolor\":\"rgb(36,36,36)\",\"ticks\":\"outside\"},\"colorscale\":[[0.0,\"#440154\"],[0.1111111111111111,\"#482878\"],[0.2222222222222222,\"#3e4989\"],[0.3333333333333333,\"#31688e\"],[0.4444444444444444,\"#26828e\"],[0.5555555555555556,\"#1f9e89\"],[0.6666666666666666,\"#35b779\"],[0.7777777777777778,\"#6ece58\"],[0.8888888888888888,\"#b5de2b\"],[1.0,\"#fde725\"]],\"type\":\"surface\"}],\"table\":[{\"cells\":{\"fill\":{\"color\":\"rgb(237,237,237)\"},\"line\":{\"color\":\"white\"}},\"header\":{\"fill\":{\"color\":\"rgb(217,217,217)\"},\"line\":{\"color\":\"white\"}},\"type\":\"table\"}]},\"layout\":{\"annotationdefaults\":{\"arrowhead\":0,\"arrowwidth\":1},\"autotypenumbers\":\"strict\",\"coloraxis\":{\"colorbar\":{\"outlinewidth\":1,\"tickcolor\":\"rgb(36,36,36)\",\"ticks\":\"outside\"}},\"colorscale\":{\"diverging\":[[0.0,\"rgb(103,0,31)\"],[0.1,\"rgb(178,24,43)\"],[0.2,\"rgb(214,96,77)\"],[0.3,\"rgb(244,165,130)\"],[0.4,\"rgb(253,219,199)\"],[0.5,\"rgb(247,247,247)\"],[0.6,\"rgb(209,229,240)\"],[0.7,\"rgb(146,197,222)\"],[0.8,\"rgb(67,147,195)\"],[0.9,\"rgb(33,102,172)\"],[1.0,\"rgb(5,48,97)\"]],\"sequential\":[[0.0,\"#440154\"],[0.1111111111111111,\"#482878\"],[0.2222222222222222,\"#3e4989\"],[0.3333333333333333,\"#31688e\"],[0.4444444444444444,\"#26828e\"],[0.5555555555555556,\"#1f9e89\"],[0.6666666666666666,\"#35b779\"],[0.7777777777777778,\"#6ece58\"],[0.8888888888888888,\"#b5de2b\"],[1.0,\"#fde725\"]],\"sequentialminus\":[[0.0,\"#440154\"],[0.1111111111111111,\"#482878\"],[0.2222222222222222,\"#3e4989\"],[0.3333333333333333,\"#31688e\"],[0.4444444444444444,\"#26828e\"],[0.5555555555555556,\"#1f9e89\"],[0.6666666666666666,\"#35b779\"],[0.7777777777777778,\"#6ece58\"],[0.8888888888888888,\"#b5de2b\"],[1.0,\"#fde725\"]]},\"colorway\":[\"#1F77B4\",\"#FF7F0E\",\"#2CA02C\",\"#D62728\",\"#9467BD\",\"#8C564B\",\"#E377C2\",\"#7F7F7F\",\"#BCBD22\",\"#17BECF\"],\"font\":{\"color\":\"rgb(36,36,36)\"},\"geo\":{\"bgcolor\":\"white\",\"lakecolor\":\"white\",\"landcolor\":\"white\",\"showlakes\":true,\"showland\":true,\"subunitcolor\":\"white\"},\"hoverlabel\":{\"align\":\"left\"},\"hovermode\":\"closest\",\"mapbox\":{\"style\":\"light\"},\"paper_bgcolor\":\"white\",\"plot_bgcolor\":\"white\",\"polar\":{\"angularaxis\":{\"gridcolor\":\"rgb(232,232,232)\",\"linecolor\":\"rgb(36,36,36)\",\"showgrid\":false,\"showline\":true,\"ticks\":\"outside\"},\"bgcolor\":\"white\",\"radialaxis\":{\"gridcolor\":\"rgb(232,232,232)\",\"linecolor\":\"rgb(36,36,36)\",\"showgrid\":false,\"showline\":true,\"ticks\":\"outside\"}},\"scene\":{\"xaxis\":{\"backgroundcolor\":\"white\",\"gridcolor\":\"rgb(232,232,232)\",\"gridwidth\":2,\"linecolor\":\"rgb(36,36,36)\",\"showbackground\":true,\"showgrid\":false,\"showline\":true,\"ticks\":\"outside\",\"zeroline\":false,\"zerolinecolor\":\"rgb(36,36,36)\"},\"yaxis\":{\"backgroundcolor\":\"white\",\"gridcolor\":\"rgb(232,232,232)\",\"gridwidth\":2,\"linecolor\":\"rgb(36,36,36)\",\"showbackground\":true,\"showgrid\":false,\"showline\":true,\"ticks\":\"outside\",\"zeroline\":false,\"zerolinecolor\":\"rgb(36,36,36)\"},\"zaxis\":{\"backgroundcolor\":\"white\",\"gridcolor\":\"rgb(232,232,232)\",\"gridwidth\":2,\"linecolor\":\"rgb(36,36,36)\",\"showbackground\":true,\"showgrid\":false,\"showline\":true,\"ticks\":\"outside\",\"zeroline\":false,\"zerolinecolor\":\"rgb(36,36,36)\"}},\"shapedefaults\":{\"fillcolor\":\"black\",\"line\":{\"width\":0},\"opacity\":0.3},\"ternary\":{\"aaxis\":{\"gridcolor\":\"rgb(232,232,232)\",\"linecolor\":\"rgb(36,36,36)\",\"showgrid\":false,\"showline\":true,\"ticks\":\"outside\"},\"baxis\":{\"gridcolor\":\"rgb(232,232,232)\",\"linecolor\":\"rgb(36,36,36)\",\"showgrid\":false,\"showline\":true,\"ticks\":\"outside\"},\"bgcolor\":\"white\",\"caxis\":{\"gridcolor\":\"rgb(232,232,232)\",\"linecolor\":\"rgb(36,36,36)\",\"showgrid\":false,\"showline\":true,\"ticks\":\"outside\"}},\"title\":{\"x\":0.05},\"xaxis\":{\"automargin\":true,\"gridcolor\":\"rgb(232,232,232)\",\"linecolor\":\"rgb(36,36,36)\",\"showgrid\":false,\"showline\":true,\"ticks\":\"outside\",\"title\":{\"standoff\":15},\"zeroline\":false,\"zerolinecolor\":\"rgb(36,36,36)\"},\"yaxis\":{\"automargin\":true,\"gridcolor\":\"rgb(232,232,232)\",\"linecolor\":\"rgb(36,36,36)\",\"showgrid\":false,\"showline\":true,\"ticks\":\"outside\",\"title\":{\"standoff\":15},\"zeroline\":false,\"zerolinecolor\":\"rgb(36,36,36)\"}}},\"xaxis\":{\"anchor\":\"y\",\"domain\":[0.0,1.0],\"title\":{\"text\":\"\"},\"visible\":false,\"range\":[0.033075787499547,33.54198398590088]},\"yaxis\":{\"anchor\":\"x\",\"domain\":[0.0,1.0],\"title\":{\"text\":\"\"},\"visible\":false,\"range\":[-21.381908798217772,14.252107524871827]},\"legend\":{\"tracegroupgap\":0,\"itemsizing\":\"constant\"},\"margin\":{\"t\":60},\"title\":{\"font\":{\"size\":22,\"color\":\"Black\"},\"text\":\"\\u003cb\\u003eIntertopic Distance Map\\u003c\\u002fb\\u003e\",\"y\":0.95,\"x\":0.5,\"xanchor\":\"center\",\"yanchor\":\"top\"},\"hoverlabel\":{\"font\":{\"size\":16,\"family\":\"Rockwell\"},\"bgcolor\":\"white\"},\"width\":650,\"height\":650,\"sliders\":[{\"active\":0,\"pad\":{\"t\":50},\"steps\":[{\"args\":[{\"marker.color\":[[\"red\",\"#B0BEC5\",\"#B0BEC5\",\"#B0BEC5\",\"#B0BEC5\",\"#B0BEC5\",\"#B0BEC5\",\"#B0BEC5\",\"#B0BEC5\",\"#B0BEC5\",\"#B0BEC5\",\"#B0BEC5\",\"#B0BEC5\",\"#B0BEC5\",\"#B0BEC5\",\"#B0BEC5\"]]}],\"label\":\"Topic 0\",\"method\":\"update\"},{\"args\":[{\"marker.color\":[[\"#B0BEC5\",\"red\",\"#B0BEC5\",\"#B0BEC5\",\"#B0BEC5\",\"#B0BEC5\",\"#B0BEC5\",\"#B0BEC5\",\"#B0BEC5\",\"#B0BEC5\",\"#B0BEC5\",\"#B0BEC5\",\"#B0BEC5\",\"#B0BEC5\",\"#B0BEC5\",\"#B0BEC5\"]]}],\"label\":\"Topic 1\",\"method\":\"update\"},{\"args\":[{\"marker.color\":[[\"#B0BEC5\",\"#B0BEC5\",\"red\",\"#B0BEC5\",\"#B0BEC5\",\"#B0BEC5\",\"#B0BEC5\",\"#B0BEC5\",\"#B0BEC5\",\"#B0BEC5\",\"#B0BEC5\",\"#B0BEC5\",\"#B0BEC5\",\"#B0BEC5\",\"#B0BEC5\",\"#B0BEC5\"]]}],\"label\":\"Topic 2\",\"method\":\"update\"},{\"args\":[{\"marker.color\":[[\"#B0BEC5\",\"#B0BEC5\",\"#B0BEC5\",\"red\",\"#B0BEC5\",\"#B0BEC5\",\"#B0BEC5\",\"#B0BEC5\",\"#B0BEC5\",\"#B0BEC5\",\"#B0BEC5\",\"#B0BEC5\",\"#B0BEC5\",\"#B0BEC5\",\"#B0BEC5\",\"#B0BEC5\"]]}],\"label\":\"Topic 3\",\"method\":\"update\"},{\"args\":[{\"marker.color\":[[\"#B0BEC5\",\"#B0BEC5\",\"#B0BEC5\",\"#B0BEC5\",\"red\",\"#B0BEC5\",\"#B0BEC5\",\"#B0BEC5\",\"#B0BEC5\",\"#B0BEC5\",\"#B0BEC5\",\"#B0BEC5\",\"#B0BEC5\",\"#B0BEC5\",\"#B0BEC5\",\"#B0BEC5\"]]}],\"label\":\"Topic 4\",\"method\":\"update\"},{\"args\":[{\"marker.color\":[[\"#B0BEC5\",\"#B0BEC5\",\"#B0BEC5\",\"#B0BEC5\",\"#B0BEC5\",\"red\",\"#B0BEC5\",\"#B0BEC5\",\"#B0BEC5\",\"#B0BEC5\",\"#B0BEC5\",\"#B0BEC5\",\"#B0BEC5\",\"#B0BEC5\",\"#B0BEC5\",\"#B0BEC5\"]]}],\"label\":\"Topic 5\",\"method\":\"update\"},{\"args\":[{\"marker.color\":[[\"#B0BEC5\",\"#B0BEC5\",\"#B0BEC5\",\"#B0BEC5\",\"#B0BEC5\",\"#B0BEC5\",\"red\",\"#B0BEC5\",\"#B0BEC5\",\"#B0BEC5\",\"#B0BEC5\",\"#B0BEC5\",\"#B0BEC5\",\"#B0BEC5\",\"#B0BEC5\",\"#B0BEC5\"]]}],\"label\":\"Topic 6\",\"method\":\"update\"},{\"args\":[{\"marker.color\":[[\"#B0BEC5\",\"#B0BEC5\",\"#B0BEC5\",\"#B0BEC5\",\"#B0BEC5\",\"#B0BEC5\",\"#B0BEC5\",\"red\",\"#B0BEC5\",\"#B0BEC5\",\"#B0BEC5\",\"#B0BEC5\",\"#B0BEC5\",\"#B0BEC5\",\"#B0BEC5\",\"#B0BEC5\"]]}],\"label\":\"Topic 7\",\"method\":\"update\"},{\"args\":[{\"marker.color\":[[\"#B0BEC5\",\"#B0BEC5\",\"#B0BEC5\",\"#B0BEC5\",\"#B0BEC5\",\"#B0BEC5\",\"#B0BEC5\",\"#B0BEC5\",\"red\",\"#B0BEC5\",\"#B0BEC5\",\"#B0BEC5\",\"#B0BEC5\",\"#B0BEC5\",\"#B0BEC5\",\"#B0BEC5\"]]}],\"label\":\"Topic 8\",\"method\":\"update\"},{\"args\":[{\"marker.color\":[[\"#B0BEC5\",\"#B0BEC5\",\"#B0BEC5\",\"#B0BEC5\",\"#B0BEC5\",\"#B0BEC5\",\"#B0BEC5\",\"#B0BEC5\",\"#B0BEC5\",\"red\",\"#B0BEC5\",\"#B0BEC5\",\"#B0BEC5\",\"#B0BEC5\",\"#B0BEC5\",\"#B0BEC5\"]]}],\"label\":\"Topic 9\",\"method\":\"update\"},{\"args\":[{\"marker.color\":[[\"#B0BEC5\",\"#B0BEC5\",\"#B0BEC5\",\"#B0BEC5\",\"#B0BEC5\",\"#B0BEC5\",\"#B0BEC5\",\"#B0BEC5\",\"#B0BEC5\",\"#B0BEC5\",\"red\",\"#B0BEC5\",\"#B0BEC5\",\"#B0BEC5\",\"#B0BEC5\",\"#B0BEC5\"]]}],\"label\":\"Topic 10\",\"method\":\"update\"},{\"args\":[{\"marker.color\":[[\"#B0BEC5\",\"#B0BEC5\",\"#B0BEC5\",\"#B0BEC5\",\"#B0BEC5\",\"#B0BEC5\",\"#B0BEC5\",\"#B0BEC5\",\"#B0BEC5\",\"#B0BEC5\",\"#B0BEC5\",\"red\",\"#B0BEC5\",\"#B0BEC5\",\"#B0BEC5\",\"#B0BEC5\"]]}],\"label\":\"Topic 11\",\"method\":\"update\"},{\"args\":[{\"marker.color\":[[\"#B0BEC5\",\"#B0BEC5\",\"#B0BEC5\",\"#B0BEC5\",\"#B0BEC5\",\"#B0BEC5\",\"#B0BEC5\",\"#B0BEC5\",\"#B0BEC5\",\"#B0BEC5\",\"#B0BEC5\",\"#B0BEC5\",\"red\",\"#B0BEC5\",\"#B0BEC5\",\"#B0BEC5\"]]}],\"label\":\"Topic 12\",\"method\":\"update\"},{\"args\":[{\"marker.color\":[[\"#B0BEC5\",\"#B0BEC5\",\"#B0BEC5\",\"#B0BEC5\",\"#B0BEC5\",\"#B0BEC5\",\"#B0BEC5\",\"#B0BEC5\",\"#B0BEC5\",\"#B0BEC5\",\"#B0BEC5\",\"#B0BEC5\",\"#B0BEC5\",\"red\",\"#B0BEC5\",\"#B0BEC5\"]]}],\"label\":\"Topic 13\",\"method\":\"update\"},{\"args\":[{\"marker.color\":[[\"#B0BEC5\",\"#B0BEC5\",\"#B0BEC5\",\"#B0BEC5\",\"#B0BEC5\",\"#B0BEC5\",\"#B0BEC5\",\"#B0BEC5\",\"#B0BEC5\",\"#B0BEC5\",\"#B0BEC5\",\"#B0BEC5\",\"#B0BEC5\",\"#B0BEC5\",\"red\",\"#B0BEC5\"]]}],\"label\":\"Topic 14\",\"method\":\"update\"},{\"args\":[{\"marker.color\":[[\"#B0BEC5\",\"#B0BEC5\",\"#B0BEC5\",\"#B0BEC5\",\"#B0BEC5\",\"#B0BEC5\",\"#B0BEC5\",\"#B0BEC5\",\"#B0BEC5\",\"#B0BEC5\",\"#B0BEC5\",\"#B0BEC5\",\"#B0BEC5\",\"#B0BEC5\",\"#B0BEC5\",\"red\"]]}],\"label\":\"Topic 15\",\"method\":\"update\"}]}],\"shapes\":[{\"line\":{\"color\":\"#CFD8DC\",\"width\":2},\"type\":\"line\",\"x0\":16.787529886700213,\"x1\":16.787529886700213,\"y0\":-21.381908798217772,\"y1\":14.252107524871827},{\"line\":{\"color\":\"#9E9E9E\",\"width\":2},\"type\":\"line\",\"x0\":0.033075787499547,\"x1\":33.54198398590088,\"y0\":-3.5649006366729727,\"y1\":-3.5649006366729727}],\"annotations\":[{\"showarrow\":false,\"text\":\"D1\",\"x\":0.033075787499547,\"y\":-3.5649006366729727,\"yshift\":10},{\"showarrow\":false,\"text\":\"D2\",\"x\":16.787529886700213,\"xshift\":10,\"y\":14.252107524871827}]},                        {\"responsive\": true}                    ).then(function(){\n",
              "                            \n",
              "var gd = document.getElementById('32263003-c3c6-40f7-aaf1-12f3c1f76a34');\n",
              "var x = new MutationObserver(function (mutations, observer) {{\n",
              "        var display = window.getComputedStyle(gd).display;\n",
              "        if (!display || display === 'none') {{\n",
              "            console.log([gd, 'removed!']);\n",
              "            Plotly.purge(gd);\n",
              "            observer.disconnect();\n",
              "        }}\n",
              "}});\n",
              "\n",
              "// Listen for the removal of the full notebook cells\n",
              "var notebookContainer = gd.closest('#notebook-container');\n",
              "if (notebookContainer) {{\n",
              "    x.observe(notebookContainer, {childList: true});\n",
              "}}\n",
              "\n",
              "// Listen for the clearing of the current output cell\n",
              "var outputEl = gd.closest('.output');\n",
              "if (outputEl) {{\n",
              "    x.observe(outputEl, {childList: true});\n",
              "}}\n",
              "\n",
              "                        })                };                            </script>        </div>\n",
              "</body>\n",
              "</html>"
            ]
          },
          "metadata": {}
        }
      ]
    }
  ],
  "metadata": {
    "accelerator": "GPU",
    "colab": {
      "gpuType": "L4",
      "machine_shape": "hm",
      "provenance": [],
      "mount_file_id": "13JiLUuJ5Qebc0yWat-I6DcALkgOILR4-",
      "authorship_tag": "ABX9TyODq+2HEWknm86iRt20a+wP"
    },
    "kernelspec": {
      "display_name": "Python 3",
      "name": "python3"
    },
    "language_info": {
      "name": "python"
    },
    "widgets": {
      "application/vnd.jupyter.widget-state+json": {
        "0672df6bbdb74189993defd3073b8f5a": {
          "model_module": "@jupyter-widgets/base",
          "model_module_version": "1.2.0",
          "model_name": "LayoutModel",
          "state": {
            "_model_module": "@jupyter-widgets/base",
            "_model_module_version": "1.2.0",
            "_model_name": "LayoutModel",
            "_view_count": null,
            "_view_module": "@jupyter-widgets/base",
            "_view_module_version": "1.2.0",
            "_view_name": "LayoutView",
            "align_content": null,
            "align_items": null,
            "align_self": null,
            "border": null,
            "bottom": null,
            "display": null,
            "flex": null,
            "flex_flow": null,
            "grid_area": null,
            "grid_auto_columns": null,
            "grid_auto_flow": null,
            "grid_auto_rows": null,
            "grid_column": null,
            "grid_gap": null,
            "grid_row": null,
            "grid_template_areas": null,
            "grid_template_columns": null,
            "grid_template_rows": null,
            "height": null,
            "justify_content": null,
            "justify_items": null,
            "left": null,
            "margin": null,
            "max_height": null,
            "max_width": null,
            "min_height": null,
            "min_width": null,
            "object_fit": null,
            "object_position": null,
            "order": null,
            "overflow": null,
            "overflow_x": null,
            "overflow_y": null,
            "padding": null,
            "right": null,
            "top": null,
            "visibility": null,
            "width": null
          }
        },
        "115e1892685747349c04985936cfc57f": {
          "model_module": "@jupyter-widgets/controls",
          "model_module_version": "1.5.0",
          "model_name": "HTMLModel",
          "state": {
            "_dom_classes": [],
            "_model_module": "@jupyter-widgets/controls",
            "_model_module_version": "1.5.0",
            "_model_name": "HTMLModel",
            "_view_count": null,
            "_view_module": "@jupyter-widgets/controls",
            "_view_module_version": "1.5.0",
            "_view_name": "HTMLView",
            "description": "",
            "description_tooltip": null,
            "layout": "IPY_MODEL_3d9db86e0a45438f8fca86bc185127d2",
            "placeholder": "​",
            "style": "IPY_MODEL_3f05f826735c4874858f996f98c726c4",
            "value": " 440M/440M [00:01&lt;00:00, 439MB/s]"
          }
        },
        "3897c446f22c444c83aaeb819d79d3df": {
          "model_module": "@jupyter-widgets/controls",
          "model_module_version": "1.5.0",
          "model_name": "ProgressStyleModel",
          "state": {
            "_model_module": "@jupyter-widgets/controls",
            "_model_module_version": "1.5.0",
            "_model_name": "ProgressStyleModel",
            "_view_count": null,
            "_view_module": "@jupyter-widgets/base",
            "_view_module_version": "1.2.0",
            "_view_name": "StyleView",
            "bar_color": null,
            "description_width": ""
          }
        },
        "3d9db86e0a45438f8fca86bc185127d2": {
          "model_module": "@jupyter-widgets/base",
          "model_module_version": "1.2.0",
          "model_name": "LayoutModel",
          "state": {
            "_model_module": "@jupyter-widgets/base",
            "_model_module_version": "1.2.0",
            "_model_name": "LayoutModel",
            "_view_count": null,
            "_view_module": "@jupyter-widgets/base",
            "_view_module_version": "1.2.0",
            "_view_name": "LayoutView",
            "align_content": null,
            "align_items": null,
            "align_self": null,
            "border": null,
            "bottom": null,
            "display": null,
            "flex": null,
            "flex_flow": null,
            "grid_area": null,
            "grid_auto_columns": null,
            "grid_auto_flow": null,
            "grid_auto_rows": null,
            "grid_column": null,
            "grid_gap": null,
            "grid_row": null,
            "grid_template_areas": null,
            "grid_template_columns": null,
            "grid_template_rows": null,
            "height": null,
            "justify_content": null,
            "justify_items": null,
            "left": null,
            "margin": null,
            "max_height": null,
            "max_width": null,
            "min_height": null,
            "min_width": null,
            "object_fit": null,
            "object_position": null,
            "order": null,
            "overflow": null,
            "overflow_x": null,
            "overflow_y": null,
            "padding": null,
            "right": null,
            "top": null,
            "visibility": null,
            "width": null
          }
        },
        "3f05f826735c4874858f996f98c726c4": {
          "model_module": "@jupyter-widgets/controls",
          "model_module_version": "1.5.0",
          "model_name": "DescriptionStyleModel",
          "state": {
            "_model_module": "@jupyter-widgets/controls",
            "_model_module_version": "1.5.0",
            "_model_name": "DescriptionStyleModel",
            "_view_count": null,
            "_view_module": "@jupyter-widgets/base",
            "_view_module_version": "1.2.0",
            "_view_name": "StyleView",
            "description_width": ""
          }
        },
        "553a53bf8489405eb73e2e83f4044cec": {
          "model_module": "@jupyter-widgets/controls",
          "model_module_version": "1.5.0",
          "model_name": "DescriptionStyleModel",
          "state": {
            "_model_module": "@jupyter-widgets/controls",
            "_model_module_version": "1.5.0",
            "_model_name": "DescriptionStyleModel",
            "_view_count": null,
            "_view_module": "@jupyter-widgets/base",
            "_view_module_version": "1.2.0",
            "_view_name": "StyleView",
            "description_width": ""
          }
        },
        "7e430fd915534d21b4791eac894db3ea": {
          "model_module": "@jupyter-widgets/controls",
          "model_module_version": "1.5.0",
          "model_name": "HTMLModel",
          "state": {
            "_dom_classes": [],
            "_model_module": "@jupyter-widgets/controls",
            "_model_module_version": "1.5.0",
            "_model_name": "HTMLModel",
            "_view_count": null,
            "_view_module": "@jupyter-widgets/controls",
            "_view_module_version": "1.5.0",
            "_view_name": "HTMLView",
            "description": "",
            "description_tooltip": null,
            "layout": "IPY_MODEL_90f6d066ada84cc7b2e4f7eef6e919eb",
            "placeholder": "​",
            "style": "IPY_MODEL_553a53bf8489405eb73e2e83f4044cec",
            "value": "model.safetensors: 100%"
          }
        },
        "90f6d066ada84cc7b2e4f7eef6e919eb": {
          "model_module": "@jupyter-widgets/base",
          "model_module_version": "1.2.0",
          "model_name": "LayoutModel",
          "state": {
            "_model_module": "@jupyter-widgets/base",
            "_model_module_version": "1.2.0",
            "_model_name": "LayoutModel",
            "_view_count": null,
            "_view_module": "@jupyter-widgets/base",
            "_view_module_version": "1.2.0",
            "_view_name": "LayoutView",
            "align_content": null,
            "align_items": null,
            "align_self": null,
            "border": null,
            "bottom": null,
            "display": null,
            "flex": null,
            "flex_flow": null,
            "grid_area": null,
            "grid_auto_columns": null,
            "grid_auto_flow": null,
            "grid_auto_rows": null,
            "grid_column": null,
            "grid_gap": null,
            "grid_row": null,
            "grid_template_areas": null,
            "grid_template_columns": null,
            "grid_template_rows": null,
            "height": null,
            "justify_content": null,
            "justify_items": null,
            "left": null,
            "margin": null,
            "max_height": null,
            "max_width": null,
            "min_height": null,
            "min_width": null,
            "object_fit": null,
            "object_position": null,
            "order": null,
            "overflow": null,
            "overflow_x": null,
            "overflow_y": null,
            "padding": null,
            "right": null,
            "top": null,
            "visibility": null,
            "width": null
          }
        },
        "b59adb710c944c2db10b746fa0d30635": {
          "model_module": "@jupyter-widgets/controls",
          "model_module_version": "1.5.0",
          "model_name": "HBoxModel",
          "state": {
            "_dom_classes": [],
            "_model_module": "@jupyter-widgets/controls",
            "_model_module_version": "1.5.0",
            "_model_name": "HBoxModel",
            "_view_count": null,
            "_view_module": "@jupyter-widgets/controls",
            "_view_module_version": "1.5.0",
            "_view_name": "HBoxView",
            "box_style": "",
            "children": [
              "IPY_MODEL_7e430fd915534d21b4791eac894db3ea",
              "IPY_MODEL_b5e2dd88cf6544cfbcc9314964c75bfa",
              "IPY_MODEL_115e1892685747349c04985936cfc57f"
            ],
            "layout": "IPY_MODEL_0672df6bbdb74189993defd3073b8f5a"
          }
        },
        "b5e2dd88cf6544cfbcc9314964c75bfa": {
          "model_module": "@jupyter-widgets/controls",
          "model_module_version": "1.5.0",
          "model_name": "FloatProgressModel",
          "state": {
            "_dom_classes": [],
            "_model_module": "@jupyter-widgets/controls",
            "_model_module_version": "1.5.0",
            "_model_name": "FloatProgressModel",
            "_view_count": null,
            "_view_module": "@jupyter-widgets/controls",
            "_view_module_version": "1.5.0",
            "_view_name": "ProgressView",
            "bar_style": "success",
            "description": "",
            "description_tooltip": null,
            "layout": "IPY_MODEL_eb2812e00ae24dac8ba7747019f393b2",
            "max": 440449768,
            "min": 0,
            "orientation": "horizontal",
            "style": "IPY_MODEL_3897c446f22c444c83aaeb819d79d3df",
            "value": 440449768
          }
        },
        "eb2812e00ae24dac8ba7747019f393b2": {
          "model_module": "@jupyter-widgets/base",
          "model_module_version": "1.2.0",
          "model_name": "LayoutModel",
          "state": {
            "_model_module": "@jupyter-widgets/base",
            "_model_module_version": "1.2.0",
            "_model_name": "LayoutModel",
            "_view_count": null,
            "_view_module": "@jupyter-widgets/base",
            "_view_module_version": "1.2.0",
            "_view_name": "LayoutView",
            "align_content": null,
            "align_items": null,
            "align_self": null,
            "border": null,
            "bottom": null,
            "display": null,
            "flex": null,
            "flex_flow": null,
            "grid_area": null,
            "grid_auto_columns": null,
            "grid_auto_flow": null,
            "grid_auto_rows": null,
            "grid_column": null,
            "grid_gap": null,
            "grid_row": null,
            "grid_template_areas": null,
            "grid_template_columns": null,
            "grid_template_rows": null,
            "height": null,
            "justify_content": null,
            "justify_items": null,
            "left": null,
            "margin": null,
            "max_height": null,
            "max_width": null,
            "min_height": null,
            "min_width": null,
            "object_fit": null,
            "object_position": null,
            "order": null,
            "overflow": null,
            "overflow_x": null,
            "overflow_y": null,
            "padding": null,
            "right": null,
            "top": null,
            "visibility": null,
            "width": null
          }
        }
      }
    }
  },
  "nbformat": 4,
  "nbformat_minor": 0
}